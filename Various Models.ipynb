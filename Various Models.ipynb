{
 "cells": [
  {
   "cell_type": "code",
   "execution_count": 1,
   "metadata": {},
   "outputs": [],
   "source": [
    "import pandas as pd\n",
    "import matplotlib.pyplot as plt\n",
    "import numpy as np\n",
    "import seaborn as sns"
   ]
  },
  {
   "cell_type": "code",
   "execution_count": 2,
   "metadata": {},
   "outputs": [],
   "source": [
    "df = pd.read_csv(\"ds_exercise_data.csv\")"
   ]
  },
  {
   "cell_type": "code",
   "execution_count": 3,
   "metadata": {},
   "outputs": [
    {
     "data": {
      "text/html": [
       "<div>\n",
       "<style scoped>\n",
       "    .dataframe tbody tr th:only-of-type {\n",
       "        vertical-align: middle;\n",
       "    }\n",
       "\n",
       "    .dataframe tbody tr th {\n",
       "        vertical-align: top;\n",
       "    }\n",
       "\n",
       "    .dataframe thead th {\n",
       "        text-align: right;\n",
       "    }\n",
       "</style>\n",
       "<table border=\"1\" class=\"dataframe\">\n",
       "  <thead>\n",
       "    <tr style=\"text-align: right;\">\n",
       "      <th></th>\n",
       "      <th>Date</th>\n",
       "      <th>CashIn</th>\n",
       "      <th>CashOut</th>\n",
       "    </tr>\n",
       "  </thead>\n",
       "  <tbody>\n",
       "    <tr>\n",
       "      <th>0</th>\n",
       "      <td>1/1/2016</td>\n",
       "      <td>NaN</td>\n",
       "      <td>6500.0</td>\n",
       "    </tr>\n",
       "    <tr>\n",
       "      <th>1</th>\n",
       "      <td>1/2/2016</td>\n",
       "      <td>NaN</td>\n",
       "      <td>23110.0</td>\n",
       "    </tr>\n",
       "    <tr>\n",
       "      <th>2</th>\n",
       "      <td>1/3/2016</td>\n",
       "      <td>NaN</td>\n",
       "      <td>7070.0</td>\n",
       "    </tr>\n",
       "    <tr>\n",
       "      <th>3</th>\n",
       "      <td>1/4/2016</td>\n",
       "      <td>NaN</td>\n",
       "      <td>18520.0</td>\n",
       "    </tr>\n",
       "    <tr>\n",
       "      <th>4</th>\n",
       "      <td>1/5/2016</td>\n",
       "      <td>20840.0</td>\n",
       "      <td>22200.0</td>\n",
       "    </tr>\n",
       "    <tr>\n",
       "      <th>...</th>\n",
       "      <td>...</td>\n",
       "      <td>...</td>\n",
       "      <td>...</td>\n",
       "    </tr>\n",
       "    <tr>\n",
       "      <th>1181</th>\n",
       "      <td>3/27/2019</td>\n",
       "      <td>45160.0</td>\n",
       "      <td>48600.0</td>\n",
       "    </tr>\n",
       "    <tr>\n",
       "      <th>1182</th>\n",
       "      <td>3/28/2019</td>\n",
       "      <td>39480.0</td>\n",
       "      <td>22840.0</td>\n",
       "    </tr>\n",
       "    <tr>\n",
       "      <th>1183</th>\n",
       "      <td>3/29/2019</td>\n",
       "      <td>70260.0</td>\n",
       "      <td>25950.0</td>\n",
       "    </tr>\n",
       "    <tr>\n",
       "      <th>1184</th>\n",
       "      <td>3/30/2019</td>\n",
       "      <td>19250.0</td>\n",
       "      <td>24350.0</td>\n",
       "    </tr>\n",
       "    <tr>\n",
       "      <th>1185</th>\n",
       "      <td>3/31/2019</td>\n",
       "      <td>46870.0</td>\n",
       "      <td>14400.0</td>\n",
       "    </tr>\n",
       "  </tbody>\n",
       "</table>\n",
       "<p>1186 rows × 3 columns</p>\n",
       "</div>"
      ],
      "text/plain": [
       "           Date   CashIn  CashOut\n",
       "0      1/1/2016      NaN   6500.0\n",
       "1      1/2/2016      NaN  23110.0\n",
       "2      1/3/2016      NaN   7070.0\n",
       "3      1/4/2016      NaN  18520.0\n",
       "4      1/5/2016  20840.0  22200.0\n",
       "...         ...      ...      ...\n",
       "1181  3/27/2019  45160.0  48600.0\n",
       "1182  3/28/2019  39480.0  22840.0\n",
       "1183  3/29/2019  70260.0  25950.0\n",
       "1184  3/30/2019  19250.0  24350.0\n",
       "1185  3/31/2019  46870.0  14400.0\n",
       "\n",
       "[1186 rows x 3 columns]"
      ]
     },
     "execution_count": 3,
     "metadata": {},
     "output_type": "execute_result"
    }
   ],
   "source": [
    "df"
   ]
  },
  {
   "cell_type": "code",
   "execution_count": 4,
   "metadata": {},
   "outputs": [],
   "source": [
    "df['Date'] = pd.to_datetime(df['Date'])\n",
    "df['Day'] = df['Date'].dt.day\n",
    "df['Month'] = df['Date'].dt.month\n",
    "df['Year'] = df['Date'].dt.year\n",
    "df['WeekDay'] = df['Date'].dt.weekday\n",
    "df['IsWeekend'] = (df['WeekDay'] >= 5).astype(int)"
   ]
  },
  {
   "cell_type": "code",
   "execution_count": 5,
   "metadata": {},
   "outputs": [],
   "source": [
    "pivot = df.pivot_table(columns=['Year'], index=['WeekDay'], values=['CashIn', 'CashOut'])"
   ]
  },
  {
   "cell_type": "code",
   "execution_count": 6,
   "metadata": {},
   "outputs": [
    {
     "data": {
      "text/plain": [
       "<AxesSubplot:xlabel='WeekDay'>"
      ]
     },
     "execution_count": 6,
     "metadata": {},
     "output_type": "execute_result"
    },
    {
     "data": {
      "image/png": "[encoded data removed]",
      "text/plain": [
       "<Figure size 432x288 with 1 Axes>"
      ]
     },
     "metadata": {
      "needs_background": "light"
     },
     "output_type": "display_data"
    }
   ],
   "source": [
    "(pivot / pivot.sum())['CashIn'].plot(kind='bar')"
   ]
  },
  {
   "cell_type": "code",
   "execution_count": 7,
   "metadata": {},
   "outputs": [
    {
     "data": {
      "text/html": [
       "<div>\n",
       "<style scoped>\n",
       "    .dataframe tbody tr th:only-of-type {\n",
       "        vertical-align: middle;\n",
       "    }\n",
       "\n",
       "    .dataframe tbody tr th {\n",
       "        vertical-align: top;\n",
       "    }\n",
       "\n",
       "    .dataframe thead th {\n",
       "        text-align: right;\n",
       "    }\n",
       "</style>\n",
       "<table border=\"1\" class=\"dataframe\">\n",
       "  <thead>\n",
       "    <tr style=\"text-align: right;\">\n",
       "      <th></th>\n",
       "      <th></th>\n",
       "      <th>CashIn</th>\n",
       "      <th>CashOut</th>\n",
       "    </tr>\n",
       "    <tr>\n",
       "      <th>Year</th>\n",
       "      <th>WeekDay</th>\n",
       "      <th></th>\n",
       "      <th></th>\n",
       "    </tr>\n",
       "  </thead>\n",
       "  <tbody>\n",
       "    <tr>\n",
       "      <th rowspan=\"7\" valign=\"top\">2016</th>\n",
       "      <th>0</th>\n",
       "      <td>0.196377</td>\n",
       "      <td>0.173097</td>\n",
       "    </tr>\n",
       "    <tr>\n",
       "      <th>1</th>\n",
       "      <td>0.167421</td>\n",
       "      <td>0.158804</td>\n",
       "    </tr>\n",
       "    <tr>\n",
       "      <th>2</th>\n",
       "      <td>0.155888</td>\n",
       "      <td>0.142802</td>\n",
       "    </tr>\n",
       "    <tr>\n",
       "      <th>3</th>\n",
       "      <td>0.138340</td>\n",
       "      <td>0.132159</td>\n",
       "    </tr>\n",
       "    <tr>\n",
       "      <th>4</th>\n",
       "      <td>0.146089</td>\n",
       "      <td>0.148093</td>\n",
       "    </tr>\n",
       "    <tr>\n",
       "      <th>5</th>\n",
       "      <td>0.115538</td>\n",
       "      <td>0.164233</td>\n",
       "    </tr>\n",
       "    <tr>\n",
       "      <th>6</th>\n",
       "      <td>0.080347</td>\n",
       "      <td>0.080811</td>\n",
       "    </tr>\n",
       "    <tr>\n",
       "      <th rowspan=\"7\" valign=\"top\">2017</th>\n",
       "      <th>0</th>\n",
       "      <td>0.194604</td>\n",
       "      <td>0.150837</td>\n",
       "    </tr>\n",
       "    <tr>\n",
       "      <th>1</th>\n",
       "      <td>0.149973</td>\n",
       "      <td>0.156049</td>\n",
       "    </tr>\n",
       "    <tr>\n",
       "      <th>2</th>\n",
       "      <td>0.172911</td>\n",
       "      <td>0.156892</td>\n",
       "    </tr>\n",
       "    <tr>\n",
       "      <th>3</th>\n",
       "      <td>0.163053</td>\n",
       "      <td>0.149668</td>\n",
       "    </tr>\n",
       "    <tr>\n",
       "      <th>4</th>\n",
       "      <td>0.131608</td>\n",
       "      <td>0.152143</td>\n",
       "    </tr>\n",
       "    <tr>\n",
       "      <th>5</th>\n",
       "      <td>0.113875</td>\n",
       "      <td>0.156663</td>\n",
       "    </tr>\n",
       "    <tr>\n",
       "      <th>6</th>\n",
       "      <td>0.073977</td>\n",
       "      <td>0.077748</td>\n",
       "    </tr>\n",
       "    <tr>\n",
       "      <th rowspan=\"7\" valign=\"top\">2018</th>\n",
       "      <th>0</th>\n",
       "      <td>0.204081</td>\n",
       "      <td>0.164964</td>\n",
       "    </tr>\n",
       "    <tr>\n",
       "      <th>1</th>\n",
       "      <td>0.153906</td>\n",
       "      <td>0.149710</td>\n",
       "    </tr>\n",
       "    <tr>\n",
       "      <th>2</th>\n",
       "      <td>0.162192</td>\n",
       "      <td>0.134762</td>\n",
       "    </tr>\n",
       "    <tr>\n",
       "      <th>3</th>\n",
       "      <td>0.149701</td>\n",
       "      <td>0.142392</td>\n",
       "    </tr>\n",
       "    <tr>\n",
       "      <th>4</th>\n",
       "      <td>0.150097</td>\n",
       "      <td>0.171056</td>\n",
       "    </tr>\n",
       "    <tr>\n",
       "      <th>5</th>\n",
       "      <td>0.108326</td>\n",
       "      <td>0.168862</td>\n",
       "    </tr>\n",
       "    <tr>\n",
       "      <th>6</th>\n",
       "      <td>0.071697</td>\n",
       "      <td>0.068254</td>\n",
       "    </tr>\n",
       "    <tr>\n",
       "      <th rowspan=\"7\" valign=\"top\">2019</th>\n",
       "      <th>0</th>\n",
       "      <td>0.186140</td>\n",
       "      <td>0.169631</td>\n",
       "    </tr>\n",
       "    <tr>\n",
       "      <th>1</th>\n",
       "      <td>0.156226</td>\n",
       "      <td>0.132029</td>\n",
       "    </tr>\n",
       "    <tr>\n",
       "      <th>2</th>\n",
       "      <td>0.148115</td>\n",
       "      <td>0.145909</td>\n",
       "    </tr>\n",
       "    <tr>\n",
       "      <th>3</th>\n",
       "      <td>0.147888</td>\n",
       "      <td>0.134095</td>\n",
       "    </tr>\n",
       "    <tr>\n",
       "      <th>4</th>\n",
       "      <td>0.168509</td>\n",
       "      <td>0.194879</td>\n",
       "    </tr>\n",
       "    <tr>\n",
       "      <th>5</th>\n",
       "      <td>0.122631</td>\n",
       "      <td>0.150936</td>\n",
       "    </tr>\n",
       "    <tr>\n",
       "      <th>6</th>\n",
       "      <td>0.070490</td>\n",
       "      <td>0.072521</td>\n",
       "    </tr>\n",
       "  </tbody>\n",
       "</table>\n",
       "</div>"
      ],
      "text/plain": [
       "                CashIn   CashOut\n",
       "Year WeekDay                    \n",
       "2016 0        0.196377  0.173097\n",
       "     1        0.167421  0.158804\n",
       "     2        0.155888  0.142802\n",
       "     3        0.138340  0.132159\n",
       "     4        0.146089  0.148093\n",
       "     5        0.115538  0.164233\n",
       "     6        0.080347  0.080811\n",
       "2017 0        0.194604  0.150837\n",
       "     1        0.149973  0.156049\n",
       "     2        0.172911  0.156892\n",
       "     3        0.163053  0.149668\n",
       "     4        0.131608  0.152143\n",
       "     5        0.113875  0.156663\n",
       "     6        0.073977  0.077748\n",
       "2018 0        0.204081  0.164964\n",
       "     1        0.153906  0.149710\n",
       "     2        0.162192  0.134762\n",
       "     3        0.149701  0.142392\n",
       "     4        0.150097  0.171056\n",
       "     5        0.108326  0.168862\n",
       "     6        0.071697  0.068254\n",
       "2019 0        0.186140  0.169631\n",
       "     1        0.156226  0.132029\n",
       "     2        0.148115  0.145909\n",
       "     3        0.147888  0.134095\n",
       "     4        0.168509  0.194879\n",
       "     5        0.122631  0.150936\n",
       "     6        0.070490  0.072521"
      ]
     },
     "execution_count": 7,
     "metadata": {},
     "output_type": "execute_result"
    }
   ],
   "source": [
    "(df.groupby(['Year', 'WeekDay'])[['CashIn', 'CashOut']].mean() / \n",
    " df.groupby(['Year', 'WeekDay'])[['CashIn', 'CashOut']].mean().groupby(level=0).sum()).sort_index()"
   ]
  },
  {
   "cell_type": "code",
   "execution_count": 8,
   "metadata": {},
   "outputs": [
    {
     "data": {
      "text/plain": [
       "<matplotlib.legend.Legend at 0x2a11427ea88>"
      ]
     },
     "execution_count": 8,
     "metadata": {},
     "output_type": "execute_result"
    },
    {
     "data": {
      "image/png": "[encoded data removed]",
      "text/plain": [
       "<Figure size 1296x288 with 1 Axes>"
      ]
     },
     "metadata": {
      "needs_background": "light"
     },
     "output_type": "display_data"
    }
   ],
   "source": [
    "plt.figure(figsize=(18,4))\n",
    "df.set_index('Date').resample(\"M\")['CashIn'].mean().plot(label='Avg CashIn')\n",
    "df.set_index('Date').resample(\"M\")['CashOut'].mean().plot(label='Avg CashOut')\n",
    "plt.legend()"
   ]
  },
  {
   "cell_type": "code",
   "execution_count": 9,
   "metadata": {},
   "outputs": [
    {
     "data": {
      "text/plain": [
       "<matplotlib.legend.Legend at 0x2a11450c708>"
      ]
     },
     "execution_count": 9,
     "metadata": {},
     "output_type": "execute_result"
    },
    {
     "data": {
      "image/png": "[encoded data removed]",
      "text/plain": [
       "<Figure size 432x288 with 1 Axes>"
      ]
     },
     "metadata": {
      "needs_background": "light"
     },
     "output_type": "display_data"
    }
   ],
   "source": [
    "df.set_index('Date').resample(\"W\")['CashIn'].mean().plot(label='Avg CashIn')\n",
    "df.set_index('Date').resample(\"W\")['CashOut'].mean().plot(label='Avg CashOut')\n",
    "plt.legend()"
   ]
  },
  {
   "cell_type": "code",
   "execution_count": 10,
   "metadata": {},
   "outputs": [
    {
     "data": {
      "text/plain": [
       "<AxesSubplot:xlabel='WeekDay', ylabel='CashIn'>"
      ]
     },
     "execution_count": 10,
     "metadata": {},
     "output_type": "execute_result"
    },
    {
     "data": {
      "image/png": "[encoded data removed]",
      "text/plain": [
       "<Figure size 432x288 with 1 Axes>"
      ]
     },
     "metadata": {
      "needs_background": "light"
     },
     "output_type": "display_data"
    }
   ],
   "source": [
    "sns.boxplot(x=df['WeekDay'], y=df['CashIn'])"
   ]
  },
  {
   "cell_type": "code",
   "execution_count": 11,
   "metadata": {},
   "outputs": [
    {
     "data": {
      "text/plain": [
       "<AxesSubplot:xlabel='Month', ylabel='CashOut'>"
      ]
     },
     "execution_count": 11,
     "metadata": {},
     "output_type": "execute_result"
    },
    {
     "data": {
      "image/png": "[encoded data removed]",
      "text/plain": [
       "<Figure size 432x288 with 1 Axes>"
      ]
     },
     "metadata": {
      "needs_background": "light"
     },
     "output_type": "display_data"
    }
   ],
   "source": [
    "sns.boxplot(x=df['Month'], y=df['CashOut'])"
   ]
  },
  {
   "cell_type": "code",
   "execution_count": 12,
   "metadata": {},
   "outputs": [
    {
     "data": {
      "text/plain": [
       "<AxesSubplot:xlabel='Year', ylabel='CashIn'>"
      ]
     },
     "execution_count": 12,
     "metadata": {},
     "output_type": "execute_result"
    },
    {
     "data": {
      "image/png": "[encoded data removed]",
      "text/plain": [
       "<Figure size 432x288 with 1 Axes>"
      ]
     },
     "metadata": {
      "needs_background": "light"
     },
     "output_type": "display_data"
    }
   ],
   "source": [
    "sns.boxplot(x=df['Year'], y=df['CashIn'])"
   ]
  },
  {
   "cell_type": "code",
   "execution_count": 13,
   "metadata": {},
   "outputs": [
    {
     "data": {
      "text/plain": [
       "<AxesSubplot:xlabel='WeekDay', ylabel='CashOut'>"
      ]
     },
     "execution_count": 13,
     "metadata": {},
     "output_type": "execute_result"
    },
    {
     "data": {
      "image/png": "[encoded data removed]",
      "text/plain": [
       "<Figure size 432x288 with 1 Axes>"
      ]
     },
     "metadata": {
      "needs_background": "light"
     },
     "output_type": "display_data"
    }
   ],
   "source": [
    "sns.boxplot(x=df['WeekDay'], y=df['CashOut'])"
   ]
  },
  {
   "cell_type": "code",
   "execution_count": 14,
   "metadata": {},
   "outputs": [
    {
     "data": {
      "text/plain": [
       "<AxesSubplot:xlabel='IsWeekend', ylabel='CashIn'>"
      ]
     },
     "execution_count": 14,
     "metadata": {},
     "output_type": "execute_result"
    },
    {
     "data": {
      "image/png": "[encoded data removed]",
      "text/plain": [
       "<Figure size 432x288 with 1 Axes>"
      ]
     },
     "metadata": {
      "needs_background": "light"
     },
     "output_type": "display_data"
    }
   ],
   "source": [
    "sns.boxplot(x=df['IsWeekend'], y=df['CashIn'])"
   ]
  },
  {
   "cell_type": "code",
   "execution_count": 15,
   "metadata": {},
   "outputs": [
    {
     "data": {
      "text/plain": [
       "<AxesSubplot:xlabel='CashIn', ylabel='Month'>"
      ]
     },
     "execution_count": 15,
     "metadata": {},
     "output_type": "execute_result"
    },
    {
     "data": {
      "image/png": "[encoded data removed]",
      "text/plain": [
       "<Figure size 432x288 with 1 Axes>"
      ]
     },
     "metadata": {
      "needs_background": "light"
     },
     "output_type": "display_data"
    }
   ],
   "source": [
    "df.plot(kind='scatter', x='CashIn', y='Month')"
   ]
  },
  {
   "cell_type": "code",
   "execution_count": 16,
   "metadata": {},
   "outputs": [
    {
     "data": {
      "text/plain": [
       "5"
      ]
     },
     "execution_count": 16,
     "metadata": {},
     "output_type": "execute_result"
    }
   ],
   "source": [
    "df['Date'][0].isoweekday()"
   ]
  },
  {
   "cell_type": "code",
   "execution_count": 17,
   "metadata": {},
   "outputs": [
    {
     "data": {
      "text/html": [
       "<div>\n",
       "<style scoped>\n",
       "    .dataframe tbody tr th:only-of-type {\n",
       "        vertical-align: middle;\n",
       "    }\n",
       "\n",
       "    .dataframe tbody tr th {\n",
       "        vertical-align: top;\n",
       "    }\n",
       "\n",
       "    .dataframe thead th {\n",
       "        text-align: right;\n",
       "    }\n",
       "</style>\n",
       "<table border=\"1\" class=\"dataframe\">\n",
       "  <thead>\n",
       "    <tr style=\"text-align: right;\">\n",
       "      <th></th>\n",
       "      <th>Year</th>\n",
       "      <th>Month</th>\n",
       "      <th>WeekDay</th>\n",
       "      <th>Date</th>\n",
       "      <th>CashIn</th>\n",
       "      <th>CashOut</th>\n",
       "      <th>Day</th>\n",
       "      <th>IsWeekend</th>\n",
       "    </tr>\n",
       "  </thead>\n",
       "  <tbody>\n",
       "    <tr>\n",
       "      <th>16</th>\n",
       "      <td>2016</td>\n",
       "      <td>1</td>\n",
       "      <td>4</td>\n",
       "      <td>2016-01-01</td>\n",
       "      <td>36380.000000</td>\n",
       "      <td>6500.0</td>\n",
       "      <td>1</td>\n",
       "      <td>0</td>\n",
       "    </tr>\n",
       "    <tr>\n",
       "      <th>21</th>\n",
       "      <td>2016</td>\n",
       "      <td>1</td>\n",
       "      <td>5</td>\n",
       "      <td>2016-01-02</td>\n",
       "      <td>13180.000000</td>\n",
       "      <td>23110.0</td>\n",
       "      <td>2</td>\n",
       "      <td>1</td>\n",
       "    </tr>\n",
       "    <tr>\n",
       "      <th>26</th>\n",
       "      <td>2016</td>\n",
       "      <td>1</td>\n",
       "      <td>6</td>\n",
       "      <td>2016-01-03</td>\n",
       "      <td>28860.000000</td>\n",
       "      <td>7070.0</td>\n",
       "      <td>3</td>\n",
       "      <td>1</td>\n",
       "    </tr>\n",
       "    <tr>\n",
       "      <th>0</th>\n",
       "      <td>2016</td>\n",
       "      <td>1</td>\n",
       "      <td>0</td>\n",
       "      <td>2016-01-04</td>\n",
       "      <td>34523.333333</td>\n",
       "      <td>18520.0</td>\n",
       "      <td>4</td>\n",
       "      <td>0</td>\n",
       "    </tr>\n",
       "    <tr>\n",
       "      <th>4</th>\n",
       "      <td>2016</td>\n",
       "      <td>1</td>\n",
       "      <td>1</td>\n",
       "      <td>2016-01-05</td>\n",
       "      <td>20840.000000</td>\n",
       "      <td>22200.0</td>\n",
       "      <td>5</td>\n",
       "      <td>0</td>\n",
       "    </tr>\n",
       "  </tbody>\n",
       "</table>\n",
       "</div>"
      ],
      "text/plain": [
       "    Year  Month  WeekDay       Date        CashIn  CashOut  Day  IsWeekend\n",
       "16  2016      1        4 2016-01-01  36380.000000   6500.0    1          0\n",
       "21  2016      1        5 2016-01-02  13180.000000  23110.0    2          1\n",
       "26  2016      1        6 2016-01-03  28860.000000   7070.0    3          1\n",
       "0   2016      1        0 2016-01-04  34523.333333  18520.0    4          0\n",
       "4   2016      1        1 2016-01-05  20840.000000  22200.0    5          0"
      ]
     },
     "execution_count": 17,
     "metadata": {},
     "output_type": "execute_result"
    }
   ],
   "source": [
    "dfX = \\\n",
    "df.groupby(['Year', 'Month', 'WeekDay'])[['CashIn', 'CashOut']].mean() \\\n",
    "    .rename(lambda x: x + '_mean', axis=1) \\\n",
    "    .reset_index() \\\n",
    "    .merge(df) \\\n",
    "    .assign(\n",
    "        CashIn=lambda df: df['CashIn'].fillna(df['CashIn_mean']),\n",
    "        CashOut=lambda df: df['CashOut'].fillna(df['CashOut_mean']),   \n",
    "    ) \\\n",
    "    .drop(['CashIn_mean', 'CashOut_mean'], 1) \\\n",
    "    .sort_values(['Date'])\n",
    "dfX.head()"
   ]
  },
  {
   "cell_type": "code",
   "execution_count": 18,
   "metadata": {},
   "outputs": [],
   "source": [
    "X = dfX.drop(['CashIn', 'CashOut', 'Date'], 1)\n",
    "y = dfX[['CashIn', 'CashOut']]"
   ]
  },
  {
   "cell_type": "code",
   "execution_count": 19,
   "metadata": {},
   "outputs": [
    {
     "data": {
      "text/html": [
       "<div>\n",
       "<style scoped>\n",
       "    .dataframe tbody tr th:only-of-type {\n",
       "        vertical-align: middle;\n",
       "    }\n",
       "\n",
       "    .dataframe tbody tr th {\n",
       "        vertical-align: top;\n",
       "    }\n",
       "\n",
       "    .dataframe thead th {\n",
       "        text-align: right;\n",
       "    }\n",
       "</style>\n",
       "<table border=\"1\" class=\"dataframe\">\n",
       "  <thead>\n",
       "    <tr style=\"text-align: right;\">\n",
       "      <th></th>\n",
       "      <th>CashIn</th>\n",
       "      <th>CashOut</th>\n",
       "    </tr>\n",
       "  </thead>\n",
       "  <tbody>\n",
       "    <tr>\n",
       "      <th>16</th>\n",
       "      <td>NaN</td>\n",
       "      <td>NaN</td>\n",
       "    </tr>\n",
       "    <tr>\n",
       "      <th>21</th>\n",
       "      <td>36380.000000</td>\n",
       "      <td>6500.0</td>\n",
       "    </tr>\n",
       "    <tr>\n",
       "      <th>26</th>\n",
       "      <td>13180.000000</td>\n",
       "      <td>23110.0</td>\n",
       "    </tr>\n",
       "    <tr>\n",
       "      <th>0</th>\n",
       "      <td>28860.000000</td>\n",
       "      <td>7070.0</td>\n",
       "    </tr>\n",
       "    <tr>\n",
       "      <th>4</th>\n",
       "      <td>34523.333333</td>\n",
       "      <td>18520.0</td>\n",
       "    </tr>\n",
       "    <tr>\n",
       "      <th>...</th>\n",
       "      <td>...</td>\n",
       "      <td>...</td>\n",
       "    </tr>\n",
       "    <tr>\n",
       "      <th>1166</th>\n",
       "      <td>49270.000000</td>\n",
       "      <td>17860.0</td>\n",
       "    </tr>\n",
       "    <tr>\n",
       "      <th>1170</th>\n",
       "      <td>45160.000000</td>\n",
       "      <td>48600.0</td>\n",
       "    </tr>\n",
       "    <tr>\n",
       "      <th>1175</th>\n",
       "      <td>39480.000000</td>\n",
       "      <td>22840.0</td>\n",
       "    </tr>\n",
       "    <tr>\n",
       "      <th>1180</th>\n",
       "      <td>70260.000000</td>\n",
       "      <td>25950.0</td>\n",
       "    </tr>\n",
       "    <tr>\n",
       "      <th>1185</th>\n",
       "      <td>19250.000000</td>\n",
       "      <td>24350.0</td>\n",
       "    </tr>\n",
       "  </tbody>\n",
       "</table>\n",
       "<p>1186 rows × 2 columns</p>\n",
       "</div>"
      ],
      "text/plain": [
       "            CashIn  CashOut\n",
       "16             NaN      NaN\n",
       "21    36380.000000   6500.0\n",
       "26    13180.000000  23110.0\n",
       "0     28860.000000   7070.0\n",
       "4     34523.333333  18520.0\n",
       "...            ...      ...\n",
       "1166  49270.000000  17860.0\n",
       "1170  45160.000000  48600.0\n",
       "1175  39480.000000  22840.0\n",
       "1180  70260.000000  25950.0\n",
       "1185  19250.000000  24350.0\n",
       "\n",
       "[1186 rows x 2 columns]"
      ]
     },
     "execution_count": 19,
     "metadata": {},
     "output_type": "execute_result"
    }
   ],
   "source": [
    "y.shift(1)"
   ]
  },
  {
   "cell_type": "code",
   "execution_count": 20,
   "metadata": {},
   "outputs": [],
   "source": [
    "def mape(y_true, y_pred):\n",
    "    y_pred = y_pred[(y_true>0).all(axis=1)]\n",
    "    y_true = y_true[(y_true>0).all(axis=1)]\n",
    "    \n",
    "    return np.abs((y_true - y_pred) / (y_true)).mean().mean() * 100."
   ]
  },
  {
   "cell_type": "code",
   "execution_count": 21,
   "metadata": {},
   "outputs": [],
   "source": [
    "def wape(y_true, y_pred):\n",
    "    y_pred = y_pred[(y_true>0).all(axis=1)]\n",
    "    y_true = y_true[(y_true>0).all(axis=1)]\n",
    "    \n",
    "    return np.abs((y_true - y_pred) / (y_true)).mean().mean() * 100."
   ]
  },
  {
   "cell_type": "code",
   "execution_count": 22,
   "metadata": {},
   "outputs": [],
   "source": [
    "from sklearn import pipeline, compose, linear_model, preprocessing, model_selection, feature_selection, tree, metrics\n",
    "\n",
    "ml_pipe = \\\n",
    "pipeline.Pipeline(\n",
    "    [\n",
    "        ('encoder', compose.ColumnTransformer(\n",
    "            [\n",
    "                ('ohe', preprocessing.OneHotEncoder(categories='auto'), ['Month', 'Day', 'IsWeekend', 'Year'])\n",
    "                ], remainder='passthrough')\n",
    "            ),\n",
    "        ('scaler', preprocessing.MaxAbsScaler()),\n",
    "#         ('selector', feature_selection.SelectKBest(k=65, score_func=feature_selection.f_oneway)),\n",
    "#         ('estimator', tree.DecisionTreeRegressor(max_depth=3)),\n",
    "        ('estimator', linear_model.LinearRegression()),\n",
    "        ]\n",
    ")"
   ]
  },
  {
   "cell_type": "code",
   "execution_count": 266,
   "metadata": {},
   "outputs": [
    {
     "data": {
      "text/plain": [
       "fit_time      1.125174e-02\n",
       "score_time    1.716090e-02\n",
       "test_r2       2.996449e-01\n",
       "train_r2      3.676586e-01\n",
       "test_mae      1.216643e+04\n",
       "train_mae     1.160970e+04\n",
       "test_mse      2.548308e+08\n",
       "train_mse     2.311165e+08\n",
       "test_mape     9.815135e+01\n",
       "train_mape    1.042282e+02\n",
       "dtype: float64"
      ]
     },
     "execution_count": 266,
     "metadata": {},
     "output_type": "execute_result"
    }
   ],
   "source": [
    "cv_results = \\\n",
    "model_selection.cross_validate(\n",
    "    ml_pipe, X, y, cv=model_selection.ShuffleSplit(n_splits=20, test_size=0.2),\n",
    "    scoring={\n",
    "        'r2': metrics.make_scorer(metrics.r2_score),\n",
    "        'mae': metrics.make_scorer(metrics.mean_absolute_error),\n",
    "        'mse': metrics.make_scorer(metrics.mean_squared_error),\n",
    "        'mape': metrics.make_scorer(mape)\n",
    "    },\n",
    "    return_train_score=True\n",
    ")\n",
    "pd.DataFrame(cv_results).mean()"
   ]
  },
  {
   "cell_type": "code",
   "execution_count": 279,
   "metadata": {},
   "outputs": [
    {
     "data": {
      "text/plain": [
       "fit_time      21.680828\n",
       "score_time     0.065400\n",
       "test_r2        0.255188\n",
       "train_r2       0.411122\n",
       "test_mae       0.427840\n",
       "train_mae      0.387939\n",
       "test_mse       0.459536\n",
       "train_mse      0.361943\n",
       "test_mape      4.312624\n",
       "train_mape     3.938474\n",
       "dtype: float64"
      ]
     },
     "execution_count": 279,
     "metadata": {},
     "output_type": "execute_result"
    }
   ],
   "source": [
    "from sklearn import pipeline, compose, linear_model, preprocessing, model_selection, feature_selection, tree, metrics, ensemble\n",
    "\n",
    "ml_pipe = \\\n",
    "pipeline.Pipeline(\n",
    "    [\n",
    "        ('encoder', compose.ColumnTransformer(\n",
    "            [\n",
    "                ('ohe', preprocessing.OneHotEncoder(categories='auto'), ['Month', 'Day', 'IsWeekend'])\n",
    "                ], remainder='passthrough')\n",
    "            ),\n",
    "        ('scaler', preprocessing.MaxAbsScaler()),\n",
    "#         ('selector', feature_selection.SelectKBest(k=65, score_func=feature_selection.f_oneway)),\n",
    "#         ('estimator', tree.DecisionTreeRegressor(max_depth=3)),\n",
    "#         ('estimator', ensemble.RandomForestRegressor(n_estimators=100, max_depth=20)),\n",
    "        ('estimator', model_selection.GridSearchCV(\n",
    "            ensemble.RandomForestRegressor(n_estimators=100),\n",
    "            param_grid={\n",
    "                \"max_depth\": [1, 10, 20, None],\n",
    "                \"min_samples_leaf\": [1, 5, 10, 20],\n",
    "                },\n",
    "            cv=model_selection.KFold(n_splits=5, shuffle=True, random_state=42),\n",
    "            )\n",
    "            ),\n",
    "        \n",
    "        ]\n",
    ")\n",
    "\n",
    "cv_results = \\\n",
    "model_selection.cross_validate(\n",
    "    ml_pipe, X, np.log(y + 1), cv=model_selection.ShuffleSplit(n_splits=30, test_size=0.3),\n",
    "    scoring={\n",
    "        'r2': metrics.make_scorer(metrics.r2_score),\n",
    "        'mae': metrics.make_scorer(metrics.mean_absolute_error),\n",
    "        'mse': metrics.make_scorer(metrics.mean_squared_error),\n",
    "        'mape': metrics.make_scorer(mape)\n",
    "    },\n",
    "    return_train_score=True,\n",
    "    n_jobs=-1\n",
    ")\n",
    "pd.DataFrame(cv_results).mean()"
   ]
  },
  {
   "cell_type": "code",
   "execution_count": 438,
   "metadata": {},
   "outputs": [
    {
     "name": "stderr",
     "output_type": "stream",
     "text": [
      "c:\\users\\berk_\\appdata\\local\\programs\\python\\python37\\lib\\site-packages\\sklearn\\base.py:420: FutureWarning: The default value of multioutput (not exposed in score method) will change from 'variance_weighted' to 'uniform_average' in 0.23 to keep consistent with 'metrics.r2_score'. To specify the default value manually and avoid the warning, please either call 'metrics.r2_score' directly or make a custom scorer with 'metrics.make_scorer' (the built-in scorer 'r2' uses multioutput='uniform_average').\n",
      "  \"multioutput='uniform_average').\", FutureWarning)\n",
      "c:\\users\\berk_\\appdata\\local\\programs\\python\\python37\\lib\\site-packages\\sklearn\\base.py:420: FutureWarning: The default value of multioutput (not exposed in score method) will change from 'variance_weighted' to 'uniform_average' in 0.23 to keep consistent with 'metrics.r2_score'. To specify the default value manually and avoid the warning, please either call 'metrics.r2_score' directly or make a custom scorer with 'metrics.make_scorer' (the built-in scorer 'r2' uses multioutput='uniform_average').\n",
      "  \"multioutput='uniform_average').\", FutureWarning)\n",
      "c:\\users\\berk_\\appdata\\local\\programs\\python\\python37\\lib\\site-packages\\sklearn\\base.py:420: FutureWarning: The default value of multioutput (not exposed in score method) will change from 'variance_weighted' to 'uniform_average' in 0.23 to keep consistent with 'metrics.r2_score'. To specify the default value manually and avoid the warning, please either call 'metrics.r2_score' directly or make a custom scorer with 'metrics.make_scorer' (the built-in scorer 'r2' uses multioutput='uniform_average').\n",
      "  \"multioutput='uniform_average').\", FutureWarning)\n",
      "c:\\users\\berk_\\appdata\\local\\programs\\python\\python37\\lib\\site-packages\\sklearn\\base.py:420: FutureWarning: The default value of multioutput (not exposed in score method) will change from 'variance_weighted' to 'uniform_average' in 0.23 to keep consistent with 'metrics.r2_score'. To specify the default value manually and avoid the warning, please either call 'metrics.r2_score' directly or make a custom scorer with 'metrics.make_scorer' (the built-in scorer 'r2' uses multioutput='uniform_average').\n",
      "  \"multioutput='uniform_average').\", FutureWarning)\n",
      "c:\\users\\berk_\\appdata\\local\\programs\\python\\python37\\lib\\site-packages\\sklearn\\base.py:420: FutureWarning: The default value of multioutput (not exposed in score method) will change from 'variance_weighted' to 'uniform_average' in 0.23 to keep consistent with 'metrics.r2_score'. To specify the default value manually and avoid the warning, please either call 'metrics.r2_score' directly or make a custom scorer with 'metrics.make_scorer' (the built-in scorer 'r2' uses multioutput='uniform_average').\n",
      "  \"multioutput='uniform_average').\", FutureWarning)\n",
      "c:\\users\\berk_\\appdata\\local\\programs\\python\\python37\\lib\\site-packages\\sklearn\\base.py:420: FutureWarning: The default value of multioutput (not exposed in score method) will change from 'variance_weighted' to 'uniform_average' in 0.23 to keep consistent with 'metrics.r2_score'. To specify the default value manually and avoid the warning, please either call 'metrics.r2_score' directly or make a custom scorer with 'metrics.make_scorer' (the built-in scorer 'r2' uses multioutput='uniform_average').\n",
      "  \"multioutput='uniform_average').\", FutureWarning)\n",
      "c:\\users\\berk_\\appdata\\local\\programs\\python\\python37\\lib\\site-packages\\sklearn\\base.py:420: FutureWarning: The default value of multioutput (not exposed in score method) will change from 'variance_weighted' to 'uniform_average' in 0.23 to keep consistent with 'metrics.r2_score'. To specify the default value manually and avoid the warning, please either call 'metrics.r2_score' directly or make a custom scorer with 'metrics.make_scorer' (the built-in scorer 'r2' uses multioutput='uniform_average').\n",
      "  \"multioutput='uniform_average').\", FutureWarning)\n",
      "c:\\users\\berk_\\appdata\\local\\programs\\python\\python37\\lib\\site-packages\\sklearn\\base.py:420: FutureWarning: The default value of multioutput (not exposed in score method) will change from 'variance_weighted' to 'uniform_average' in 0.23 to keep consistent with 'metrics.r2_score'. To specify the default value manually and avoid the warning, please either call 'metrics.r2_score' directly or make a custom scorer with 'metrics.make_scorer' (the built-in scorer 'r2' uses multioutput='uniform_average').\n",
      "  \"multioutput='uniform_average').\", FutureWarning)\n",
      "c:\\users\\berk_\\appdata\\local\\programs\\python\\python37\\lib\\site-packages\\sklearn\\base.py:420: FutureWarning: The default value of multioutput (not exposed in score method) will change from 'variance_weighted' to 'uniform_average' in 0.23 to keep consistent with 'metrics.r2_score'. To specify the default value manually and avoid the warning, please either call 'metrics.r2_score' directly or make a custom scorer with 'metrics.make_scorer' (the built-in scorer 'r2' uses multioutput='uniform_average').\n",
      "  \"multioutput='uniform_average').\", FutureWarning)\n",
      "c:\\users\\berk_\\appdata\\local\\programs\\python\\python37\\lib\\site-packages\\sklearn\\base.py:420: FutureWarning: The default value of multioutput (not exposed in score method) will change from 'variance_weighted' to 'uniform_average' in 0.23 to keep consistent with 'metrics.r2_score'. To specify the default value manually and avoid the warning, please either call 'metrics.r2_score' directly or make a custom scorer with 'metrics.make_scorer' (the built-in scorer 'r2' uses multioutput='uniform_average').\n",
      "  \"multioutput='uniform_average').\", FutureWarning)\n",
      "c:\\users\\berk_\\appdata\\local\\programs\\python\\python37\\lib\\site-packages\\sklearn\\base.py:420: FutureWarning: The default value of multioutput (not exposed in score method) will change from 'variance_weighted' to 'uniform_average' in 0.23 to keep consistent with 'metrics.r2_score'. To specify the default value manually and avoid the warning, please either call 'metrics.r2_score' directly or make a custom scorer with 'metrics.make_scorer' (the built-in scorer 'r2' uses multioutput='uniform_average').\n",
      "  \"multioutput='uniform_average').\", FutureWarning)\n",
      "c:\\users\\berk_\\appdata\\local\\programs\\python\\python37\\lib\\site-packages\\sklearn\\base.py:420: FutureWarning: The default value of multioutput (not exposed in score method) will change from 'variance_weighted' to 'uniform_average' in 0.23 to keep consistent with 'metrics.r2_score'. To specify the default value manually and avoid the warning, please either call 'metrics.r2_score' directly or make a custom scorer with 'metrics.make_scorer' (the built-in scorer 'r2' uses multioutput='uniform_average').\n",
      "  \"multioutput='uniform_average').\", FutureWarning)\n",
      "c:\\users\\berk_\\appdata\\local\\programs\\python\\python37\\lib\\site-packages\\sklearn\\base.py:420: FutureWarning: The default value of multioutput (not exposed in score method) will change from 'variance_weighted' to 'uniform_average' in 0.23 to keep consistent with 'metrics.r2_score'. To specify the default value manually and avoid the warning, please either call 'metrics.r2_score' directly or make a custom scorer with 'metrics.make_scorer' (the built-in scorer 'r2' uses multioutput='uniform_average').\n",
      "  \"multioutput='uniform_average').\", FutureWarning)\n",
      "c:\\users\\berk_\\appdata\\local\\programs\\python\\python37\\lib\\site-packages\\sklearn\\base.py:420: FutureWarning: The default value of multioutput (not exposed in score method) will change from 'variance_weighted' to 'uniform_average' in 0.23 to keep consistent with 'metrics.r2_score'. To specify the default value manually and avoid the warning, please either call 'metrics.r2_score' directly or make a custom scorer with 'metrics.make_scorer' (the built-in scorer 'r2' uses multioutput='uniform_average').\n",
      "  \"multioutput='uniform_average').\", FutureWarning)\n",
      "c:\\users\\berk_\\appdata\\local\\programs\\python\\python37\\lib\\site-packages\\sklearn\\base.py:420: FutureWarning: The default value of multioutput (not exposed in score method) will change from 'variance_weighted' to 'uniform_average' in 0.23 to keep consistent with 'metrics.r2_score'. To specify the default value manually and avoid the warning, please either call 'metrics.r2_score' directly or make a custom scorer with 'metrics.make_scorer' (the built-in scorer 'r2' uses multioutput='uniform_average').\n",
      "  \"multioutput='uniform_average').\", FutureWarning)\n"
     ]
    },
    {
     "name": "stderr",
     "output_type": "stream",
     "text": [
      "c:\\users\\berk_\\appdata\\local\\programs\\python\\python37\\lib\\site-packages\\sklearn\\base.py:420: FutureWarning: The default value of multioutput (not exposed in score method) will change from 'variance_weighted' to 'uniform_average' in 0.23 to keep consistent with 'metrics.r2_score'. To specify the default value manually and avoid the warning, please either call 'metrics.r2_score' directly or make a custom scorer with 'metrics.make_scorer' (the built-in scorer 'r2' uses multioutput='uniform_average').\n",
      "  \"multioutput='uniform_average').\", FutureWarning)\n",
      "c:\\users\\berk_\\appdata\\local\\programs\\python\\python37\\lib\\site-packages\\sklearn\\base.py:420: FutureWarning: The default value of multioutput (not exposed in score method) will change from 'variance_weighted' to 'uniform_average' in 0.23 to keep consistent with 'metrics.r2_score'. To specify the default value manually and avoid the warning, please either call 'metrics.r2_score' directly or make a custom scorer with 'metrics.make_scorer' (the built-in scorer 'r2' uses multioutput='uniform_average').\n",
      "  \"multioutput='uniform_average').\", FutureWarning)\n",
      "c:\\users\\berk_\\appdata\\local\\programs\\python\\python37\\lib\\site-packages\\sklearn\\base.py:420: FutureWarning: The default value of multioutput (not exposed in score method) will change from 'variance_weighted' to 'uniform_average' in 0.23 to keep consistent with 'metrics.r2_score'. To specify the default value manually and avoid the warning, please either call 'metrics.r2_score' directly or make a custom scorer with 'metrics.make_scorer' (the built-in scorer 'r2' uses multioutput='uniform_average').\n",
      "  \"multioutput='uniform_average').\", FutureWarning)\n",
      "c:\\users\\berk_\\appdata\\local\\programs\\python\\python37\\lib\\site-packages\\sklearn\\base.py:420: FutureWarning: The default value of multioutput (not exposed in score method) will change from 'variance_weighted' to 'uniform_average' in 0.23 to keep consistent with 'metrics.r2_score'. To specify the default value manually and avoid the warning, please either call 'metrics.r2_score' directly or make a custom scorer with 'metrics.make_scorer' (the built-in scorer 'r2' uses multioutput='uniform_average').\n",
      "  \"multioutput='uniform_average').\", FutureWarning)\n",
      "c:\\users\\berk_\\appdata\\local\\programs\\python\\python37\\lib\\site-packages\\sklearn\\base.py:420: FutureWarning: The default value of multioutput (not exposed in score method) will change from 'variance_weighted' to 'uniform_average' in 0.23 to keep consistent with 'metrics.r2_score'. To specify the default value manually and avoid the warning, please either call 'metrics.r2_score' directly or make a custom scorer with 'metrics.make_scorer' (the built-in scorer 'r2' uses multioutput='uniform_average').\n",
      "  \"multioutput='uniform_average').\", FutureWarning)\n",
      "c:\\users\\berk_\\appdata\\local\\programs\\python\\python37\\lib\\site-packages\\sklearn\\base.py:420: FutureWarning: The default value of multioutput (not exposed in score method) will change from 'variance_weighted' to 'uniform_average' in 0.23 to keep consistent with 'metrics.r2_score'. To specify the default value manually and avoid the warning, please either call 'metrics.r2_score' directly or make a custom scorer with 'metrics.make_scorer' (the built-in scorer 'r2' uses multioutput='uniform_average').\n",
      "  \"multioutput='uniform_average').\", FutureWarning)\n",
      "c:\\users\\berk_\\appdata\\local\\programs\\python\\python37\\lib\\site-packages\\sklearn\\base.py:420: FutureWarning: The default value of multioutput (not exposed in score method) will change from 'variance_weighted' to 'uniform_average' in 0.23 to keep consistent with 'metrics.r2_score'. To specify the default value manually and avoid the warning, please either call 'metrics.r2_score' directly or make a custom scorer with 'metrics.make_scorer' (the built-in scorer 'r2' uses multioutput='uniform_average').\n",
      "  \"multioutput='uniform_average').\", FutureWarning)\n",
      "c:\\users\\berk_\\appdata\\local\\programs\\python\\python37\\lib\\site-packages\\sklearn\\base.py:420: FutureWarning: The default value of multioutput (not exposed in score method) will change from 'variance_weighted' to 'uniform_average' in 0.23 to keep consistent with 'metrics.r2_score'. To specify the default value manually and avoid the warning, please either call 'metrics.r2_score' directly or make a custom scorer with 'metrics.make_scorer' (the built-in scorer 'r2' uses multioutput='uniform_average').\n",
      "  \"multioutput='uniform_average').\", FutureWarning)\n",
      "c:\\users\\berk_\\appdata\\local\\programs\\python\\python37\\lib\\site-packages\\sklearn\\base.py:420: FutureWarning: The default value of multioutput (not exposed in score method) will change from 'variance_weighted' to 'uniform_average' in 0.23 to keep consistent with 'metrics.r2_score'. To specify the default value manually and avoid the warning, please either call 'metrics.r2_score' directly or make a custom scorer with 'metrics.make_scorer' (the built-in scorer 'r2' uses multioutput='uniform_average').\n",
      "  \"multioutput='uniform_average').\", FutureWarning)\n",
      "c:\\users\\berk_\\appdata\\local\\programs\\python\\python37\\lib\\site-packages\\sklearn\\base.py:420: FutureWarning: The default value of multioutput (not exposed in score method) will change from 'variance_weighted' to 'uniform_average' in 0.23 to keep consistent with 'metrics.r2_score'. To specify the default value manually and avoid the warning, please either call 'metrics.r2_score' directly or make a custom scorer with 'metrics.make_scorer' (the built-in scorer 'r2' uses multioutput='uniform_average').\n",
      "  \"multioutput='uniform_average').\", FutureWarning)\n",
      "c:\\users\\berk_\\appdata\\local\\programs\\python\\python37\\lib\\site-packages\\sklearn\\base.py:420: FutureWarning: The default value of multioutput (not exposed in score method) will change from 'variance_weighted' to 'uniform_average' in 0.23 to keep consistent with 'metrics.r2_score'. To specify the default value manually and avoid the warning, please either call 'metrics.r2_score' directly or make a custom scorer with 'metrics.make_scorer' (the built-in scorer 'r2' uses multioutput='uniform_average').\n",
      "  \"multioutput='uniform_average').\", FutureWarning)\n",
      "c:\\users\\berk_\\appdata\\local\\programs\\python\\python37\\lib\\site-packages\\sklearn\\base.py:420: FutureWarning: The default value of multioutput (not exposed in score method) will change from 'variance_weighted' to 'uniform_average' in 0.23 to keep consistent with 'metrics.r2_score'. To specify the default value manually and avoid the warning, please either call 'metrics.r2_score' directly or make a custom scorer with 'metrics.make_scorer' (the built-in scorer 'r2' uses multioutput='uniform_average').\n",
      "  \"multioutput='uniform_average').\", FutureWarning)\n",
      "c:\\users\\berk_\\appdata\\local\\programs\\python\\python37\\lib\\site-packages\\sklearn\\base.py:420: FutureWarning: The default value of multioutput (not exposed in score method) will change from 'variance_weighted' to 'uniform_average' in 0.23 to keep consistent with 'metrics.r2_score'. To specify the default value manually and avoid the warning, please either call 'metrics.r2_score' directly or make a custom scorer with 'metrics.make_scorer' (the built-in scorer 'r2' uses multioutput='uniform_average').\n",
      "  \"multioutput='uniform_average').\", FutureWarning)\n",
      "c:\\users\\berk_\\appdata\\local\\programs\\python\\python37\\lib\\site-packages\\sklearn\\base.py:420: FutureWarning: The default value of multioutput (not exposed in score method) will change from 'variance_weighted' to 'uniform_average' in 0.23 to keep consistent with 'metrics.r2_score'. To specify the default value manually and avoid the warning, please either call 'metrics.r2_score' directly or make a custom scorer with 'metrics.make_scorer' (the built-in scorer 'r2' uses multioutput='uniform_average').\n",
      "  \"multioutput='uniform_average').\", FutureWarning)\n",
      "c:\\users\\berk_\\appdata\\local\\programs\\python\\python37\\lib\\site-packages\\sklearn\\base.py:420: FutureWarning: The default value of multioutput (not exposed in score method) will change from 'variance_weighted' to 'uniform_average' in 0.23 to keep consistent with 'metrics.r2_score'. To specify the default value manually and avoid the warning, please either call 'metrics.r2_score' directly or make a custom scorer with 'metrics.make_scorer' (the built-in scorer 'r2' uses multioutput='uniform_average').\n",
      "  \"multioutput='uniform_average').\", FutureWarning)\n"
     ]
    },
    {
     "name": "stderr",
     "output_type": "stream",
     "text": [
      "c:\\users\\berk_\\appdata\\local\\programs\\python\\python37\\lib\\site-packages\\sklearn\\base.py:420: FutureWarning: The default value of multioutput (not exposed in score method) will change from 'variance_weighted' to 'uniform_average' in 0.23 to keep consistent with 'metrics.r2_score'. To specify the default value manually and avoid the warning, please either call 'metrics.r2_score' directly or make a custom scorer with 'metrics.make_scorer' (the built-in scorer 'r2' uses multioutput='uniform_average').\n",
      "  \"multioutput='uniform_average').\", FutureWarning)\n",
      "c:\\users\\berk_\\appdata\\local\\programs\\python\\python37\\lib\\site-packages\\sklearn\\base.py:420: FutureWarning: The default value of multioutput (not exposed in score method) will change from 'variance_weighted' to 'uniform_average' in 0.23 to keep consistent with 'metrics.r2_score'. To specify the default value manually and avoid the warning, please either call 'metrics.r2_score' directly or make a custom scorer with 'metrics.make_scorer' (the built-in scorer 'r2' uses multioutput='uniform_average').\n",
      "  \"multioutput='uniform_average').\", FutureWarning)\n",
      "c:\\users\\berk_\\appdata\\local\\programs\\python\\python37\\lib\\site-packages\\sklearn\\base.py:420: FutureWarning: The default value of multioutput (not exposed in score method) will change from 'variance_weighted' to 'uniform_average' in 0.23 to keep consistent with 'metrics.r2_score'. To specify the default value manually and avoid the warning, please either call 'metrics.r2_score' directly or make a custom scorer with 'metrics.make_scorer' (the built-in scorer 'r2' uses multioutput='uniform_average').\n",
      "  \"multioutput='uniform_average').\", FutureWarning)\n",
      "c:\\users\\berk_\\appdata\\local\\programs\\python\\python37\\lib\\site-packages\\sklearn\\base.py:420: FutureWarning: The default value of multioutput (not exposed in score method) will change from 'variance_weighted' to 'uniform_average' in 0.23 to keep consistent with 'metrics.r2_score'. To specify the default value manually and avoid the warning, please either call 'metrics.r2_score' directly or make a custom scorer with 'metrics.make_scorer' (the built-in scorer 'r2' uses multioutput='uniform_average').\n",
      "  \"multioutput='uniform_average').\", FutureWarning)\n",
      "c:\\users\\berk_\\appdata\\local\\programs\\python\\python37\\lib\\site-packages\\sklearn\\base.py:420: FutureWarning: The default value of multioutput (not exposed in score method) will change from 'variance_weighted' to 'uniform_average' in 0.23 to keep consistent with 'metrics.r2_score'. To specify the default value manually and avoid the warning, please either call 'metrics.r2_score' directly or make a custom scorer with 'metrics.make_scorer' (the built-in scorer 'r2' uses multioutput='uniform_average').\n",
      "  \"multioutput='uniform_average').\", FutureWarning)\n",
      "c:\\users\\berk_\\appdata\\local\\programs\\python\\python37\\lib\\site-packages\\sklearn\\base.py:420: FutureWarning: The default value of multioutput (not exposed in score method) will change from 'variance_weighted' to 'uniform_average' in 0.23 to keep consistent with 'metrics.r2_score'. To specify the default value manually and avoid the warning, please either call 'metrics.r2_score' directly or make a custom scorer with 'metrics.make_scorer' (the built-in scorer 'r2' uses multioutput='uniform_average').\n",
      "  \"multioutput='uniform_average').\", FutureWarning)\n",
      "c:\\users\\berk_\\appdata\\local\\programs\\python\\python37\\lib\\site-packages\\sklearn\\base.py:420: FutureWarning: The default value of multioutput (not exposed in score method) will change from 'variance_weighted' to 'uniform_average' in 0.23 to keep consistent with 'metrics.r2_score'. To specify the default value manually and avoid the warning, please either call 'metrics.r2_score' directly or make a custom scorer with 'metrics.make_scorer' (the built-in scorer 'r2' uses multioutput='uniform_average').\n",
      "  \"multioutput='uniform_average').\", FutureWarning)\n",
      "c:\\users\\berk_\\appdata\\local\\programs\\python\\python37\\lib\\site-packages\\sklearn\\base.py:420: FutureWarning: The default value of multioutput (not exposed in score method) will change from 'variance_weighted' to 'uniform_average' in 0.23 to keep consistent with 'metrics.r2_score'. To specify the default value manually and avoid the warning, please either call 'metrics.r2_score' directly or make a custom scorer with 'metrics.make_scorer' (the built-in scorer 'r2' uses multioutput='uniform_average').\n",
      "  \"multioutput='uniform_average').\", FutureWarning)\n",
      "c:\\users\\berk_\\appdata\\local\\programs\\python\\python37\\lib\\site-packages\\sklearn\\base.py:420: FutureWarning: The default value of multioutput (not exposed in score method) will change from 'variance_weighted' to 'uniform_average' in 0.23 to keep consistent with 'metrics.r2_score'. To specify the default value manually and avoid the warning, please either call 'metrics.r2_score' directly or make a custom scorer with 'metrics.make_scorer' (the built-in scorer 'r2' uses multioutput='uniform_average').\n",
      "  \"multioutput='uniform_average').\", FutureWarning)\n",
      "c:\\users\\berk_\\appdata\\local\\programs\\python\\python37\\lib\\site-packages\\sklearn\\base.py:420: FutureWarning: The default value of multioutput (not exposed in score method) will change from 'variance_weighted' to 'uniform_average' in 0.23 to keep consistent with 'metrics.r2_score'. To specify the default value manually and avoid the warning, please either call 'metrics.r2_score' directly or make a custom scorer with 'metrics.make_scorer' (the built-in scorer 'r2' uses multioutput='uniform_average').\n",
      "  \"multioutput='uniform_average').\", FutureWarning)\n",
      "c:\\users\\berk_\\appdata\\local\\programs\\python\\python37\\lib\\site-packages\\sklearn\\base.py:420: FutureWarning: The default value of multioutput (not exposed in score method) will change from 'variance_weighted' to 'uniform_average' in 0.23 to keep consistent with 'metrics.r2_score'. To specify the default value manually and avoid the warning, please either call 'metrics.r2_score' directly or make a custom scorer with 'metrics.make_scorer' (the built-in scorer 'r2' uses multioutput='uniform_average').\n",
      "  \"multioutput='uniform_average').\", FutureWarning)\n",
      "c:\\users\\berk_\\appdata\\local\\programs\\python\\python37\\lib\\site-packages\\sklearn\\base.py:420: FutureWarning: The default value of multioutput (not exposed in score method) will change from 'variance_weighted' to 'uniform_average' in 0.23 to keep consistent with 'metrics.r2_score'. To specify the default value manually and avoid the warning, please either call 'metrics.r2_score' directly or make a custom scorer with 'metrics.make_scorer' (the built-in scorer 'r2' uses multioutput='uniform_average').\n",
      "  \"multioutput='uniform_average').\", FutureWarning)\n",
      "c:\\users\\berk_\\appdata\\local\\programs\\python\\python37\\lib\\site-packages\\sklearn\\base.py:420: FutureWarning: The default value of multioutput (not exposed in score method) will change from 'variance_weighted' to 'uniform_average' in 0.23 to keep consistent with 'metrics.r2_score'. To specify the default value manually and avoid the warning, please either call 'metrics.r2_score' directly or make a custom scorer with 'metrics.make_scorer' (the built-in scorer 'r2' uses multioutput='uniform_average').\n",
      "  \"multioutput='uniform_average').\", FutureWarning)\n",
      "c:\\users\\berk_\\appdata\\local\\programs\\python\\python37\\lib\\site-packages\\sklearn\\base.py:420: FutureWarning: The default value of multioutput (not exposed in score method) will change from 'variance_weighted' to 'uniform_average' in 0.23 to keep consistent with 'metrics.r2_score'. To specify the default value manually and avoid the warning, please either call 'metrics.r2_score' directly or make a custom scorer with 'metrics.make_scorer' (the built-in scorer 'r2' uses multioutput='uniform_average').\n",
      "  \"multioutput='uniform_average').\", FutureWarning)\n",
      "c:\\users\\berk_\\appdata\\local\\programs\\python\\python37\\lib\\site-packages\\sklearn\\base.py:420: FutureWarning: The default value of multioutput (not exposed in score method) will change from 'variance_weighted' to 'uniform_average' in 0.23 to keep consistent with 'metrics.r2_score'. To specify the default value manually and avoid the warning, please either call 'metrics.r2_score' directly or make a custom scorer with 'metrics.make_scorer' (the built-in scorer 'r2' uses multioutput='uniform_average').\n",
      "  \"multioutput='uniform_average').\", FutureWarning)\n",
      "c:\\users\\berk_\\appdata\\local\\programs\\python\\python37\\lib\\site-packages\\sklearn\\base.py:420: FutureWarning: The default value of multioutput (not exposed in score method) will change from 'variance_weighted' to 'uniform_average' in 0.23 to keep consistent with 'metrics.r2_score'. To specify the default value manually and avoid the warning, please either call 'metrics.r2_score' directly or make a custom scorer with 'metrics.make_scorer' (the built-in scorer 'r2' uses multioutput='uniform_average').\n",
      "  \"multioutput='uniform_average').\", FutureWarning)\n"
     ]
    },
    {
     "name": "stderr",
     "output_type": "stream",
     "text": [
      "c:\\users\\berk_\\appdata\\local\\programs\\python\\python37\\lib\\site-packages\\sklearn\\base.py:420: FutureWarning: The default value of multioutput (not exposed in score method) will change from 'variance_weighted' to 'uniform_average' in 0.23 to keep consistent with 'metrics.r2_score'. To specify the default value manually and avoid the warning, please either call 'metrics.r2_score' directly or make a custom scorer with 'metrics.make_scorer' (the built-in scorer 'r2' uses multioutput='uniform_average').\n",
      "  \"multioutput='uniform_average').\", FutureWarning)\n",
      "c:\\users\\berk_\\appdata\\local\\programs\\python\\python37\\lib\\site-packages\\sklearn\\base.py:420: FutureWarning: The default value of multioutput (not exposed in score method) will change from 'variance_weighted' to 'uniform_average' in 0.23 to keep consistent with 'metrics.r2_score'. To specify the default value manually and avoid the warning, please either call 'metrics.r2_score' directly or make a custom scorer with 'metrics.make_scorer' (the built-in scorer 'r2' uses multioutput='uniform_average').\n",
      "  \"multioutput='uniform_average').\", FutureWarning)\n",
      "c:\\users\\berk_\\appdata\\local\\programs\\python\\python37\\lib\\site-packages\\sklearn\\base.py:420: FutureWarning: The default value of multioutput (not exposed in score method) will change from 'variance_weighted' to 'uniform_average' in 0.23 to keep consistent with 'metrics.r2_score'. To specify the default value manually and avoid the warning, please either call 'metrics.r2_score' directly or make a custom scorer with 'metrics.make_scorer' (the built-in scorer 'r2' uses multioutput='uniform_average').\n",
      "  \"multioutput='uniform_average').\", FutureWarning)\n",
      "c:\\users\\berk_\\appdata\\local\\programs\\python\\python37\\lib\\site-packages\\sklearn\\base.py:420: FutureWarning: The default value of multioutput (not exposed in score method) will change from 'variance_weighted' to 'uniform_average' in 0.23 to keep consistent with 'metrics.r2_score'. To specify the default value manually and avoid the warning, please either call 'metrics.r2_score' directly or make a custom scorer with 'metrics.make_scorer' (the built-in scorer 'r2' uses multioutput='uniform_average').\n",
      "  \"multioutput='uniform_average').\", FutureWarning)\n",
      "c:\\users\\berk_\\appdata\\local\\programs\\python\\python37\\lib\\site-packages\\sklearn\\base.py:420: FutureWarning: The default value of multioutput (not exposed in score method) will change from 'variance_weighted' to 'uniform_average' in 0.23 to keep consistent with 'metrics.r2_score'. To specify the default value manually and avoid the warning, please either call 'metrics.r2_score' directly or make a custom scorer with 'metrics.make_scorer' (the built-in scorer 'r2' uses multioutput='uniform_average').\n",
      "  \"multioutput='uniform_average').\", FutureWarning)\n",
      "c:\\users\\berk_\\appdata\\local\\programs\\python\\python37\\lib\\site-packages\\sklearn\\base.py:420: FutureWarning: The default value of multioutput (not exposed in score method) will change from 'variance_weighted' to 'uniform_average' in 0.23 to keep consistent with 'metrics.r2_score'. To specify the default value manually and avoid the warning, please either call 'metrics.r2_score' directly or make a custom scorer with 'metrics.make_scorer' (the built-in scorer 'r2' uses multioutput='uniform_average').\n",
      "  \"multioutput='uniform_average').\", FutureWarning)\n",
      "c:\\users\\berk_\\appdata\\local\\programs\\python\\python37\\lib\\site-packages\\sklearn\\base.py:420: FutureWarning: The default value of multioutput (not exposed in score method) will change from 'variance_weighted' to 'uniform_average' in 0.23 to keep consistent with 'metrics.r2_score'. To specify the default value manually and avoid the warning, please either call 'metrics.r2_score' directly or make a custom scorer with 'metrics.make_scorer' (the built-in scorer 'r2' uses multioutput='uniform_average').\n",
      "  \"multioutput='uniform_average').\", FutureWarning)\n",
      "c:\\users\\berk_\\appdata\\local\\programs\\python\\python37\\lib\\site-packages\\sklearn\\base.py:420: FutureWarning: The default value of multioutput (not exposed in score method) will change from 'variance_weighted' to 'uniform_average' in 0.23 to keep consistent with 'metrics.r2_score'. To specify the default value manually and avoid the warning, please either call 'metrics.r2_score' directly or make a custom scorer with 'metrics.make_scorer' (the built-in scorer 'r2' uses multioutput='uniform_average').\n",
      "  \"multioutput='uniform_average').\", FutureWarning)\n",
      "c:\\users\\berk_\\appdata\\local\\programs\\python\\python37\\lib\\site-packages\\sklearn\\base.py:420: FutureWarning: The default value of multioutput (not exposed in score method) will change from 'variance_weighted' to 'uniform_average' in 0.23 to keep consistent with 'metrics.r2_score'. To specify the default value manually and avoid the warning, please either call 'metrics.r2_score' directly or make a custom scorer with 'metrics.make_scorer' (the built-in scorer 'r2' uses multioutput='uniform_average').\n",
      "  \"multioutput='uniform_average').\", FutureWarning)\n",
      "c:\\users\\berk_\\appdata\\local\\programs\\python\\python37\\lib\\site-packages\\sklearn\\base.py:420: FutureWarning: The default value of multioutput (not exposed in score method) will change from 'variance_weighted' to 'uniform_average' in 0.23 to keep consistent with 'metrics.r2_score'. To specify the default value manually and avoid the warning, please either call 'metrics.r2_score' directly or make a custom scorer with 'metrics.make_scorer' (the built-in scorer 'r2' uses multioutput='uniform_average').\n",
      "  \"multioutput='uniform_average').\", FutureWarning)\n",
      "c:\\users\\berk_\\appdata\\local\\programs\\python\\python37\\lib\\site-packages\\sklearn\\base.py:420: FutureWarning: The default value of multioutput (not exposed in score method) will change from 'variance_weighted' to 'uniform_average' in 0.23 to keep consistent with 'metrics.r2_score'. To specify the default value manually and avoid the warning, please either call 'metrics.r2_score' directly or make a custom scorer with 'metrics.make_scorer' (the built-in scorer 'r2' uses multioutput='uniform_average').\n",
      "  \"multioutput='uniform_average').\", FutureWarning)\n",
      "c:\\users\\berk_\\appdata\\local\\programs\\python\\python37\\lib\\site-packages\\sklearn\\base.py:420: FutureWarning: The default value of multioutput (not exposed in score method) will change from 'variance_weighted' to 'uniform_average' in 0.23 to keep consistent with 'metrics.r2_score'. To specify the default value manually and avoid the warning, please either call 'metrics.r2_score' directly or make a custom scorer with 'metrics.make_scorer' (the built-in scorer 'r2' uses multioutput='uniform_average').\n",
      "  \"multioutput='uniform_average').\", FutureWarning)\n",
      "c:\\users\\berk_\\appdata\\local\\programs\\python\\python37\\lib\\site-packages\\sklearn\\base.py:420: FutureWarning: The default value of multioutput (not exposed in score method) will change from 'variance_weighted' to 'uniform_average' in 0.23 to keep consistent with 'metrics.r2_score'. To specify the default value manually and avoid the warning, please either call 'metrics.r2_score' directly or make a custom scorer with 'metrics.make_scorer' (the built-in scorer 'r2' uses multioutput='uniform_average').\n",
      "  \"multioutput='uniform_average').\", FutureWarning)\n",
      "c:\\users\\berk_\\appdata\\local\\programs\\python\\python37\\lib\\site-packages\\sklearn\\base.py:420: FutureWarning: The default value of multioutput (not exposed in score method) will change from 'variance_weighted' to 'uniform_average' in 0.23 to keep consistent with 'metrics.r2_score'. To specify the default value manually and avoid the warning, please either call 'metrics.r2_score' directly or make a custom scorer with 'metrics.make_scorer' (the built-in scorer 'r2' uses multioutput='uniform_average').\n",
      "  \"multioutput='uniform_average').\", FutureWarning)\n",
      "c:\\users\\berk_\\appdata\\local\\programs\\python\\python37\\lib\\site-packages\\sklearn\\base.py:420: FutureWarning: The default value of multioutput (not exposed in score method) will change from 'variance_weighted' to 'uniform_average' in 0.23 to keep consistent with 'metrics.r2_score'. To specify the default value manually and avoid the warning, please either call 'metrics.r2_score' directly or make a custom scorer with 'metrics.make_scorer' (the built-in scorer 'r2' uses multioutput='uniform_average').\n",
      "  \"multioutput='uniform_average').\", FutureWarning)\n"
     ]
    },
    {
     "name": "stderr",
     "output_type": "stream",
     "text": [
      "c:\\users\\berk_\\appdata\\local\\programs\\python\\python37\\lib\\site-packages\\sklearn\\base.py:420: FutureWarning: The default value of multioutput (not exposed in score method) will change from 'variance_weighted' to 'uniform_average' in 0.23 to keep consistent with 'metrics.r2_score'. To specify the default value manually and avoid the warning, please either call 'metrics.r2_score' directly or make a custom scorer with 'metrics.make_scorer' (the built-in scorer 'r2' uses multioutput='uniform_average').\n",
      "  \"multioutput='uniform_average').\", FutureWarning)\n",
      "c:\\users\\berk_\\appdata\\local\\programs\\python\\python37\\lib\\site-packages\\sklearn\\base.py:420: FutureWarning: The default value of multioutput (not exposed in score method) will change from 'variance_weighted' to 'uniform_average' in 0.23 to keep consistent with 'metrics.r2_score'. To specify the default value manually and avoid the warning, please either call 'metrics.r2_score' directly or make a custom scorer with 'metrics.make_scorer' (the built-in scorer 'r2' uses multioutput='uniform_average').\n",
      "  \"multioutput='uniform_average').\", FutureWarning)\n",
      "c:\\users\\berk_\\appdata\\local\\programs\\python\\python37\\lib\\site-packages\\sklearn\\base.py:420: FutureWarning: The default value of multioutput (not exposed in score method) will change from 'variance_weighted' to 'uniform_average' in 0.23 to keep consistent with 'metrics.r2_score'. To specify the default value manually and avoid the warning, please either call 'metrics.r2_score' directly or make a custom scorer with 'metrics.make_scorer' (the built-in scorer 'r2' uses multioutput='uniform_average').\n",
      "  \"multioutput='uniform_average').\", FutureWarning)\n",
      "c:\\users\\berk_\\appdata\\local\\programs\\python\\python37\\lib\\site-packages\\sklearn\\base.py:420: FutureWarning: The default value of multioutput (not exposed in score method) will change from 'variance_weighted' to 'uniform_average' in 0.23 to keep consistent with 'metrics.r2_score'. To specify the default value manually and avoid the warning, please either call 'metrics.r2_score' directly or make a custom scorer with 'metrics.make_scorer' (the built-in scorer 'r2' uses multioutput='uniform_average').\n",
      "  \"multioutput='uniform_average').\", FutureWarning)\n",
      "c:\\users\\berk_\\appdata\\local\\programs\\python\\python37\\lib\\site-packages\\sklearn\\base.py:420: FutureWarning: The default value of multioutput (not exposed in score method) will change from 'variance_weighted' to 'uniform_average' in 0.23 to keep consistent with 'metrics.r2_score'. To specify the default value manually and avoid the warning, please either call 'metrics.r2_score' directly or make a custom scorer with 'metrics.make_scorer' (the built-in scorer 'r2' uses multioutput='uniform_average').\n",
      "  \"multioutput='uniform_average').\", FutureWarning)\n",
      "c:\\users\\berk_\\appdata\\local\\programs\\python\\python37\\lib\\site-packages\\sklearn\\base.py:420: FutureWarning: The default value of multioutput (not exposed in score method) will change from 'variance_weighted' to 'uniform_average' in 0.23 to keep consistent with 'metrics.r2_score'. To specify the default value manually and avoid the warning, please either call 'metrics.r2_score' directly or make a custom scorer with 'metrics.make_scorer' (the built-in scorer 'r2' uses multioutput='uniform_average').\n",
      "  \"multioutput='uniform_average').\", FutureWarning)\n",
      "c:\\users\\berk_\\appdata\\local\\programs\\python\\python37\\lib\\site-packages\\sklearn\\base.py:420: FutureWarning: The default value of multioutput (not exposed in score method) will change from 'variance_weighted' to 'uniform_average' in 0.23 to keep consistent with 'metrics.r2_score'. To specify the default value manually and avoid the warning, please either call 'metrics.r2_score' directly or make a custom scorer with 'metrics.make_scorer' (the built-in scorer 'r2' uses multioutput='uniform_average').\n",
      "  \"multioutput='uniform_average').\", FutureWarning)\n",
      "c:\\users\\berk_\\appdata\\local\\programs\\python\\python37\\lib\\site-packages\\sklearn\\base.py:420: FutureWarning: The default value of multioutput (not exposed in score method) will change from 'variance_weighted' to 'uniform_average' in 0.23 to keep consistent with 'metrics.r2_score'. To specify the default value manually and avoid the warning, please either call 'metrics.r2_score' directly or make a custom scorer with 'metrics.make_scorer' (the built-in scorer 'r2' uses multioutput='uniform_average').\n",
      "  \"multioutput='uniform_average').\", FutureWarning)\n",
      "c:\\users\\berk_\\appdata\\local\\programs\\python\\python37\\lib\\site-packages\\sklearn\\base.py:420: FutureWarning: The default value of multioutput (not exposed in score method) will change from 'variance_weighted' to 'uniform_average' in 0.23 to keep consistent with 'metrics.r2_score'. To specify the default value manually and avoid the warning, please either call 'metrics.r2_score' directly or make a custom scorer with 'metrics.make_scorer' (the built-in scorer 'r2' uses multioutput='uniform_average').\n",
      "  \"multioutput='uniform_average').\", FutureWarning)\n",
      "c:\\users\\berk_\\appdata\\local\\programs\\python\\python37\\lib\\site-packages\\sklearn\\base.py:420: FutureWarning: The default value of multioutput (not exposed in score method) will change from 'variance_weighted' to 'uniform_average' in 0.23 to keep consistent with 'metrics.r2_score'. To specify the default value manually and avoid the warning, please either call 'metrics.r2_score' directly or make a custom scorer with 'metrics.make_scorer' (the built-in scorer 'r2' uses multioutput='uniform_average').\n",
      "  \"multioutput='uniform_average').\", FutureWarning)\n",
      "c:\\users\\berk_\\appdata\\local\\programs\\python\\python37\\lib\\site-packages\\sklearn\\base.py:420: FutureWarning: The default value of multioutput (not exposed in score method) will change from 'variance_weighted' to 'uniform_average' in 0.23 to keep consistent with 'metrics.r2_score'. To specify the default value manually and avoid the warning, please either call 'metrics.r2_score' directly or make a custom scorer with 'metrics.make_scorer' (the built-in scorer 'r2' uses multioutput='uniform_average').\n",
      "  \"multioutput='uniform_average').\", FutureWarning)\n",
      "c:\\users\\berk_\\appdata\\local\\programs\\python\\python37\\lib\\site-packages\\sklearn\\base.py:420: FutureWarning: The default value of multioutput (not exposed in score method) will change from 'variance_weighted' to 'uniform_average' in 0.23 to keep consistent with 'metrics.r2_score'. To specify the default value manually and avoid the warning, please either call 'metrics.r2_score' directly or make a custom scorer with 'metrics.make_scorer' (the built-in scorer 'r2' uses multioutput='uniform_average').\n",
      "  \"multioutput='uniform_average').\", FutureWarning)\n",
      "c:\\users\\berk_\\appdata\\local\\programs\\python\\python37\\lib\\site-packages\\sklearn\\base.py:420: FutureWarning: The default value of multioutput (not exposed in score method) will change from 'variance_weighted' to 'uniform_average' in 0.23 to keep consistent with 'metrics.r2_score'. To specify the default value manually and avoid the warning, please either call 'metrics.r2_score' directly or make a custom scorer with 'metrics.make_scorer' (the built-in scorer 'r2' uses multioutput='uniform_average').\n",
      "  \"multioutput='uniform_average').\", FutureWarning)\n",
      "c:\\users\\berk_\\appdata\\local\\programs\\python\\python37\\lib\\site-packages\\sklearn\\base.py:420: FutureWarning: The default value of multioutput (not exposed in score method) will change from 'variance_weighted' to 'uniform_average' in 0.23 to keep consistent with 'metrics.r2_score'. To specify the default value manually and avoid the warning, please either call 'metrics.r2_score' directly or make a custom scorer with 'metrics.make_scorer' (the built-in scorer 'r2' uses multioutput='uniform_average').\n",
      "  \"multioutput='uniform_average').\", FutureWarning)\n",
      "c:\\users\\berk_\\appdata\\local\\programs\\python\\python37\\lib\\site-packages\\sklearn\\base.py:420: FutureWarning: The default value of multioutput (not exposed in score method) will change from 'variance_weighted' to 'uniform_average' in 0.23 to keep consistent with 'metrics.r2_score'. To specify the default value manually and avoid the warning, please either call 'metrics.r2_score' directly or make a custom scorer with 'metrics.make_scorer' (the built-in scorer 'r2' uses multioutput='uniform_average').\n",
      "  \"multioutput='uniform_average').\", FutureWarning)\n"
     ]
    },
    {
     "name": "stderr",
     "output_type": "stream",
     "text": [
      "c:\\users\\berk_\\appdata\\local\\programs\\python\\python37\\lib\\site-packages\\sklearn\\base.py:420: FutureWarning: The default value of multioutput (not exposed in score method) will change from 'variance_weighted' to 'uniform_average' in 0.23 to keep consistent with 'metrics.r2_score'. To specify the default value manually and avoid the warning, please either call 'metrics.r2_score' directly or make a custom scorer with 'metrics.make_scorer' (the built-in scorer 'r2' uses multioutput='uniform_average').\n",
      "  \"multioutput='uniform_average').\", FutureWarning)\n",
      "c:\\users\\berk_\\appdata\\local\\programs\\python\\python37\\lib\\site-packages\\sklearn\\base.py:420: FutureWarning: The default value of multioutput (not exposed in score method) will change from 'variance_weighted' to 'uniform_average' in 0.23 to keep consistent with 'metrics.r2_score'. To specify the default value manually and avoid the warning, please either call 'metrics.r2_score' directly or make a custom scorer with 'metrics.make_scorer' (the built-in scorer 'r2' uses multioutput='uniform_average').\n",
      "  \"multioutput='uniform_average').\", FutureWarning)\n",
      "c:\\users\\berk_\\appdata\\local\\programs\\python\\python37\\lib\\site-packages\\sklearn\\base.py:420: FutureWarning: The default value of multioutput (not exposed in score method) will change from 'variance_weighted' to 'uniform_average' in 0.23 to keep consistent with 'metrics.r2_score'. To specify the default value manually and avoid the warning, please either call 'metrics.r2_score' directly or make a custom scorer with 'metrics.make_scorer' (the built-in scorer 'r2' uses multioutput='uniform_average').\n",
      "  \"multioutput='uniform_average').\", FutureWarning)\n",
      "c:\\users\\berk_\\appdata\\local\\programs\\python\\python37\\lib\\site-packages\\sklearn\\base.py:420: FutureWarning: The default value of multioutput (not exposed in score method) will change from 'variance_weighted' to 'uniform_average' in 0.23 to keep consistent with 'metrics.r2_score'. To specify the default value manually and avoid the warning, please either call 'metrics.r2_score' directly or make a custom scorer with 'metrics.make_scorer' (the built-in scorer 'r2' uses multioutput='uniform_average').\n",
      "  \"multioutput='uniform_average').\", FutureWarning)\n"
     ]
    },
    {
     "data": {
      "text/plain": [
       "Pipeline(memory=None,\n",
       "         steps=[('encoder',\n",
       "                 ColumnTransformer(n_jobs=None, remainder='passthrough',\n",
       "                                   sparse_threshold=0.3,\n",
       "                                   transformer_weights=None,\n",
       "                                   transformers=[('ohe',\n",
       "                                                  OneHotEncoder(categorical_features=None,\n",
       "                                                                categories='auto',\n",
       "                                                                drop=None,\n",
       "                                                                dtype=<class 'numpy.float64'>,\n",
       "                                                                handle_unknown='error',\n",
       "                                                                n_values=None,\n",
       "                                                                sparse=True),\n",
       "                                                  ['Month', 'Day',\n",
       "                                                   'IsWeekend'])],\n",
       "                                   verbose=False...\n",
       "                                                              min_samples_leaf=1,\n",
       "                                                              min_samples_split=2,\n",
       "                                                              min_weight_fraction_leaf=0.0,\n",
       "                                                              n_estimators=100,\n",
       "                                                              n_jobs=None,\n",
       "                                                              oob_score=False,\n",
       "                                                              random_state=None,\n",
       "                                                              verbose=0,\n",
       "                                                              warm_start=False),\n",
       "                              iid='warn', n_jobs=None,\n",
       "                              param_grid={'max_depth': [1, 10, 20, None],\n",
       "                                          'min_samples_leaf': [1, 5, 10, 20]},\n",
       "                              pre_dispatch='2*n_jobs', refit=True,\n",
       "                              return_train_score=False, scoring=None,\n",
       "                              verbose=0))],\n",
       "         verbose=False)"
      ]
     },
     "execution_count": 438,
     "metadata": {},
     "output_type": "execute_result"
    }
   ],
   "source": [
    "ml_pipe.fit(X.iloc[:-30], y.iloc[:-30])"
   ]
  },
  {
   "cell_type": "code",
   "execution_count": 439,
   "metadata": {},
   "outputs": [
    {
     "name": "stderr",
     "output_type": "stream",
     "text": [
      "c:\\users\\berk_\\appdata\\local\\programs\\python\\python37\\lib\\site-packages\\sklearn\\base.py:420: FutureWarning: The default value of multioutput (not exposed in score method) will change from 'variance_weighted' to 'uniform_average' in 0.23 to keep consistent with 'metrics.r2_score'. To specify the default value manually and avoid the warning, please either call 'metrics.r2_score' directly or make a custom scorer with 'metrics.make_scorer' (the built-in scorer 'r2' uses multioutput='uniform_average').\n",
      "  \"multioutput='uniform_average').\", FutureWarning)\n"
     ]
    },
    {
     "data": {
      "text/plain": [
       "0.21715531553448786"
      ]
     },
     "execution_count": 439,
     "metadata": {},
     "output_type": "execute_result"
    }
   ],
   "source": [
    "ml_pipe.score(X.iloc[-30:], y.iloc[-30:])"
   ]
  },
  {
   "cell_type": "code",
   "execution_count": 280,
   "metadata": {},
   "outputs": [
    {
     "name": "stderr",
     "output_type": "stream",
     "text": [
      "c:\\users\\berk_\\appdata\\local\\programs\\python\\python37\\lib\\site-packages\\sklearn\\base.py:420: FutureWarning: The default value of multioutput (not exposed in score method) will change from 'variance_weighted' to 'uniform_average' in 0.23 to keep consistent with 'metrics.r2_score'. To specify the default value manually and avoid the warning, please either call 'metrics.r2_score' directly or make a custom scorer with 'metrics.make_scorer' (the built-in scorer 'r2' uses multioutput='uniform_average').\n",
      "  \"multioutput='uniform_average').\", FutureWarning)\n",
      "c:\\users\\berk_\\appdata\\local\\programs\\python\\python37\\lib\\site-packages\\sklearn\\base.py:420: FutureWarning: The default value of multioutput (not exposed in score method) will change from 'variance_weighted' to 'uniform_average' in 0.23 to keep consistent with 'metrics.r2_score'. To specify the default value manually and avoid the warning, please either call 'metrics.r2_score' directly or make a custom scorer with 'metrics.make_scorer' (the built-in scorer 'r2' uses multioutput='uniform_average').\n",
      "  \"multioutput='uniform_average').\", FutureWarning)\n",
      "c:\\users\\berk_\\appdata\\local\\programs\\python\\python37\\lib\\site-packages\\sklearn\\base.py:420: FutureWarning: The default value of multioutput (not exposed in score method) will change from 'variance_weighted' to 'uniform_average' in 0.23 to keep consistent with 'metrics.r2_score'. To specify the default value manually and avoid the warning, please either call 'metrics.r2_score' directly or make a custom scorer with 'metrics.make_scorer' (the built-in scorer 'r2' uses multioutput='uniform_average').\n",
      "  \"multioutput='uniform_average').\", FutureWarning)\n",
      "c:\\users\\berk_\\appdata\\local\\programs\\python\\python37\\lib\\site-packages\\sklearn\\base.py:420: FutureWarning: The default value of multioutput (not exposed in score method) will change from 'variance_weighted' to 'uniform_average' in 0.23 to keep consistent with 'metrics.r2_score'. To specify the default value manually and avoid the warning, please either call 'metrics.r2_score' directly or make a custom scorer with 'metrics.make_scorer' (the built-in scorer 'r2' uses multioutput='uniform_average').\n",
      "  \"multioutput='uniform_average').\", FutureWarning)\n",
      "c:\\users\\berk_\\appdata\\local\\programs\\python\\python37\\lib\\site-packages\\sklearn\\base.py:420: FutureWarning: The default value of multioutput (not exposed in score method) will change from 'variance_weighted' to 'uniform_average' in 0.23 to keep consistent with 'metrics.r2_score'. To specify the default value manually and avoid the warning, please either call 'metrics.r2_score' directly or make a custom scorer with 'metrics.make_scorer' (the built-in scorer 'r2' uses multioutput='uniform_average').\n",
      "  \"multioutput='uniform_average').\", FutureWarning)\n",
      "c:\\users\\berk_\\appdata\\local\\programs\\python\\python37\\lib\\site-packages\\sklearn\\base.py:420: FutureWarning: The default value of multioutput (not exposed in score method) will change from 'variance_weighted' to 'uniform_average' in 0.23 to keep consistent with 'metrics.r2_score'. To specify the default value manually and avoid the warning, please either call 'metrics.r2_score' directly or make a custom scorer with 'metrics.make_scorer' (the built-in scorer 'r2' uses multioutput='uniform_average').\n",
      "  \"multioutput='uniform_average').\", FutureWarning)\n",
      "c:\\users\\berk_\\appdata\\local\\programs\\python\\python37\\lib\\site-packages\\sklearn\\base.py:420: FutureWarning: The default value of multioutput (not exposed in score method) will change from 'variance_weighted' to 'uniform_average' in 0.23 to keep consistent with 'metrics.r2_score'. To specify the default value manually and avoid the warning, please either call 'metrics.r2_score' directly or make a custom scorer with 'metrics.make_scorer' (the built-in scorer 'r2' uses multioutput='uniform_average').\n",
      "  \"multioutput='uniform_average').\", FutureWarning)\n",
      "c:\\users\\berk_\\appdata\\local\\programs\\python\\python37\\lib\\site-packages\\sklearn\\base.py:420: FutureWarning: The default value of multioutput (not exposed in score method) will change from 'variance_weighted' to 'uniform_average' in 0.23 to keep consistent with 'metrics.r2_score'. To specify the default value manually and avoid the warning, please either call 'metrics.r2_score' directly or make a custom scorer with 'metrics.make_scorer' (the built-in scorer 'r2' uses multioutput='uniform_average').\n",
      "  \"multioutput='uniform_average').\", FutureWarning)\n",
      "c:\\users\\berk_\\appdata\\local\\programs\\python\\python37\\lib\\site-packages\\sklearn\\base.py:420: FutureWarning: The default value of multioutput (not exposed in score method) will change from 'variance_weighted' to 'uniform_average' in 0.23 to keep consistent with 'metrics.r2_score'. To specify the default value manually and avoid the warning, please either call 'metrics.r2_score' directly or make a custom scorer with 'metrics.make_scorer' (the built-in scorer 'r2' uses multioutput='uniform_average').\n",
      "  \"multioutput='uniform_average').\", FutureWarning)\n",
      "c:\\users\\berk_\\appdata\\local\\programs\\python\\python37\\lib\\site-packages\\sklearn\\base.py:420: FutureWarning: The default value of multioutput (not exposed in score method) will change from 'variance_weighted' to 'uniform_average' in 0.23 to keep consistent with 'metrics.r2_score'. To specify the default value manually and avoid the warning, please either call 'metrics.r2_score' directly or make a custom scorer with 'metrics.make_scorer' (the built-in scorer 'r2' uses multioutput='uniform_average').\n",
      "  \"multioutput='uniform_average').\", FutureWarning)\n",
      "c:\\users\\berk_\\appdata\\local\\programs\\python\\python37\\lib\\site-packages\\sklearn\\base.py:420: FutureWarning: The default value of multioutput (not exposed in score method) will change from 'variance_weighted' to 'uniform_average' in 0.23 to keep consistent with 'metrics.r2_score'. To specify the default value manually and avoid the warning, please either call 'metrics.r2_score' directly or make a custom scorer with 'metrics.make_scorer' (the built-in scorer 'r2' uses multioutput='uniform_average').\n",
      "  \"multioutput='uniform_average').\", FutureWarning)\n",
      "c:\\users\\berk_\\appdata\\local\\programs\\python\\python37\\lib\\site-packages\\sklearn\\base.py:420: FutureWarning: The default value of multioutput (not exposed in score method) will change from 'variance_weighted' to 'uniform_average' in 0.23 to keep consistent with 'metrics.r2_score'. To specify the default value manually and avoid the warning, please either call 'metrics.r2_score' directly or make a custom scorer with 'metrics.make_scorer' (the built-in scorer 'r2' uses multioutput='uniform_average').\n",
      "  \"multioutput='uniform_average').\", FutureWarning)\n",
      "c:\\users\\berk_\\appdata\\local\\programs\\python\\python37\\lib\\site-packages\\sklearn\\base.py:420: FutureWarning: The default value of multioutput (not exposed in score method) will change from 'variance_weighted' to 'uniform_average' in 0.23 to keep consistent with 'metrics.r2_score'. To specify the default value manually and avoid the warning, please either call 'metrics.r2_score' directly or make a custom scorer with 'metrics.make_scorer' (the built-in scorer 'r2' uses multioutput='uniform_average').\n",
      "  \"multioutput='uniform_average').\", FutureWarning)\n",
      "c:\\users\\berk_\\appdata\\local\\programs\\python\\python37\\lib\\site-packages\\sklearn\\base.py:420: FutureWarning: The default value of multioutput (not exposed in score method) will change from 'variance_weighted' to 'uniform_average' in 0.23 to keep consistent with 'metrics.r2_score'. To specify the default value manually and avoid the warning, please either call 'metrics.r2_score' directly or make a custom scorer with 'metrics.make_scorer' (the built-in scorer 'r2' uses multioutput='uniform_average').\n",
      "  \"multioutput='uniform_average').\", FutureWarning)\n",
      "c:\\users\\berk_\\appdata\\local\\programs\\python\\python37\\lib\\site-packages\\sklearn\\base.py:420: FutureWarning: The default value of multioutput (not exposed in score method) will change from 'variance_weighted' to 'uniform_average' in 0.23 to keep consistent with 'metrics.r2_score'. To specify the default value manually and avoid the warning, please either call 'metrics.r2_score' directly or make a custom scorer with 'metrics.make_scorer' (the built-in scorer 'r2' uses multioutput='uniform_average').\n",
      "  \"multioutput='uniform_average').\", FutureWarning)\n"
     ]
    },
    {
     "name": "stderr",
     "output_type": "stream",
     "text": [
      "c:\\users\\berk_\\appdata\\local\\programs\\python\\python37\\lib\\site-packages\\sklearn\\base.py:420: FutureWarning: The default value of multioutput (not exposed in score method) will change from 'variance_weighted' to 'uniform_average' in 0.23 to keep consistent with 'metrics.r2_score'. To specify the default value manually and avoid the warning, please either call 'metrics.r2_score' directly or make a custom scorer with 'metrics.make_scorer' (the built-in scorer 'r2' uses multioutput='uniform_average').\n",
      "  \"multioutput='uniform_average').\", FutureWarning)\n",
      "c:\\users\\berk_\\appdata\\local\\programs\\python\\python37\\lib\\site-packages\\sklearn\\base.py:420: FutureWarning: The default value of multioutput (not exposed in score method) will change from 'variance_weighted' to 'uniform_average' in 0.23 to keep consistent with 'metrics.r2_score'. To specify the default value manually and avoid the warning, please either call 'metrics.r2_score' directly or make a custom scorer with 'metrics.make_scorer' (the built-in scorer 'r2' uses multioutput='uniform_average').\n",
      "  \"multioutput='uniform_average').\", FutureWarning)\n",
      "c:\\users\\berk_\\appdata\\local\\programs\\python\\python37\\lib\\site-packages\\sklearn\\base.py:420: FutureWarning: The default value of multioutput (not exposed in score method) will change from 'variance_weighted' to 'uniform_average' in 0.23 to keep consistent with 'metrics.r2_score'. To specify the default value manually and avoid the warning, please either call 'metrics.r2_score' directly or make a custom scorer with 'metrics.make_scorer' (the built-in scorer 'r2' uses multioutput='uniform_average').\n",
      "  \"multioutput='uniform_average').\", FutureWarning)\n",
      "c:\\users\\berk_\\appdata\\local\\programs\\python\\python37\\lib\\site-packages\\sklearn\\base.py:420: FutureWarning: The default value of multioutput (not exposed in score method) will change from 'variance_weighted' to 'uniform_average' in 0.23 to keep consistent with 'metrics.r2_score'. To specify the default value manually and avoid the warning, please either call 'metrics.r2_score' directly or make a custom scorer with 'metrics.make_scorer' (the built-in scorer 'r2' uses multioutput='uniform_average').\n",
      "  \"multioutput='uniform_average').\", FutureWarning)\n",
      "c:\\users\\berk_\\appdata\\local\\programs\\python\\python37\\lib\\site-packages\\sklearn\\base.py:420: FutureWarning: The default value of multioutput (not exposed in score method) will change from 'variance_weighted' to 'uniform_average' in 0.23 to keep consistent with 'metrics.r2_score'. To specify the default value manually and avoid the warning, please either call 'metrics.r2_score' directly or make a custom scorer with 'metrics.make_scorer' (the built-in scorer 'r2' uses multioutput='uniform_average').\n",
      "  \"multioutput='uniform_average').\", FutureWarning)\n",
      "c:\\users\\berk_\\appdata\\local\\programs\\python\\python37\\lib\\site-packages\\sklearn\\base.py:420: FutureWarning: The default value of multioutput (not exposed in score method) will change from 'variance_weighted' to 'uniform_average' in 0.23 to keep consistent with 'metrics.r2_score'. To specify the default value manually and avoid the warning, please either call 'metrics.r2_score' directly or make a custom scorer with 'metrics.make_scorer' (the built-in scorer 'r2' uses multioutput='uniform_average').\n",
      "  \"multioutput='uniform_average').\", FutureWarning)\n",
      "c:\\users\\berk_\\appdata\\local\\programs\\python\\python37\\lib\\site-packages\\sklearn\\base.py:420: FutureWarning: The default value of multioutput (not exposed in score method) will change from 'variance_weighted' to 'uniform_average' in 0.23 to keep consistent with 'metrics.r2_score'. To specify the default value manually and avoid the warning, please either call 'metrics.r2_score' directly or make a custom scorer with 'metrics.make_scorer' (the built-in scorer 'r2' uses multioutput='uniform_average').\n",
      "  \"multioutput='uniform_average').\", FutureWarning)\n",
      "c:\\users\\berk_\\appdata\\local\\programs\\python\\python37\\lib\\site-packages\\sklearn\\base.py:420: FutureWarning: The default value of multioutput (not exposed in score method) will change from 'variance_weighted' to 'uniform_average' in 0.23 to keep consistent with 'metrics.r2_score'. To specify the default value manually and avoid the warning, please either call 'metrics.r2_score' directly or make a custom scorer with 'metrics.make_scorer' (the built-in scorer 'r2' uses multioutput='uniform_average').\n",
      "  \"multioutput='uniform_average').\", FutureWarning)\n",
      "c:\\users\\berk_\\appdata\\local\\programs\\python\\python37\\lib\\site-packages\\sklearn\\base.py:420: FutureWarning: The default value of multioutput (not exposed in score method) will change from 'variance_weighted' to 'uniform_average' in 0.23 to keep consistent with 'metrics.r2_score'. To specify the default value manually and avoid the warning, please either call 'metrics.r2_score' directly or make a custom scorer with 'metrics.make_scorer' (the built-in scorer 'r2' uses multioutput='uniform_average').\n",
      "  \"multioutput='uniform_average').\", FutureWarning)\n",
      "c:\\users\\berk_\\appdata\\local\\programs\\python\\python37\\lib\\site-packages\\sklearn\\base.py:420: FutureWarning: The default value of multioutput (not exposed in score method) will change from 'variance_weighted' to 'uniform_average' in 0.23 to keep consistent with 'metrics.r2_score'. To specify the default value manually and avoid the warning, please either call 'metrics.r2_score' directly or make a custom scorer with 'metrics.make_scorer' (the built-in scorer 'r2' uses multioutput='uniform_average').\n",
      "  \"multioutput='uniform_average').\", FutureWarning)\n",
      "c:\\users\\berk_\\appdata\\local\\programs\\python\\python37\\lib\\site-packages\\sklearn\\base.py:420: FutureWarning: The default value of multioutput (not exposed in score method) will change from 'variance_weighted' to 'uniform_average' in 0.23 to keep consistent with 'metrics.r2_score'. To specify the default value manually and avoid the warning, please either call 'metrics.r2_score' directly or make a custom scorer with 'metrics.make_scorer' (the built-in scorer 'r2' uses multioutput='uniform_average').\n",
      "  \"multioutput='uniform_average').\", FutureWarning)\n",
      "c:\\users\\berk_\\appdata\\local\\programs\\python\\python37\\lib\\site-packages\\sklearn\\base.py:420: FutureWarning: The default value of multioutput (not exposed in score method) will change from 'variance_weighted' to 'uniform_average' in 0.23 to keep consistent with 'metrics.r2_score'. To specify the default value manually and avoid the warning, please either call 'metrics.r2_score' directly or make a custom scorer with 'metrics.make_scorer' (the built-in scorer 'r2' uses multioutput='uniform_average').\n",
      "  \"multioutput='uniform_average').\", FutureWarning)\n",
      "c:\\users\\berk_\\appdata\\local\\programs\\python\\python37\\lib\\site-packages\\sklearn\\base.py:420: FutureWarning: The default value of multioutput (not exposed in score method) will change from 'variance_weighted' to 'uniform_average' in 0.23 to keep consistent with 'metrics.r2_score'. To specify the default value manually and avoid the warning, please either call 'metrics.r2_score' directly or make a custom scorer with 'metrics.make_scorer' (the built-in scorer 'r2' uses multioutput='uniform_average').\n",
      "  \"multioutput='uniform_average').\", FutureWarning)\n",
      "c:\\users\\berk_\\appdata\\local\\programs\\python\\python37\\lib\\site-packages\\sklearn\\base.py:420: FutureWarning: The default value of multioutput (not exposed in score method) will change from 'variance_weighted' to 'uniform_average' in 0.23 to keep consistent with 'metrics.r2_score'. To specify the default value manually and avoid the warning, please either call 'metrics.r2_score' directly or make a custom scorer with 'metrics.make_scorer' (the built-in scorer 'r2' uses multioutput='uniform_average').\n",
      "  \"multioutput='uniform_average').\", FutureWarning)\n",
      "c:\\users\\berk_\\appdata\\local\\programs\\python\\python37\\lib\\site-packages\\sklearn\\base.py:420: FutureWarning: The default value of multioutput (not exposed in score method) will change from 'variance_weighted' to 'uniform_average' in 0.23 to keep consistent with 'metrics.r2_score'. To specify the default value manually and avoid the warning, please either call 'metrics.r2_score' directly or make a custom scorer with 'metrics.make_scorer' (the built-in scorer 'r2' uses multioutput='uniform_average').\n",
      "  \"multioutput='uniform_average').\", FutureWarning)\n"
     ]
    },
    {
     "name": "stderr",
     "output_type": "stream",
     "text": [
      "c:\\users\\berk_\\appdata\\local\\programs\\python\\python37\\lib\\site-packages\\sklearn\\base.py:420: FutureWarning: The default value of multioutput (not exposed in score method) will change from 'variance_weighted' to 'uniform_average' in 0.23 to keep consistent with 'metrics.r2_score'. To specify the default value manually and avoid the warning, please either call 'metrics.r2_score' directly or make a custom scorer with 'metrics.make_scorer' (the built-in scorer 'r2' uses multioutput='uniform_average').\n",
      "  \"multioutput='uniform_average').\", FutureWarning)\n",
      "c:\\users\\berk_\\appdata\\local\\programs\\python\\python37\\lib\\site-packages\\sklearn\\base.py:420: FutureWarning: The default value of multioutput (not exposed in score method) will change from 'variance_weighted' to 'uniform_average' in 0.23 to keep consistent with 'metrics.r2_score'. To specify the default value manually and avoid the warning, please either call 'metrics.r2_score' directly or make a custom scorer with 'metrics.make_scorer' (the built-in scorer 'r2' uses multioutput='uniform_average').\n",
      "  \"multioutput='uniform_average').\", FutureWarning)\n",
      "c:\\users\\berk_\\appdata\\local\\programs\\python\\python37\\lib\\site-packages\\sklearn\\base.py:420: FutureWarning: The default value of multioutput (not exposed in score method) will change from 'variance_weighted' to 'uniform_average' in 0.23 to keep consistent with 'metrics.r2_score'. To specify the default value manually and avoid the warning, please either call 'metrics.r2_score' directly or make a custom scorer with 'metrics.make_scorer' (the built-in scorer 'r2' uses multioutput='uniform_average').\n",
      "  \"multioutput='uniform_average').\", FutureWarning)\n",
      "c:\\users\\berk_\\appdata\\local\\programs\\python\\python37\\lib\\site-packages\\sklearn\\base.py:420: FutureWarning: The default value of multioutput (not exposed in score method) will change from 'variance_weighted' to 'uniform_average' in 0.23 to keep consistent with 'metrics.r2_score'. To specify the default value manually and avoid the warning, please either call 'metrics.r2_score' directly or make a custom scorer with 'metrics.make_scorer' (the built-in scorer 'r2' uses multioutput='uniform_average').\n",
      "  \"multioutput='uniform_average').\", FutureWarning)\n",
      "c:\\users\\berk_\\appdata\\local\\programs\\python\\python37\\lib\\site-packages\\sklearn\\base.py:420: FutureWarning: The default value of multioutput (not exposed in score method) will change from 'variance_weighted' to 'uniform_average' in 0.23 to keep consistent with 'metrics.r2_score'. To specify the default value manually and avoid the warning, please either call 'metrics.r2_score' directly or make a custom scorer with 'metrics.make_scorer' (the built-in scorer 'r2' uses multioutput='uniform_average').\n",
      "  \"multioutput='uniform_average').\", FutureWarning)\n",
      "c:\\users\\berk_\\appdata\\local\\programs\\python\\python37\\lib\\site-packages\\sklearn\\base.py:420: FutureWarning: The default value of multioutput (not exposed in score method) will change from 'variance_weighted' to 'uniform_average' in 0.23 to keep consistent with 'metrics.r2_score'. To specify the default value manually and avoid the warning, please either call 'metrics.r2_score' directly or make a custom scorer with 'metrics.make_scorer' (the built-in scorer 'r2' uses multioutput='uniform_average').\n",
      "  \"multioutput='uniform_average').\", FutureWarning)\n",
      "c:\\users\\berk_\\appdata\\local\\programs\\python\\python37\\lib\\site-packages\\sklearn\\base.py:420: FutureWarning: The default value of multioutput (not exposed in score method) will change from 'variance_weighted' to 'uniform_average' in 0.23 to keep consistent with 'metrics.r2_score'. To specify the default value manually and avoid the warning, please either call 'metrics.r2_score' directly or make a custom scorer with 'metrics.make_scorer' (the built-in scorer 'r2' uses multioutput='uniform_average').\n",
      "  \"multioutput='uniform_average').\", FutureWarning)\n",
      "c:\\users\\berk_\\appdata\\local\\programs\\python\\python37\\lib\\site-packages\\sklearn\\base.py:420: FutureWarning: The default value of multioutput (not exposed in score method) will change from 'variance_weighted' to 'uniform_average' in 0.23 to keep consistent with 'metrics.r2_score'. To specify the default value manually and avoid the warning, please either call 'metrics.r2_score' directly or make a custom scorer with 'metrics.make_scorer' (the built-in scorer 'r2' uses multioutput='uniform_average').\n",
      "  \"multioutput='uniform_average').\", FutureWarning)\n",
      "c:\\users\\berk_\\appdata\\local\\programs\\python\\python37\\lib\\site-packages\\sklearn\\base.py:420: FutureWarning: The default value of multioutput (not exposed in score method) will change from 'variance_weighted' to 'uniform_average' in 0.23 to keep consistent with 'metrics.r2_score'. To specify the default value manually and avoid the warning, please either call 'metrics.r2_score' directly or make a custom scorer with 'metrics.make_scorer' (the built-in scorer 'r2' uses multioutput='uniform_average').\n",
      "  \"multioutput='uniform_average').\", FutureWarning)\n",
      "c:\\users\\berk_\\appdata\\local\\programs\\python\\python37\\lib\\site-packages\\sklearn\\base.py:420: FutureWarning: The default value of multioutput (not exposed in score method) will change from 'variance_weighted' to 'uniform_average' in 0.23 to keep consistent with 'metrics.r2_score'. To specify the default value manually and avoid the warning, please either call 'metrics.r2_score' directly or make a custom scorer with 'metrics.make_scorer' (the built-in scorer 'r2' uses multioutput='uniform_average').\n",
      "  \"multioutput='uniform_average').\", FutureWarning)\n",
      "c:\\users\\berk_\\appdata\\local\\programs\\python\\python37\\lib\\site-packages\\sklearn\\base.py:420: FutureWarning: The default value of multioutput (not exposed in score method) will change from 'variance_weighted' to 'uniform_average' in 0.23 to keep consistent with 'metrics.r2_score'. To specify the default value manually and avoid the warning, please either call 'metrics.r2_score' directly or make a custom scorer with 'metrics.make_scorer' (the built-in scorer 'r2' uses multioutput='uniform_average').\n",
      "  \"multioutput='uniform_average').\", FutureWarning)\n",
      "c:\\users\\berk_\\appdata\\local\\programs\\python\\python37\\lib\\site-packages\\sklearn\\base.py:420: FutureWarning: The default value of multioutput (not exposed in score method) will change from 'variance_weighted' to 'uniform_average' in 0.23 to keep consistent with 'metrics.r2_score'. To specify the default value manually and avoid the warning, please either call 'metrics.r2_score' directly or make a custom scorer with 'metrics.make_scorer' (the built-in scorer 'r2' uses multioutput='uniform_average').\n",
      "  \"multioutput='uniform_average').\", FutureWarning)\n",
      "c:\\users\\berk_\\appdata\\local\\programs\\python\\python37\\lib\\site-packages\\sklearn\\base.py:420: FutureWarning: The default value of multioutput (not exposed in score method) will change from 'variance_weighted' to 'uniform_average' in 0.23 to keep consistent with 'metrics.r2_score'. To specify the default value manually and avoid the warning, please either call 'metrics.r2_score' directly or make a custom scorer with 'metrics.make_scorer' (the built-in scorer 'r2' uses multioutput='uniform_average').\n",
      "  \"multioutput='uniform_average').\", FutureWarning)\n",
      "c:\\users\\berk_\\appdata\\local\\programs\\python\\python37\\lib\\site-packages\\sklearn\\base.py:420: FutureWarning: The default value of multioutput (not exposed in score method) will change from 'variance_weighted' to 'uniform_average' in 0.23 to keep consistent with 'metrics.r2_score'. To specify the default value manually and avoid the warning, please either call 'metrics.r2_score' directly or make a custom scorer with 'metrics.make_scorer' (the built-in scorer 'r2' uses multioutput='uniform_average').\n",
      "  \"multioutput='uniform_average').\", FutureWarning)\n",
      "c:\\users\\berk_\\appdata\\local\\programs\\python\\python37\\lib\\site-packages\\sklearn\\base.py:420: FutureWarning: The default value of multioutput (not exposed in score method) will change from 'variance_weighted' to 'uniform_average' in 0.23 to keep consistent with 'metrics.r2_score'. To specify the default value manually and avoid the warning, please either call 'metrics.r2_score' directly or make a custom scorer with 'metrics.make_scorer' (the built-in scorer 'r2' uses multioutput='uniform_average').\n",
      "  \"multioutput='uniform_average').\", FutureWarning)\n"
     ]
    },
    {
     "name": "stderr",
     "output_type": "stream",
     "text": [
      "c:\\users\\berk_\\appdata\\local\\programs\\python\\python37\\lib\\site-packages\\sklearn\\base.py:420: FutureWarning: The default value of multioutput (not exposed in score method) will change from 'variance_weighted' to 'uniform_average' in 0.23 to keep consistent with 'metrics.r2_score'. To specify the default value manually and avoid the warning, please either call 'metrics.r2_score' directly or make a custom scorer with 'metrics.make_scorer' (the built-in scorer 'r2' uses multioutput='uniform_average').\n",
      "  \"multioutput='uniform_average').\", FutureWarning)\n",
      "c:\\users\\berk_\\appdata\\local\\programs\\python\\python37\\lib\\site-packages\\sklearn\\base.py:420: FutureWarning: The default value of multioutput (not exposed in score method) will change from 'variance_weighted' to 'uniform_average' in 0.23 to keep consistent with 'metrics.r2_score'. To specify the default value manually and avoid the warning, please either call 'metrics.r2_score' directly or make a custom scorer with 'metrics.make_scorer' (the built-in scorer 'r2' uses multioutput='uniform_average').\n",
      "  \"multioutput='uniform_average').\", FutureWarning)\n",
      "c:\\users\\berk_\\appdata\\local\\programs\\python\\python37\\lib\\site-packages\\sklearn\\base.py:420: FutureWarning: The default value of multioutput (not exposed in score method) will change from 'variance_weighted' to 'uniform_average' in 0.23 to keep consistent with 'metrics.r2_score'. To specify the default value manually and avoid the warning, please either call 'metrics.r2_score' directly or make a custom scorer with 'metrics.make_scorer' (the built-in scorer 'r2' uses multioutput='uniform_average').\n",
      "  \"multioutput='uniform_average').\", FutureWarning)\n",
      "c:\\users\\berk_\\appdata\\local\\programs\\python\\python37\\lib\\site-packages\\sklearn\\base.py:420: FutureWarning: The default value of multioutput (not exposed in score method) will change from 'variance_weighted' to 'uniform_average' in 0.23 to keep consistent with 'metrics.r2_score'. To specify the default value manually and avoid the warning, please either call 'metrics.r2_score' directly or make a custom scorer with 'metrics.make_scorer' (the built-in scorer 'r2' uses multioutput='uniform_average').\n",
      "  \"multioutput='uniform_average').\", FutureWarning)\n",
      "c:\\users\\berk_\\appdata\\local\\programs\\python\\python37\\lib\\site-packages\\sklearn\\base.py:420: FutureWarning: The default value of multioutput (not exposed in score method) will change from 'variance_weighted' to 'uniform_average' in 0.23 to keep consistent with 'metrics.r2_score'. To specify the default value manually and avoid the warning, please either call 'metrics.r2_score' directly or make a custom scorer with 'metrics.make_scorer' (the built-in scorer 'r2' uses multioutput='uniform_average').\n",
      "  \"multioutput='uniform_average').\", FutureWarning)\n",
      "c:\\users\\berk_\\appdata\\local\\programs\\python\\python37\\lib\\site-packages\\sklearn\\base.py:420: FutureWarning: The default value of multioutput (not exposed in score method) will change from 'variance_weighted' to 'uniform_average' in 0.23 to keep consistent with 'metrics.r2_score'. To specify the default value manually and avoid the warning, please either call 'metrics.r2_score' directly or make a custom scorer with 'metrics.make_scorer' (the built-in scorer 'r2' uses multioutput='uniform_average').\n",
      "  \"multioutput='uniform_average').\", FutureWarning)\n",
      "c:\\users\\berk_\\appdata\\local\\programs\\python\\python37\\lib\\site-packages\\sklearn\\base.py:420: FutureWarning: The default value of multioutput (not exposed in score method) will change from 'variance_weighted' to 'uniform_average' in 0.23 to keep consistent with 'metrics.r2_score'. To specify the default value manually and avoid the warning, please either call 'metrics.r2_score' directly or make a custom scorer with 'metrics.make_scorer' (the built-in scorer 'r2' uses multioutput='uniform_average').\n",
      "  \"multioutput='uniform_average').\", FutureWarning)\n",
      "c:\\users\\berk_\\appdata\\local\\programs\\python\\python37\\lib\\site-packages\\sklearn\\base.py:420: FutureWarning: The default value of multioutput (not exposed in score method) will change from 'variance_weighted' to 'uniform_average' in 0.23 to keep consistent with 'metrics.r2_score'. To specify the default value manually and avoid the warning, please either call 'metrics.r2_score' directly or make a custom scorer with 'metrics.make_scorer' (the built-in scorer 'r2' uses multioutput='uniform_average').\n",
      "  \"multioutput='uniform_average').\", FutureWarning)\n",
      "c:\\users\\berk_\\appdata\\local\\programs\\python\\python37\\lib\\site-packages\\sklearn\\base.py:420: FutureWarning: The default value of multioutput (not exposed in score method) will change from 'variance_weighted' to 'uniform_average' in 0.23 to keep consistent with 'metrics.r2_score'. To specify the default value manually and avoid the warning, please either call 'metrics.r2_score' directly or make a custom scorer with 'metrics.make_scorer' (the built-in scorer 'r2' uses multioutput='uniform_average').\n",
      "  \"multioutput='uniform_average').\", FutureWarning)\n",
      "c:\\users\\berk_\\appdata\\local\\programs\\python\\python37\\lib\\site-packages\\sklearn\\base.py:420: FutureWarning: The default value of multioutput (not exposed in score method) will change from 'variance_weighted' to 'uniform_average' in 0.23 to keep consistent with 'metrics.r2_score'. To specify the default value manually and avoid the warning, please either call 'metrics.r2_score' directly or make a custom scorer with 'metrics.make_scorer' (the built-in scorer 'r2' uses multioutput='uniform_average').\n",
      "  \"multioutput='uniform_average').\", FutureWarning)\n",
      "c:\\users\\berk_\\appdata\\local\\programs\\python\\python37\\lib\\site-packages\\sklearn\\base.py:420: FutureWarning: The default value of multioutput (not exposed in score method) will change from 'variance_weighted' to 'uniform_average' in 0.23 to keep consistent with 'metrics.r2_score'. To specify the default value manually and avoid the warning, please either call 'metrics.r2_score' directly or make a custom scorer with 'metrics.make_scorer' (the built-in scorer 'r2' uses multioutput='uniform_average').\n",
      "  \"multioutput='uniform_average').\", FutureWarning)\n",
      "c:\\users\\berk_\\appdata\\local\\programs\\python\\python37\\lib\\site-packages\\sklearn\\base.py:420: FutureWarning: The default value of multioutput (not exposed in score method) will change from 'variance_weighted' to 'uniform_average' in 0.23 to keep consistent with 'metrics.r2_score'. To specify the default value manually and avoid the warning, please either call 'metrics.r2_score' directly or make a custom scorer with 'metrics.make_scorer' (the built-in scorer 'r2' uses multioutput='uniform_average').\n",
      "  \"multioutput='uniform_average').\", FutureWarning)\n",
      "c:\\users\\berk_\\appdata\\local\\programs\\python\\python37\\lib\\site-packages\\sklearn\\base.py:420: FutureWarning: The default value of multioutput (not exposed in score method) will change from 'variance_weighted' to 'uniform_average' in 0.23 to keep consistent with 'metrics.r2_score'. To specify the default value manually and avoid the warning, please either call 'metrics.r2_score' directly or make a custom scorer with 'metrics.make_scorer' (the built-in scorer 'r2' uses multioutput='uniform_average').\n",
      "  \"multioutput='uniform_average').\", FutureWarning)\n",
      "c:\\users\\berk_\\appdata\\local\\programs\\python\\python37\\lib\\site-packages\\sklearn\\base.py:420: FutureWarning: The default value of multioutput (not exposed in score method) will change from 'variance_weighted' to 'uniform_average' in 0.23 to keep consistent with 'metrics.r2_score'. To specify the default value manually and avoid the warning, please either call 'metrics.r2_score' directly or make a custom scorer with 'metrics.make_scorer' (the built-in scorer 'r2' uses multioutput='uniform_average').\n",
      "  \"multioutput='uniform_average').\", FutureWarning)\n",
      "c:\\users\\berk_\\appdata\\local\\programs\\python\\python37\\lib\\site-packages\\sklearn\\base.py:420: FutureWarning: The default value of multioutput (not exposed in score method) will change from 'variance_weighted' to 'uniform_average' in 0.23 to keep consistent with 'metrics.r2_score'. To specify the default value manually and avoid the warning, please either call 'metrics.r2_score' directly or make a custom scorer with 'metrics.make_scorer' (the built-in scorer 'r2' uses multioutput='uniform_average').\n",
      "  \"multioutput='uniform_average').\", FutureWarning)\n"
     ]
    },
    {
     "name": "stderr",
     "output_type": "stream",
     "text": [
      "c:\\users\\berk_\\appdata\\local\\programs\\python\\python37\\lib\\site-packages\\sklearn\\base.py:420: FutureWarning: The default value of multioutput (not exposed in score method) will change from 'variance_weighted' to 'uniform_average' in 0.23 to keep consistent with 'metrics.r2_score'. To specify the default value manually and avoid the warning, please either call 'metrics.r2_score' directly or make a custom scorer with 'metrics.make_scorer' (the built-in scorer 'r2' uses multioutput='uniform_average').\n",
      "  \"multioutput='uniform_average').\", FutureWarning)\n",
      "c:\\users\\berk_\\appdata\\local\\programs\\python\\python37\\lib\\site-packages\\sklearn\\base.py:420: FutureWarning: The default value of multioutput (not exposed in score method) will change from 'variance_weighted' to 'uniform_average' in 0.23 to keep consistent with 'metrics.r2_score'. To specify the default value manually and avoid the warning, please either call 'metrics.r2_score' directly or make a custom scorer with 'metrics.make_scorer' (the built-in scorer 'r2' uses multioutput='uniform_average').\n",
      "  \"multioutput='uniform_average').\", FutureWarning)\n",
      "c:\\users\\berk_\\appdata\\local\\programs\\python\\python37\\lib\\site-packages\\sklearn\\base.py:420: FutureWarning: The default value of multioutput (not exposed in score method) will change from 'variance_weighted' to 'uniform_average' in 0.23 to keep consistent with 'metrics.r2_score'. To specify the default value manually and avoid the warning, please either call 'metrics.r2_score' directly or make a custom scorer with 'metrics.make_scorer' (the built-in scorer 'r2' uses multioutput='uniform_average').\n",
      "  \"multioutput='uniform_average').\", FutureWarning)\n",
      "c:\\users\\berk_\\appdata\\local\\programs\\python\\python37\\lib\\site-packages\\sklearn\\base.py:420: FutureWarning: The default value of multioutput (not exposed in score method) will change from 'variance_weighted' to 'uniform_average' in 0.23 to keep consistent with 'metrics.r2_score'. To specify the default value manually and avoid the warning, please either call 'metrics.r2_score' directly or make a custom scorer with 'metrics.make_scorer' (the built-in scorer 'r2' uses multioutput='uniform_average').\n",
      "  \"multioutput='uniform_average').\", FutureWarning)\n",
      "c:\\users\\berk_\\appdata\\local\\programs\\python\\python37\\lib\\site-packages\\sklearn\\base.py:420: FutureWarning: The default value of multioutput (not exposed in score method) will change from 'variance_weighted' to 'uniform_average' in 0.23 to keep consistent with 'metrics.r2_score'. To specify the default value manually and avoid the warning, please either call 'metrics.r2_score' directly or make a custom scorer with 'metrics.make_scorer' (the built-in scorer 'r2' uses multioutput='uniform_average').\n",
      "  \"multioutput='uniform_average').\", FutureWarning)\n",
      "c:\\users\\berk_\\appdata\\local\\programs\\python\\python37\\lib\\site-packages\\sklearn\\base.py:420: FutureWarning: The default value of multioutput (not exposed in score method) will change from 'variance_weighted' to 'uniform_average' in 0.23 to keep consistent with 'metrics.r2_score'. To specify the default value manually and avoid the warning, please either call 'metrics.r2_score' directly or make a custom scorer with 'metrics.make_scorer' (the built-in scorer 'r2' uses multioutput='uniform_average').\n",
      "  \"multioutput='uniform_average').\", FutureWarning)\n",
      "c:\\users\\berk_\\appdata\\local\\programs\\python\\python37\\lib\\site-packages\\sklearn\\base.py:420: FutureWarning: The default value of multioutput (not exposed in score method) will change from 'variance_weighted' to 'uniform_average' in 0.23 to keep consistent with 'metrics.r2_score'. To specify the default value manually and avoid the warning, please either call 'metrics.r2_score' directly or make a custom scorer with 'metrics.make_scorer' (the built-in scorer 'r2' uses multioutput='uniform_average').\n",
      "  \"multioutput='uniform_average').\", FutureWarning)\n",
      "c:\\users\\berk_\\appdata\\local\\programs\\python\\python37\\lib\\site-packages\\sklearn\\base.py:420: FutureWarning: The default value of multioutput (not exposed in score method) will change from 'variance_weighted' to 'uniform_average' in 0.23 to keep consistent with 'metrics.r2_score'. To specify the default value manually and avoid the warning, please either call 'metrics.r2_score' directly or make a custom scorer with 'metrics.make_scorer' (the built-in scorer 'r2' uses multioutput='uniform_average').\n",
      "  \"multioutput='uniform_average').\", FutureWarning)\n",
      "c:\\users\\berk_\\appdata\\local\\programs\\python\\python37\\lib\\site-packages\\sklearn\\base.py:420: FutureWarning: The default value of multioutput (not exposed in score method) will change from 'variance_weighted' to 'uniform_average' in 0.23 to keep consistent with 'metrics.r2_score'. To specify the default value manually and avoid the warning, please either call 'metrics.r2_score' directly or make a custom scorer with 'metrics.make_scorer' (the built-in scorer 'r2' uses multioutput='uniform_average').\n",
      "  \"multioutput='uniform_average').\", FutureWarning)\n",
      "c:\\users\\berk_\\appdata\\local\\programs\\python\\python37\\lib\\site-packages\\sklearn\\base.py:420: FutureWarning: The default value of multioutput (not exposed in score method) will change from 'variance_weighted' to 'uniform_average' in 0.23 to keep consistent with 'metrics.r2_score'. To specify the default value manually and avoid the warning, please either call 'metrics.r2_score' directly or make a custom scorer with 'metrics.make_scorer' (the built-in scorer 'r2' uses multioutput='uniform_average').\n",
      "  \"multioutput='uniform_average').\", FutureWarning)\n",
      "c:\\users\\berk_\\appdata\\local\\programs\\python\\python37\\lib\\site-packages\\sklearn\\base.py:420: FutureWarning: The default value of multioutput (not exposed in score method) will change from 'variance_weighted' to 'uniform_average' in 0.23 to keep consistent with 'metrics.r2_score'. To specify the default value manually and avoid the warning, please either call 'metrics.r2_score' directly or make a custom scorer with 'metrics.make_scorer' (the built-in scorer 'r2' uses multioutput='uniform_average').\n",
      "  \"multioutput='uniform_average').\", FutureWarning)\n",
      "c:\\users\\berk_\\appdata\\local\\programs\\python\\python37\\lib\\site-packages\\sklearn\\base.py:420: FutureWarning: The default value of multioutput (not exposed in score method) will change from 'variance_weighted' to 'uniform_average' in 0.23 to keep consistent with 'metrics.r2_score'. To specify the default value manually and avoid the warning, please either call 'metrics.r2_score' directly or make a custom scorer with 'metrics.make_scorer' (the built-in scorer 'r2' uses multioutput='uniform_average').\n",
      "  \"multioutput='uniform_average').\", FutureWarning)\n",
      "c:\\users\\berk_\\appdata\\local\\programs\\python\\python37\\lib\\site-packages\\sklearn\\base.py:420: FutureWarning: The default value of multioutput (not exposed in score method) will change from 'variance_weighted' to 'uniform_average' in 0.23 to keep consistent with 'metrics.r2_score'. To specify the default value manually and avoid the warning, please either call 'metrics.r2_score' directly or make a custom scorer with 'metrics.make_scorer' (the built-in scorer 'r2' uses multioutput='uniform_average').\n",
      "  \"multioutput='uniform_average').\", FutureWarning)\n",
      "c:\\users\\berk_\\appdata\\local\\programs\\python\\python37\\lib\\site-packages\\sklearn\\base.py:420: FutureWarning: The default value of multioutput (not exposed in score method) will change from 'variance_weighted' to 'uniform_average' in 0.23 to keep consistent with 'metrics.r2_score'. To specify the default value manually and avoid the warning, please either call 'metrics.r2_score' directly or make a custom scorer with 'metrics.make_scorer' (the built-in scorer 'r2' uses multioutput='uniform_average').\n",
      "  \"multioutput='uniform_average').\", FutureWarning)\n",
      "c:\\users\\berk_\\appdata\\local\\programs\\python\\python37\\lib\\site-packages\\sklearn\\base.py:420: FutureWarning: The default value of multioutput (not exposed in score method) will change from 'variance_weighted' to 'uniform_average' in 0.23 to keep consistent with 'metrics.r2_score'. To specify the default value manually and avoid the warning, please either call 'metrics.r2_score' directly or make a custom scorer with 'metrics.make_scorer' (the built-in scorer 'r2' uses multioutput='uniform_average').\n",
      "  \"multioutput='uniform_average').\", FutureWarning)\n"
     ]
    },
    {
     "name": "stderr",
     "output_type": "stream",
     "text": [
      "c:\\users\\berk_\\appdata\\local\\programs\\python\\python37\\lib\\site-packages\\sklearn\\base.py:420: FutureWarning: The default value of multioutput (not exposed in score method) will change from 'variance_weighted' to 'uniform_average' in 0.23 to keep consistent with 'metrics.r2_score'. To specify the default value manually and avoid the warning, please either call 'metrics.r2_score' directly or make a custom scorer with 'metrics.make_scorer' (the built-in scorer 'r2' uses multioutput='uniform_average').\n",
      "  \"multioutput='uniform_average').\", FutureWarning)\n",
      "c:\\users\\berk_\\appdata\\local\\programs\\python\\python37\\lib\\site-packages\\sklearn\\base.py:420: FutureWarning: The default value of multioutput (not exposed in score method) will change from 'variance_weighted' to 'uniform_average' in 0.23 to keep consistent with 'metrics.r2_score'. To specify the default value manually and avoid the warning, please either call 'metrics.r2_score' directly or make a custom scorer with 'metrics.make_scorer' (the built-in scorer 'r2' uses multioutput='uniform_average').\n",
      "  \"multioutput='uniform_average').\", FutureWarning)\n",
      "c:\\users\\berk_\\appdata\\local\\programs\\python\\python37\\lib\\site-packages\\sklearn\\base.py:420: FutureWarning: The default value of multioutput (not exposed in score method) will change from 'variance_weighted' to 'uniform_average' in 0.23 to keep consistent with 'metrics.r2_score'. To specify the default value manually and avoid the warning, please either call 'metrics.r2_score' directly or make a custom scorer with 'metrics.make_scorer' (the built-in scorer 'r2' uses multioutput='uniform_average').\n",
      "  \"multioutput='uniform_average').\", FutureWarning)\n",
      "c:\\users\\berk_\\appdata\\local\\programs\\python\\python37\\lib\\site-packages\\sklearn\\base.py:420: FutureWarning: The default value of multioutput (not exposed in score method) will change from 'variance_weighted' to 'uniform_average' in 0.23 to keep consistent with 'metrics.r2_score'. To specify the default value manually and avoid the warning, please either call 'metrics.r2_score' directly or make a custom scorer with 'metrics.make_scorer' (the built-in scorer 'r2' uses multioutput='uniform_average').\n",
      "  \"multioutput='uniform_average').\", FutureWarning)\n",
      "c:\\users\\berk_\\appdata\\local\\programs\\python\\python37\\lib\\site-packages\\sklearn\\base.py:420: FutureWarning: The default value of multioutput (not exposed in score method) will change from 'variance_weighted' to 'uniform_average' in 0.23 to keep consistent with 'metrics.r2_score'. To specify the default value manually and avoid the warning, please either call 'metrics.r2_score' directly or make a custom scorer with 'metrics.make_scorer' (the built-in scorer 'r2' uses multioutput='uniform_average').\n",
      "  \"multioutput='uniform_average').\", FutureWarning)\n"
     ]
    },
    {
     "data": {
      "text/plain": [
       "Pipeline(memory=None,\n",
       "         steps=[('encoder',\n",
       "                 ColumnTransformer(n_jobs=None, remainder='passthrough',\n",
       "                                   sparse_threshold=0.3,\n",
       "                                   transformer_weights=None,\n",
       "                                   transformers=[('ohe',\n",
       "                                                  OneHotEncoder(categorical_features=None,\n",
       "                                                                categories='auto',\n",
       "                                                                drop=None,\n",
       "                                                                dtype=<class 'numpy.float64'>,\n",
       "                                                                handle_unknown='error',\n",
       "                                                                n_values=None,\n",
       "                                                                sparse=True),\n",
       "                                                  ['Month', 'Day',\n",
       "                                                   'IsWeekend'])],\n",
       "                                   verbose=False...\n",
       "                                                              min_samples_leaf=1,\n",
       "                                                              min_samples_split=2,\n",
       "                                                              min_weight_fraction_leaf=0.0,\n",
       "                                                              n_estimators=100,\n",
       "                                                              n_jobs=None,\n",
       "                                                              oob_score=False,\n",
       "                                                              random_state=None,\n",
       "                                                              verbose=0,\n",
       "                                                              warm_start=False),\n",
       "                              iid='warn', n_jobs=None,\n",
       "                              param_grid={'max_depth': [1, 10, 20, None],\n",
       "                                          'min_samples_leaf': [1, 5, 10, 20]},\n",
       "                              pre_dispatch='2*n_jobs', refit=True,\n",
       "                              return_train_score=False, scoring=None,\n",
       "                              verbose=0))],\n",
       "         verbose=False)"
      ]
     },
     "execution_count": 280,
     "metadata": {},
     "output_type": "execute_result"
    }
   ],
   "source": [
    "ml_pipe.fit(X.iloc[:-60], y.iloc[:-60] + 1)\n"
   ]
  },
  {
   "cell_type": "code",
   "execution_count": 282,
   "metadata": {},
   "outputs": [
    {
     "data": {
      "text/plain": [
       "<matplotlib.legend.Legend at 0x20a6c111f08>"
      ]
     },
     "execution_count": 282,
     "metadata": {},
     "output_type": "execute_result"
    },
    {
     "data": {
      "image/png": "[encoded data removed]",
      "text/plain": [
       "<Figure size 432x288 with 1 Axes>"
      ]
     },
     "metadata": {
      "needs_background": "light"
     },
     "output_type": "display_data"
    }
   ],
   "source": [
    "\n",
    "y_pred = ml_pipe.predict(X[-60:])\n",
    "y_pred = pd.DataFrame(y_pred, index=df['Date'].iloc[-60:], columns=['CashIn_pred', 'CashOut_pred'])\n",
    "y_pred['CashOut_pred'].plot()\n",
    "y.set_index(df['Date']).iloc[-60:]['CashOut'].plot()\n",
    "plt.legend()"
   ]
  },
  {
   "cell_type": "code",
   "execution_count": 278,
   "metadata": {},
   "outputs": [
    {
     "data": {
      "text/plain": [
       "<matplotlib.collections.PathCollection at 0x20a6c0828c8>"
      ]
     },
     "execution_count": 278,
     "metadata": {},
     "output_type": "execute_result"
    },
    {
     "data": {
      "image/png": "[encoded data removed]",
      "text/plain": [
       "<Figure size 432x288 with 1 Axes>"
      ]
     },
     "metadata": {
      "needs_background": "light"
     },
     "output_type": "display_data"
    }
   ],
   "source": [
    "plt.scatter(np.exp(y_pred['CashOut_pred']), (y.iloc[-60:]['CashOut'] -np.exp( y_pred['CashOut_pred']).values))"
   ]
  },
  {
   "cell_type": "code",
   "execution_count": 283,
   "metadata": {},
   "outputs": [
    {
     "data": {
      "text/html": [
       "<div>\n",
       "<style scoped>\n",
       "    .dataframe tbody tr th:only-of-type {\n",
       "        vertical-align: middle;\n",
       "    }\n",
       "\n",
       "    .dataframe tbody tr th {\n",
       "        vertical-align: top;\n",
       "    }\n",
       "\n",
       "    .dataframe thead th {\n",
       "        text-align: right;\n",
       "    }\n",
       "</style>\n",
       "<table border=\"1\" class=\"dataframe\">\n",
       "  <thead>\n",
       "    <tr style=\"text-align: right;\">\n",
       "      <th></th>\n",
       "      <th>Year</th>\n",
       "      <th>Month</th>\n",
       "      <th>WeekDay</th>\n",
       "      <th>Day</th>\n",
       "      <th>IsWeekend</th>\n",
       "    </tr>\n",
       "  </thead>\n",
       "  <tbody>\n",
       "    <tr>\n",
       "      <td>16</td>\n",
       "      <td>2016</td>\n",
       "      <td>1</td>\n",
       "      <td>4</td>\n",
       "      <td>1</td>\n",
       "      <td>0</td>\n",
       "    </tr>\n",
       "    <tr>\n",
       "      <td>21</td>\n",
       "      <td>2016</td>\n",
       "      <td>1</td>\n",
       "      <td>5</td>\n",
       "      <td>2</td>\n",
       "      <td>1</td>\n",
       "    </tr>\n",
       "    <tr>\n",
       "      <td>26</td>\n",
       "      <td>2016</td>\n",
       "      <td>1</td>\n",
       "      <td>6</td>\n",
       "      <td>3</td>\n",
       "      <td>1</td>\n",
       "    </tr>\n",
       "    <tr>\n",
       "      <td>0</td>\n",
       "      <td>2016</td>\n",
       "      <td>1</td>\n",
       "      <td>0</td>\n",
       "      <td>4</td>\n",
       "      <td>0</td>\n",
       "    </tr>\n",
       "    <tr>\n",
       "      <td>4</td>\n",
       "      <td>2016</td>\n",
       "      <td>1</td>\n",
       "      <td>1</td>\n",
       "      <td>5</td>\n",
       "      <td>0</td>\n",
       "    </tr>\n",
       "    <tr>\n",
       "      <td>...</td>\n",
       "      <td>...</td>\n",
       "      <td>...</td>\n",
       "      <td>...</td>\n",
       "      <td>...</td>\n",
       "      <td>...</td>\n",
       "    </tr>\n",
       "    <tr>\n",
       "      <td>1166</td>\n",
       "      <td>2019</td>\n",
       "      <td>3</td>\n",
       "      <td>2</td>\n",
       "      <td>27</td>\n",
       "      <td>0</td>\n",
       "    </tr>\n",
       "    <tr>\n",
       "      <td>1170</td>\n",
       "      <td>2019</td>\n",
       "      <td>3</td>\n",
       "      <td>3</td>\n",
       "      <td>28</td>\n",
       "      <td>0</td>\n",
       "    </tr>\n",
       "    <tr>\n",
       "      <td>1175</td>\n",
       "      <td>2019</td>\n",
       "      <td>3</td>\n",
       "      <td>4</td>\n",
       "      <td>29</td>\n",
       "      <td>0</td>\n",
       "    </tr>\n",
       "    <tr>\n",
       "      <td>1180</td>\n",
       "      <td>2019</td>\n",
       "      <td>3</td>\n",
       "      <td>5</td>\n",
       "      <td>30</td>\n",
       "      <td>1</td>\n",
       "    </tr>\n",
       "    <tr>\n",
       "      <td>1185</td>\n",
       "      <td>2019</td>\n",
       "      <td>3</td>\n",
       "      <td>6</td>\n",
       "      <td>31</td>\n",
       "      <td>1</td>\n",
       "    </tr>\n",
       "  </tbody>\n",
       "</table>\n",
       "<p>1186 rows × 5 columns</p>\n",
       "</div>"
      ],
      "text/plain": [
       "      Year  Month  WeekDay  Day  IsWeekend\n",
       "16    2016      1        4    1          0\n",
       "21    2016      1        5    2          1\n",
       "26    2016      1        6    3          1\n",
       "0     2016      1        0    4          0\n",
       "4     2016      1        1    5          0\n",
       "...    ...    ...      ...  ...        ...\n",
       "1166  2019      3        2   27          0\n",
       "1170  2019      3        3   28          0\n",
       "1175  2019      3        4   29          0\n",
       "1180  2019      3        5   30          1\n",
       "1185  2019      3        6   31          1\n",
       "\n",
       "[1186 rows x 5 columns]"
      ]
     },
     "execution_count": 283,
     "metadata": {},
     "output_type": "execute_result"
    }
   ],
   "source": [
    "X"
   ]
  },
  {
   "cell_type": "code",
   "execution_count": 23,
   "metadata": {},
   "outputs": [
    {
     "data": {
      "text/html": [
       "<div>\n",
       "<style scoped>\n",
       "    .dataframe tbody tr th:only-of-type {\n",
       "        vertical-align: middle;\n",
       "    }\n",
       "\n",
       "    .dataframe tbody tr th {\n",
       "        vertical-align: top;\n",
       "    }\n",
       "\n",
       "    .dataframe thead th {\n",
       "        text-align: right;\n",
       "    }\n",
       "</style>\n",
       "<table border=\"1\" class=\"dataframe\">\n",
       "  <thead>\n",
       "    <tr style=\"text-align: right;\">\n",
       "      <th></th>\n",
       "      <th>Year</th>\n",
       "      <th>Month</th>\n",
       "      <th>WeekDay</th>\n",
       "      <th>Day</th>\n",
       "      <th>IsWeekend</th>\n",
       "    </tr>\n",
       "  </thead>\n",
       "  <tbody>\n",
       "    <tr>\n",
       "      <th>0</th>\n",
       "      <td>2019</td>\n",
       "      <td>4</td>\n",
       "      <td>0</td>\n",
       "      <td>1</td>\n",
       "      <td>0</td>\n",
       "    </tr>\n",
       "    <tr>\n",
       "      <th>1</th>\n",
       "      <td>2019</td>\n",
       "      <td>4</td>\n",
       "      <td>1</td>\n",
       "      <td>2</td>\n",
       "      <td>0</td>\n",
       "    </tr>\n",
       "    <tr>\n",
       "      <th>2</th>\n",
       "      <td>2019</td>\n",
       "      <td>4</td>\n",
       "      <td>2</td>\n",
       "      <td>3</td>\n",
       "      <td>0</td>\n",
       "    </tr>\n",
       "    <tr>\n",
       "      <th>3</th>\n",
       "      <td>2019</td>\n",
       "      <td>4</td>\n",
       "      <td>3</td>\n",
       "      <td>4</td>\n",
       "      <td>0</td>\n",
       "    </tr>\n",
       "    <tr>\n",
       "      <th>4</th>\n",
       "      <td>2019</td>\n",
       "      <td>4</td>\n",
       "      <td>4</td>\n",
       "      <td>5</td>\n",
       "      <td>0</td>\n",
       "    </tr>\n",
       "    <tr>\n",
       "      <th>5</th>\n",
       "      <td>2019</td>\n",
       "      <td>4</td>\n",
       "      <td>5</td>\n",
       "      <td>6</td>\n",
       "      <td>1</td>\n",
       "    </tr>\n",
       "    <tr>\n",
       "      <th>6</th>\n",
       "      <td>2019</td>\n",
       "      <td>4</td>\n",
       "      <td>6</td>\n",
       "      <td>7</td>\n",
       "      <td>1</td>\n",
       "    </tr>\n",
       "    <tr>\n",
       "      <th>7</th>\n",
       "      <td>2019</td>\n",
       "      <td>4</td>\n",
       "      <td>0</td>\n",
       "      <td>8</td>\n",
       "      <td>0</td>\n",
       "    </tr>\n",
       "    <tr>\n",
       "      <th>8</th>\n",
       "      <td>2019</td>\n",
       "      <td>4</td>\n",
       "      <td>1</td>\n",
       "      <td>9</td>\n",
       "      <td>0</td>\n",
       "    </tr>\n",
       "    <tr>\n",
       "      <th>9</th>\n",
       "      <td>2019</td>\n",
       "      <td>4</td>\n",
       "      <td>2</td>\n",
       "      <td>10</td>\n",
       "      <td>0</td>\n",
       "    </tr>\n",
       "    <tr>\n",
       "      <th>10</th>\n",
       "      <td>2019</td>\n",
       "      <td>4</td>\n",
       "      <td>3</td>\n",
       "      <td>11</td>\n",
       "      <td>0</td>\n",
       "    </tr>\n",
       "    <tr>\n",
       "      <th>11</th>\n",
       "      <td>2019</td>\n",
       "      <td>4</td>\n",
       "      <td>4</td>\n",
       "      <td>12</td>\n",
       "      <td>0</td>\n",
       "    </tr>\n",
       "    <tr>\n",
       "      <th>12</th>\n",
       "      <td>2019</td>\n",
       "      <td>4</td>\n",
       "      <td>5</td>\n",
       "      <td>13</td>\n",
       "      <td>1</td>\n",
       "    </tr>\n",
       "    <tr>\n",
       "      <th>13</th>\n",
       "      <td>2019</td>\n",
       "      <td>4</td>\n",
       "      <td>6</td>\n",
       "      <td>14</td>\n",
       "      <td>1</td>\n",
       "    </tr>\n",
       "    <tr>\n",
       "      <th>14</th>\n",
       "      <td>2019</td>\n",
       "      <td>4</td>\n",
       "      <td>0</td>\n",
       "      <td>15</td>\n",
       "      <td>0</td>\n",
       "    </tr>\n",
       "    <tr>\n",
       "      <th>15</th>\n",
       "      <td>2019</td>\n",
       "      <td>4</td>\n",
       "      <td>1</td>\n",
       "      <td>16</td>\n",
       "      <td>0</td>\n",
       "    </tr>\n",
       "    <tr>\n",
       "      <th>16</th>\n",
       "      <td>2019</td>\n",
       "      <td>4</td>\n",
       "      <td>2</td>\n",
       "      <td>17</td>\n",
       "      <td>0</td>\n",
       "    </tr>\n",
       "    <tr>\n",
       "      <th>17</th>\n",
       "      <td>2019</td>\n",
       "      <td>4</td>\n",
       "      <td>3</td>\n",
       "      <td>18</td>\n",
       "      <td>0</td>\n",
       "    </tr>\n",
       "    <tr>\n",
       "      <th>18</th>\n",
       "      <td>2019</td>\n",
       "      <td>4</td>\n",
       "      <td>4</td>\n",
       "      <td>19</td>\n",
       "      <td>0</td>\n",
       "    </tr>\n",
       "    <tr>\n",
       "      <th>19</th>\n",
       "      <td>2019</td>\n",
       "      <td>4</td>\n",
       "      <td>5</td>\n",
       "      <td>20</td>\n",
       "      <td>1</td>\n",
       "    </tr>\n",
       "    <tr>\n",
       "      <th>20</th>\n",
       "      <td>2019</td>\n",
       "      <td>4</td>\n",
       "      <td>6</td>\n",
       "      <td>21</td>\n",
       "      <td>1</td>\n",
       "    </tr>\n",
       "    <tr>\n",
       "      <th>21</th>\n",
       "      <td>2019</td>\n",
       "      <td>4</td>\n",
       "      <td>0</td>\n",
       "      <td>22</td>\n",
       "      <td>0</td>\n",
       "    </tr>\n",
       "    <tr>\n",
       "      <th>22</th>\n",
       "      <td>2019</td>\n",
       "      <td>4</td>\n",
       "      <td>1</td>\n",
       "      <td>23</td>\n",
       "      <td>0</td>\n",
       "    </tr>\n",
       "    <tr>\n",
       "      <th>23</th>\n",
       "      <td>2019</td>\n",
       "      <td>4</td>\n",
       "      <td>2</td>\n",
       "      <td>24</td>\n",
       "      <td>0</td>\n",
       "    </tr>\n",
       "    <tr>\n",
       "      <th>24</th>\n",
       "      <td>2019</td>\n",
       "      <td>4</td>\n",
       "      <td>3</td>\n",
       "      <td>25</td>\n",
       "      <td>0</td>\n",
       "    </tr>\n",
       "    <tr>\n",
       "      <th>25</th>\n",
       "      <td>2019</td>\n",
       "      <td>4</td>\n",
       "      <td>4</td>\n",
       "      <td>26</td>\n",
       "      <td>0</td>\n",
       "    </tr>\n",
       "    <tr>\n",
       "      <th>26</th>\n",
       "      <td>2019</td>\n",
       "      <td>4</td>\n",
       "      <td>5</td>\n",
       "      <td>27</td>\n",
       "      <td>1</td>\n",
       "    </tr>\n",
       "    <tr>\n",
       "      <th>27</th>\n",
       "      <td>2019</td>\n",
       "      <td>4</td>\n",
       "      <td>6</td>\n",
       "      <td>28</td>\n",
       "      <td>1</td>\n",
       "    </tr>\n",
       "    <tr>\n",
       "      <th>28</th>\n",
       "      <td>2019</td>\n",
       "      <td>4</td>\n",
       "      <td>0</td>\n",
       "      <td>29</td>\n",
       "      <td>0</td>\n",
       "    </tr>\n",
       "    <tr>\n",
       "      <th>29</th>\n",
       "      <td>2019</td>\n",
       "      <td>4</td>\n",
       "      <td>1</td>\n",
       "      <td>30</td>\n",
       "      <td>0</td>\n",
       "    </tr>\n",
       "  </tbody>\n",
       "</table>\n",
       "</div>"
      ],
      "text/plain": [
       "    Year  Month  WeekDay  Day  IsWeekend\n",
       "0   2019      4        0    1          0\n",
       "1   2019      4        1    2          0\n",
       "2   2019      4        2    3          0\n",
       "3   2019      4        3    4          0\n",
       "4   2019      4        4    5          0\n",
       "5   2019      4        5    6          1\n",
       "6   2019      4        6    7          1\n",
       "7   2019      4        0    8          0\n",
       "8   2019      4        1    9          0\n",
       "9   2019      4        2   10          0\n",
       "10  2019      4        3   11          0\n",
       "11  2019      4        4   12          0\n",
       "12  2019      4        5   13          1\n",
       "13  2019      4        6   14          1\n",
       "14  2019      4        0   15          0\n",
       "15  2019      4        1   16          0\n",
       "16  2019      4        2   17          0\n",
       "17  2019      4        3   18          0\n",
       "18  2019      4        4   19          0\n",
       "19  2019      4        5   20          1\n",
       "20  2019      4        6   21          1\n",
       "21  2019      4        0   22          0\n",
       "22  2019      4        1   23          0\n",
       "23  2019      4        2   24          0\n",
       "24  2019      4        3   25          0\n",
       "25  2019      4        4   26          0\n",
       "26  2019      4        5   27          1\n",
       "27  2019      4        6   28          1\n",
       "28  2019      4        0   29          0\n",
       "29  2019      4        1   30          0"
      ]
     },
     "execution_count": 23,
     "metadata": {},
     "output_type": "execute_result"
    }
   ],
   "source": [
    "future_dates = pd.Series(pd.date_range(start='2019-04-01', end='2019-04-30', freq='D'))\n",
    "X_future = pd.DataFrame()\n",
    "X_future['Year'] = future_dates.dt.year\n",
    "X_future['Month'] = future_dates.dt.month\n",
    "X_future['WeekDay'] = future_dates.dt.weekday\n",
    "X_future['Day'] = future_dates.dt.day\n",
    "X_future['IsWeekend'] = (X_future['WeekDay'] >= 5).astype(int)\n",
    "X_future = X_future[X.columns]\n",
    "X_future"
   ]
  },
  {
   "cell_type": "code",
   "execution_count": 24,
   "metadata": {},
   "outputs": [
    {
     "ename": "NotFittedError",
     "evalue": "This ColumnTransformer instance is not fitted yet. Call 'fit' with appropriate arguments before using this estimator.",
     "output_type": "error",
     "traceback": [
      "\u001b[1;31m---------------------------------------------------------------------------\u001b[0m",
      "\u001b[1;31mNotFittedError\u001b[0m                            Traceback (most recent call last)",
      "\u001b[1;32m<ipython-input-24-59db1e687533>\u001b[0m in \u001b[0;36m<module>\u001b[1;34m\u001b[0m\n\u001b[1;32m----> 1\u001b[1;33m \u001b[0mml_pipe\u001b[0m\u001b[1;33m.\u001b[0m\u001b[0mpredict\u001b[0m\u001b[1;33m(\u001b[0m\u001b[0mX_future\u001b[0m\u001b[1;33m)\u001b[0m\u001b[1;33m\u001b[0m\u001b[1;33m\u001b[0m\u001b[0m\n\u001b[0m",
      "\u001b[1;32m~\\env-bdproj\\lib\\site-packages\\sklearn\\utils\\metaestimators.py\u001b[0m in \u001b[0;36m<lambda>\u001b[1;34m(*args, **kwargs)\u001b[0m\n\u001b[0;32m    117\u001b[0m \u001b[1;33m\u001b[0m\u001b[0m\n\u001b[0;32m    118\u001b[0m         \u001b[1;31m# lambda, but not partial, allows help() to work with update_wrapper\u001b[0m\u001b[1;33m\u001b[0m\u001b[1;33m\u001b[0m\u001b[1;33m\u001b[0m\u001b[0m\n\u001b[1;32m--> 119\u001b[1;33m         \u001b[0mout\u001b[0m \u001b[1;33m=\u001b[0m \u001b[1;32mlambda\u001b[0m \u001b[1;33m*\u001b[0m\u001b[0margs\u001b[0m\u001b[1;33m,\u001b[0m \u001b[1;33m**\u001b[0m\u001b[0mkwargs\u001b[0m\u001b[1;33m:\u001b[0m \u001b[0mself\u001b[0m\u001b[1;33m.\u001b[0m\u001b[0mfn\u001b[0m\u001b[1;33m(\u001b[0m\u001b[0mobj\u001b[0m\u001b[1;33m,\u001b[0m \u001b[1;33m*\u001b[0m\u001b[0margs\u001b[0m\u001b[1;33m,\u001b[0m \u001b[1;33m**\u001b[0m\u001b[0mkwargs\u001b[0m\u001b[1;33m)\u001b[0m\u001b[1;33m\u001b[0m\u001b[1;33m\u001b[0m\u001b[0m\n\u001b[0m\u001b[0;32m    120\u001b[0m         \u001b[1;31m# update the docstring of the returned function\u001b[0m\u001b[1;33m\u001b[0m\u001b[1;33m\u001b[0m\u001b[1;33m\u001b[0m\u001b[0m\n\u001b[0;32m    121\u001b[0m         \u001b[0mupdate_wrapper\u001b[0m\u001b[1;33m(\u001b[0m\u001b[0mout\u001b[0m\u001b[1;33m,\u001b[0m \u001b[0mself\u001b[0m\u001b[1;33m.\u001b[0m\u001b[0mfn\u001b[0m\u001b[1;33m)\u001b[0m\u001b[1;33m\u001b[0m\u001b[1;33m\u001b[0m\u001b[0m\n",
      "\u001b[1;32m~\\env-bdproj\\lib\\site-packages\\sklearn\\pipeline.py\u001b[0m in \u001b[0;36mpredict\u001b[1;34m(self, X, **predict_params)\u001b[0m\n\u001b[0;32m    405\u001b[0m         \u001b[0mXt\u001b[0m \u001b[1;33m=\u001b[0m \u001b[0mX\u001b[0m\u001b[1;33m\u001b[0m\u001b[1;33m\u001b[0m\u001b[0m\n\u001b[0;32m    406\u001b[0m         \u001b[1;32mfor\u001b[0m \u001b[0m_\u001b[0m\u001b[1;33m,\u001b[0m \u001b[0mname\u001b[0m\u001b[1;33m,\u001b[0m \u001b[0mtransform\u001b[0m \u001b[1;32min\u001b[0m \u001b[0mself\u001b[0m\u001b[1;33m.\u001b[0m\u001b[0m_iter\u001b[0m\u001b[1;33m(\u001b[0m\u001b[0mwith_final\u001b[0m\u001b[1;33m=\u001b[0m\u001b[1;32mFalse\u001b[0m\u001b[1;33m)\u001b[0m\u001b[1;33m:\u001b[0m\u001b[1;33m\u001b[0m\u001b[1;33m\u001b[0m\u001b[0m\n\u001b[1;32m--> 407\u001b[1;33m             \u001b[0mXt\u001b[0m \u001b[1;33m=\u001b[0m \u001b[0mtransform\u001b[0m\u001b[1;33m.\u001b[0m\u001b[0mtransform\u001b[0m\u001b[1;33m(\u001b[0m\u001b[0mXt\u001b[0m\u001b[1;33m)\u001b[0m\u001b[1;33m\u001b[0m\u001b[1;33m\u001b[0m\u001b[0m\n\u001b[0m\u001b[0;32m    408\u001b[0m         \u001b[1;32mreturn\u001b[0m \u001b[0mself\u001b[0m\u001b[1;33m.\u001b[0m\u001b[0msteps\u001b[0m\u001b[1;33m[\u001b[0m\u001b[1;33m-\u001b[0m\u001b[1;36m1\u001b[0m\u001b[1;33m]\u001b[0m\u001b[1;33m[\u001b[0m\u001b[1;33m-\u001b[0m\u001b[1;36m1\u001b[0m\u001b[1;33m]\u001b[0m\u001b[1;33m.\u001b[0m\u001b[0mpredict\u001b[0m\u001b[1;33m(\u001b[0m\u001b[0mXt\u001b[0m\u001b[1;33m,\u001b[0m \u001b[1;33m**\u001b[0m\u001b[0mpredict_params\u001b[0m\u001b[1;33m)\u001b[0m\u001b[1;33m\u001b[0m\u001b[1;33m\u001b[0m\u001b[0m\n\u001b[0;32m    409\u001b[0m \u001b[1;33m\u001b[0m\u001b[0m\n",
      "\u001b[1;32m~\\env-bdproj\\lib\\site-packages\\sklearn\\compose\\_column_transformer.py\u001b[0m in \u001b[0;36mtransform\u001b[1;34m(self, X)\u001b[0m\n\u001b[0;32m    571\u001b[0m \u001b[1;33m\u001b[0m\u001b[0m\n\u001b[0;32m    572\u001b[0m         \"\"\"\n\u001b[1;32m--> 573\u001b[1;33m         \u001b[0mcheck_is_fitted\u001b[0m\u001b[1;33m(\u001b[0m\u001b[0mself\u001b[0m\u001b[1;33m)\u001b[0m\u001b[1;33m\u001b[0m\u001b[1;33m\u001b[0m\u001b[0m\n\u001b[0m\u001b[0;32m    574\u001b[0m         \u001b[0mX\u001b[0m \u001b[1;33m=\u001b[0m \u001b[0m_check_X\u001b[0m\u001b[1;33m(\u001b[0m\u001b[0mX\u001b[0m\u001b[1;33m)\u001b[0m\u001b[1;33m\u001b[0m\u001b[1;33m\u001b[0m\u001b[0m\n\u001b[0;32m    575\u001b[0m         \u001b[1;32mif\u001b[0m \u001b[0mhasattr\u001b[0m\u001b[1;33m(\u001b[0m\u001b[0mX\u001b[0m\u001b[1;33m,\u001b[0m \u001b[1;34m\"columns\"\u001b[0m\u001b[1;33m)\u001b[0m\u001b[1;33m:\u001b[0m\u001b[1;33m\u001b[0m\u001b[1;33m\u001b[0m\u001b[0m\n",
      "\u001b[1;32m~\\env-bdproj\\lib\\site-packages\\sklearn\\utils\\validation.py\u001b[0m in \u001b[0;36minner_f\u001b[1;34m(*args, **kwargs)\u001b[0m\n\u001b[0;32m     70\u001b[0m                           FutureWarning)\n\u001b[0;32m     71\u001b[0m         \u001b[0mkwargs\u001b[0m\u001b[1;33m.\u001b[0m\u001b[0mupdate\u001b[0m\u001b[1;33m(\u001b[0m\u001b[1;33m{\u001b[0m\u001b[0mk\u001b[0m\u001b[1;33m:\u001b[0m \u001b[0marg\u001b[0m \u001b[1;32mfor\u001b[0m \u001b[0mk\u001b[0m\u001b[1;33m,\u001b[0m \u001b[0marg\u001b[0m \u001b[1;32min\u001b[0m \u001b[0mzip\u001b[0m\u001b[1;33m(\u001b[0m\u001b[0msig\u001b[0m\u001b[1;33m.\u001b[0m\u001b[0mparameters\u001b[0m\u001b[1;33m,\u001b[0m \u001b[0margs\u001b[0m\u001b[1;33m)\u001b[0m\u001b[1;33m}\u001b[0m\u001b[1;33m)\u001b[0m\u001b[1;33m\u001b[0m\u001b[1;33m\u001b[0m\u001b[0m\n\u001b[1;32m---> 72\u001b[1;33m         \u001b[1;32mreturn\u001b[0m \u001b[0mf\u001b[0m\u001b[1;33m(\u001b[0m\u001b[1;33m**\u001b[0m\u001b[0mkwargs\u001b[0m\u001b[1;33m)\u001b[0m\u001b[1;33m\u001b[0m\u001b[1;33m\u001b[0m\u001b[0m\n\u001b[0m\u001b[0;32m     73\u001b[0m     \u001b[1;32mreturn\u001b[0m \u001b[0minner_f\u001b[0m\u001b[1;33m\u001b[0m\u001b[1;33m\u001b[0m\u001b[0m\n\u001b[0;32m     74\u001b[0m \u001b[1;33m\u001b[0m\u001b[0m\n",
      "\u001b[1;32m~\\env-bdproj\\lib\\site-packages\\sklearn\\utils\\validation.py\u001b[0m in \u001b[0;36mcheck_is_fitted\u001b[1;34m(estimator, attributes, msg, all_or_any)\u001b[0m\n\u001b[0;32m   1017\u001b[0m \u001b[1;33m\u001b[0m\u001b[0m\n\u001b[0;32m   1018\u001b[0m     \u001b[1;32mif\u001b[0m \u001b[1;32mnot\u001b[0m \u001b[0mattrs\u001b[0m\u001b[1;33m:\u001b[0m\u001b[1;33m\u001b[0m\u001b[1;33m\u001b[0m\u001b[0m\n\u001b[1;32m-> 1019\u001b[1;33m         \u001b[1;32mraise\u001b[0m \u001b[0mNotFittedError\u001b[0m\u001b[1;33m(\u001b[0m\u001b[0mmsg\u001b[0m \u001b[1;33m%\u001b[0m \u001b[1;33m{\u001b[0m\u001b[1;34m'name'\u001b[0m\u001b[1;33m:\u001b[0m \u001b[0mtype\u001b[0m\u001b[1;33m(\u001b[0m\u001b[0mestimator\u001b[0m\u001b[1;33m)\u001b[0m\u001b[1;33m.\u001b[0m\u001b[0m__name__\u001b[0m\u001b[1;33m}\u001b[0m\u001b[1;33m)\u001b[0m\u001b[1;33m\u001b[0m\u001b[1;33m\u001b[0m\u001b[0m\n\u001b[0m\u001b[0;32m   1020\u001b[0m \u001b[1;33m\u001b[0m\u001b[0m\n\u001b[0;32m   1021\u001b[0m \u001b[1;33m\u001b[0m\u001b[0m\n",
      "\u001b[1;31mNotFittedError\u001b[0m: This ColumnTransformer instance is not fitted yet. Call 'fit' with appropriate arguments before using this estimator."
     ]
    }
   ],
   "source": [
    "ml_pipe.predict(X_future)"
   ]
  },
  {
   "cell_type": "code",
   "execution_count": 306,
   "metadata": {},
   "outputs": [],
   "source": [
    "from statsmodels import api as sm"
   ]
  },
  {
   "cell_type": "code",
   "execution_count": 80,
   "metadata": {},
   "outputs": [],
   "source": [
    "ml_pipe_Arma = \\\n",
    "pipeline.Pipeline(\n",
    "    [\n",
    "        ('encoder', compose.ColumnTransformer(\n",
    "            [\n",
    "                ('ohe', preprocessing.OneHotEncoder(categories='auto', sparse=False, drop='first'), ['Month', 'Day', 'IsWeekend'])\n",
    "                ], remainder='drop')\n",
    "            ),\n",
    "        ]\n",
    ")"
   ]
  },
  {
   "cell_type": "code",
   "execution_count": 346,
   "metadata": {},
   "outputs": [
    {
     "name": "stderr",
     "output_type": "stream",
     "text": [
      "c:\\users\\berk_\\appdata\\local\\programs\\python\\python37\\lib\\site-packages\\statsmodels\\tsa\\base\\tsa_model.py:165: ValueWarning: No frequency information was provided, so inferred frequency D will be used.\n",
      "  % freq, ValueWarning)\n",
      "c:\\users\\berk_\\appdata\\local\\programs\\python\\python37\\lib\\site-packages\\statsmodels\\tsa\\base\\tsa_model.py:165: ValueWarning: No frequency information was provided, so inferred frequency D will be used.\n",
      "  % freq, ValueWarning)\n"
     ]
    }
   ],
   "source": [
    "exog = ml_pipe_Arma.fit_transform(X.iloc[:-60])\n",
    "endog = y['CashIn'].to_frame().set_index(df['Date'])['CashIn'].iloc[:-60]\n",
    "model = sm.tsa.ARIMA(endog=endog, exog=exog, order=(3,1,3))\n",
    "result = model.fit()"
   ]
  },
  {
   "cell_type": "code",
   "execution_count": 483,
   "metadata": {
    "scrolled": true
   },
   "outputs": [
    {
     "name": "stderr",
     "output_type": "stream",
     "text": [
      "c:\\users\\berk_\\appdata\\local\\programs\\python\\python37\\lib\\site-packages\\numpy\\linalg\\linalg.py:1881: RuntimeWarning: invalid value encountered in greater\n",
      "  return count_nonzero(S > tol, axis=-1)\n",
      "c:\\users\\berk_\\appdata\\local\\programs\\python\\python37\\lib\\site-packages\\statsmodels\\tsa\\base\\tsa_model.py:165: ValueWarning: No frequency information was provided, so inferred frequency D will be used.\n",
      "  % freq, ValueWarning)\n",
      "c:\\users\\berk_\\appdata\\local\\programs\\python\\python37\\lib\\site-packages\\statsmodels\\base\\model.py:512: ConvergenceWarning: Maximum Likelihood optimization failed to converge. Check mle_retvals\n",
      "  \"Check mle_retvals\", ConvergenceWarning)\n"
     ]
    }
   ],
   "source": [
    "exog = ml_pipe_Arma.fit_transform(X.iloc[:-30])\n",
    "endog = y['CashIn'].to_frame().set_index(df['Date'])['CashIn'].iloc[:-30]\n",
    "model = sm.tsa.SARIMAX(\n",
    "    endog=endog,\n",
    "    exog=exog,\n",
    "    order=(3,0,3),\n",
    "    seasonal_order=(0,0,0,7))\n",
    "result = model.fit()"
   ]
  },
  {
   "cell_type": "code",
   "execution_count": 484,
   "metadata": {},
   "outputs": [
    {
     "data": {
      "text/html": [
       "<table class=\"simpletable\">\n",
       "<caption>Statespace Model Results</caption>\n",
       "<tr>\n",
       "  <th>Dep. Variable:</th>        <td>CashIn</td>      <th>  No. Observations:  </th>    <td>1156</td>   \n",
       "</tr>\n",
       "<tr>\n",
       "  <th>Model:</th>           <td>SARIMAX(3, 0, 3)</td> <th>  Log Likelihood     </th> <td>-12889.613</td>\n",
       "</tr>\n",
       "<tr>\n",
       "  <th>Date:</th>            <td>Thu, 24 Dec 2020</td> <th>  AIC                </th>  <td>25877.227</td>\n",
       "</tr>\n",
       "<tr>\n",
       "  <th>Time:</th>                <td>01:30:55</td>     <th>  BIC                </th>  <td>26124.810</td>\n",
       "</tr>\n",
       "<tr>\n",
       "  <th>Sample:</th>             <td>01-01-2016</td>    <th>  HQIC               </th>  <td>25970.661</td>\n",
       "</tr>\n",
       "<tr>\n",
       "  <th></th>                   <td>- 03-01-2019</td>   <th>                     </th>      <td> </td>    \n",
       "</tr>\n",
       "<tr>\n",
       "  <th>Covariance Type:</th>        <td>opg</td>       <th>                     </th>      <td> </td>    \n",
       "</tr>\n",
       "</table>\n",
       "<table class=\"simpletable\">\n",
       "<tr>\n",
       "     <td></td>       <th>coef</th>     <th>std err</th>      <th>z</th>      <th>P>|z|</th>  <th>[0.025</th>    <th>0.975]</th>  \n",
       "</tr>\n",
       "<tr>\n",
       "  <th>x1</th>     <td> 4837.4194</td> <td> 3578.306</td> <td>    1.352</td> <td> 0.176</td> <td>-2175.931</td> <td> 1.19e+04</td>\n",
       "</tr>\n",
       "<tr>\n",
       "  <th>x2</th>     <td> 8793.7041</td> <td> 4389.069</td> <td>    2.004</td> <td> 0.045</td> <td>  191.287</td> <td> 1.74e+04</td>\n",
       "</tr>\n",
       "<tr>\n",
       "  <th>x3</th>     <td> 8696.7677</td> <td> 5590.023</td> <td>    1.556</td> <td> 0.120</td> <td>-2259.477</td> <td> 1.97e+04</td>\n",
       "</tr>\n",
       "<tr>\n",
       "  <th>x4</th>     <td> 8392.2197</td> <td> 5840.646</td> <td>    1.437</td> <td> 0.151</td> <td>-3055.237</td> <td> 1.98e+04</td>\n",
       "</tr>\n",
       "<tr>\n",
       "  <th>x5</th>     <td> 1.121e+04</td> <td> 5340.228</td> <td>    2.099</td> <td> 0.036</td> <td>  743.842</td> <td> 2.17e+04</td>\n",
       "</tr>\n",
       "<tr>\n",
       "  <th>x6</th>     <td> 1.162e+04</td> <td> 5060.213</td> <td>    2.297</td> <td> 0.022</td> <td> 1706.845</td> <td> 2.15e+04</td>\n",
       "</tr>\n",
       "<tr>\n",
       "  <th>x7</th>     <td> 1.585e+04</td> <td> 4801.913</td> <td>    3.301</td> <td> 0.001</td> <td> 6440.497</td> <td> 2.53e+04</td>\n",
       "</tr>\n",
       "<tr>\n",
       "  <th>x8</th>     <td> 9257.3649</td> <td> 4747.665</td> <td>    1.950</td> <td> 0.051</td> <td>  -47.888</td> <td> 1.86e+04</td>\n",
       "</tr>\n",
       "<tr>\n",
       "  <th>x9</th>     <td> 1.369e+04</td> <td> 4475.146</td> <td>    3.059</td> <td> 0.002</td> <td> 4918.754</td> <td> 2.25e+04</td>\n",
       "</tr>\n",
       "<tr>\n",
       "  <th>x10</th>    <td> 1.087e+04</td> <td> 4654.525</td> <td>    2.336</td> <td> 0.019</td> <td> 1751.627</td> <td>    2e+04</td>\n",
       "</tr>\n",
       "<tr>\n",
       "  <th>x11</th>    <td> 5874.9298</td> <td> 3924.400</td> <td>    1.497</td> <td> 0.134</td> <td>-1816.753</td> <td> 1.36e+04</td>\n",
       "</tr>\n",
       "<tr>\n",
       "  <th>x12</th>    <td> 3.427e+04</td> <td> 3125.483</td> <td>   10.966</td> <td> 0.000</td> <td> 2.81e+04</td> <td> 4.04e+04</td>\n",
       "</tr>\n",
       "<tr>\n",
       "  <th>x13</th>    <td> 3.361e+04</td> <td> 3379.896</td> <td>    9.945</td> <td> 0.000</td> <td>  2.7e+04</td> <td> 4.02e+04</td>\n",
       "</tr>\n",
       "<tr>\n",
       "  <th>x14</th>    <td>  3.31e+04</td> <td> 4363.846</td> <td>    7.586</td> <td> 0.000</td> <td> 2.46e+04</td> <td> 4.17e+04</td>\n",
       "</tr>\n",
       "<tr>\n",
       "  <th>x15</th>    <td> 3.282e+04</td> <td> 3088.366</td> <td>   10.626</td> <td> 0.000</td> <td> 2.68e+04</td> <td> 3.89e+04</td>\n",
       "</tr>\n",
       "<tr>\n",
       "  <th>x16</th>    <td>   3.6e+04</td> <td> 3217.968</td> <td>   11.188</td> <td> 0.000</td> <td> 2.97e+04</td> <td> 4.23e+04</td>\n",
       "</tr>\n",
       "<tr>\n",
       "  <th>x17</th>    <td> 3.347e+04</td> <td> 3645.409</td> <td>    9.181</td> <td> 0.000</td> <td> 2.63e+04</td> <td> 4.06e+04</td>\n",
       "</tr>\n",
       "<tr>\n",
       "  <th>x18</th>    <td> 3.802e+04</td> <td> 3305.644</td> <td>   11.502</td> <td> 0.000</td> <td> 3.15e+04</td> <td> 4.45e+04</td>\n",
       "</tr>\n",
       "<tr>\n",
       "  <th>x19</th>    <td> 3.032e+04</td> <td> 3891.913</td> <td>    7.789</td> <td> 0.000</td> <td> 2.27e+04</td> <td> 3.79e+04</td>\n",
       "</tr>\n",
       "<tr>\n",
       "  <th>x20</th>    <td> 2.716e+04</td> <td> 3589.499</td> <td>    7.566</td> <td> 0.000</td> <td> 2.01e+04</td> <td> 3.42e+04</td>\n",
       "</tr>\n",
       "<tr>\n",
       "  <th>x21</th>    <td> 3.431e+04</td> <td> 3555.497</td> <td>    9.650</td> <td> 0.000</td> <td> 2.73e+04</td> <td> 4.13e+04</td>\n",
       "</tr>\n",
       "<tr>\n",
       "  <th>x22</th>    <td> 2.776e+04</td> <td> 4253.673</td> <td>    6.525</td> <td> 0.000</td> <td> 1.94e+04</td> <td> 3.61e+04</td>\n",
       "</tr>\n",
       "<tr>\n",
       "  <th>x23</th>    <td> 3.006e+04</td> <td> 3874.531</td> <td>    7.759</td> <td> 0.000</td> <td> 2.25e+04</td> <td> 3.77e+04</td>\n",
       "</tr>\n",
       "<tr>\n",
       "  <th>x24</th>    <td> 2.839e+04</td> <td> 4183.250</td> <td>    6.787</td> <td> 0.000</td> <td> 2.02e+04</td> <td> 3.66e+04</td>\n",
       "</tr>\n",
       "<tr>\n",
       "  <th>x25</th>    <td> 3.707e+04</td> <td> 3626.056</td> <td>   10.222</td> <td> 0.000</td> <td>    3e+04</td> <td> 4.42e+04</td>\n",
       "</tr>\n",
       "<tr>\n",
       "  <th>x26</th>    <td>  3.59e+04</td> <td> 3674.855</td> <td>    9.769</td> <td> 0.000</td> <td> 2.87e+04</td> <td> 4.31e+04</td>\n",
       "</tr>\n",
       "<tr>\n",
       "  <th>x27</th>    <td> 3.873e+04</td> <td> 3167.779</td> <td>   12.225</td> <td> 0.000</td> <td> 3.25e+04</td> <td> 4.49e+04</td>\n",
       "</tr>\n",
       "<tr>\n",
       "  <th>x28</th>    <td> 3.051e+04</td> <td> 3955.189</td> <td>    7.714</td> <td> 0.000</td> <td> 2.28e+04</td> <td> 3.83e+04</td>\n",
       "</tr>\n",
       "<tr>\n",
       "  <th>x29</th>    <td>  2.87e+04</td> <td> 3318.716</td> <td>    8.648</td> <td> 0.000</td> <td> 2.22e+04</td> <td> 3.52e+04</td>\n",
       "</tr>\n",
       "<tr>\n",
       "  <th>x30</th>    <td> 3.223e+04</td> <td> 3642.081</td> <td>    8.849</td> <td> 0.000</td> <td> 2.51e+04</td> <td> 3.94e+04</td>\n",
       "</tr>\n",
       "<tr>\n",
       "  <th>x31</th>    <td> 3.052e+04</td> <td> 3354.090</td> <td>    9.099</td> <td> 0.000</td> <td> 2.39e+04</td> <td> 3.71e+04</td>\n",
       "</tr>\n",
       "<tr>\n",
       "  <th>x32</th>    <td> 3.333e+04</td> <td> 3907.228</td> <td>    8.530</td> <td> 0.000</td> <td> 2.57e+04</td> <td>  4.1e+04</td>\n",
       "</tr>\n",
       "<tr>\n",
       "  <th>x33</th>    <td> 3.455e+04</td> <td> 3623.403</td> <td>    9.535</td> <td> 0.000</td> <td> 2.74e+04</td> <td> 4.17e+04</td>\n",
       "</tr>\n",
       "<tr>\n",
       "  <th>x34</th>    <td> 3.517e+04</td> <td> 3876.142</td> <td>    9.073</td> <td> 0.000</td> <td> 2.76e+04</td> <td> 4.28e+04</td>\n",
       "</tr>\n",
       "<tr>\n",
       "  <th>x35</th>    <td> 3.525e+04</td> <td> 3860.662</td> <td>    9.131</td> <td> 0.000</td> <td> 2.77e+04</td> <td> 4.28e+04</td>\n",
       "</tr>\n",
       "<tr>\n",
       "  <th>x36</th>    <td> 3.406e+04</td> <td> 3381.731</td> <td>   10.072</td> <td> 0.000</td> <td> 2.74e+04</td> <td> 4.07e+04</td>\n",
       "</tr>\n",
       "<tr>\n",
       "  <th>x37</th>    <td> 3.429e+04</td> <td> 3126.587</td> <td>   10.966</td> <td> 0.000</td> <td> 2.82e+04</td> <td> 4.04e+04</td>\n",
       "</tr>\n",
       "<tr>\n",
       "  <th>x38</th>    <td> 3.184e+04</td> <td> 2977.494</td> <td>   10.694</td> <td> 0.000</td> <td>  2.6e+04</td> <td> 3.77e+04</td>\n",
       "</tr>\n",
       "<tr>\n",
       "  <th>x39</th>    <td> 2.796e+04</td> <td> 3745.286</td> <td>    7.465</td> <td> 0.000</td> <td> 2.06e+04</td> <td> 3.53e+04</td>\n",
       "</tr>\n",
       "<tr>\n",
       "  <th>x40</th>    <td> 3.304e+04</td> <td> 3696.993</td> <td>    8.938</td> <td> 0.000</td> <td> 2.58e+04</td> <td> 4.03e+04</td>\n",
       "</tr>\n",
       "<tr>\n",
       "  <th>x41</th>    <td> 3.227e+04</td> <td> 4508.505</td> <td>    7.158</td> <td> 0.000</td> <td> 2.34e+04</td> <td> 4.11e+04</td>\n",
       "</tr>\n",
       "<tr>\n",
       "  <th>x42</th>    <td>-1.642e+04</td> <td> 1433.261</td> <td>  -11.458</td> <td> 0.000</td> <td>-1.92e+04</td> <td>-1.36e+04</td>\n",
       "</tr>\n",
       "<tr>\n",
       "  <th>ar.L1</th>  <td>   -0.8150</td> <td>    0.010</td> <td>  -84.584</td> <td> 0.000</td> <td>   -0.834</td> <td>   -0.796</td>\n",
       "</tr>\n",
       "<tr>\n",
       "  <th>ar.L2</th>  <td>    0.7765</td> <td>    0.015</td> <td>   50.238</td> <td> 0.000</td> <td>    0.746</td> <td>    0.807</td>\n",
       "</tr>\n",
       "<tr>\n",
       "  <th>ar.L3</th>  <td>    0.9800</td> <td>    0.009</td> <td>  107.482</td> <td> 0.000</td> <td>    0.962</td> <td>    0.998</td>\n",
       "</tr>\n",
       "<tr>\n",
       "  <th>ma.L1</th>  <td>    0.9004</td> <td>    0.023</td> <td>   39.539</td> <td> 0.000</td> <td>    0.856</td> <td>    0.945</td>\n",
       "</tr>\n",
       "<tr>\n",
       "  <th>ma.L2</th>  <td>   -0.6209</td> <td>    0.037</td> <td>  -16.572</td> <td> 0.000</td> <td>   -0.694</td> <td>   -0.547</td>\n",
       "</tr>\n",
       "<tr>\n",
       "  <th>ma.L3</th>  <td>   -0.8790</td> <td>    0.023</td> <td>  -37.699</td> <td> 0.000</td> <td>   -0.925</td> <td>   -0.833</td>\n",
       "</tr>\n",
       "<tr>\n",
       "  <th>sigma2</th> <td> 3.059e+08</td> <td>    3.009</td> <td> 1.02e+08</td> <td> 0.000</td> <td> 3.06e+08</td> <td> 3.06e+08</td>\n",
       "</tr>\n",
       "</table>\n",
       "<table class=\"simpletable\">\n",
       "<tr>\n",
       "  <th>Ljung-Box (Q):</th>          <td>46.90</td> <th>  Jarque-Bera (JB):  </th> <td>104.65</td>\n",
       "</tr>\n",
       "<tr>\n",
       "  <th>Prob(Q):</th>                <td>0.21</td>  <th>  Prob(JB):          </th>  <td>0.00</td> \n",
       "</tr>\n",
       "<tr>\n",
       "  <th>Heteroskedasticity (H):</th> <td>1.17</td>  <th>  Skew:              </th>  <td>0.54</td> \n",
       "</tr>\n",
       "<tr>\n",
       "  <th>Prob(H) (two-sided):</th>    <td>0.11</td>  <th>  Kurtosis:          </th>  <td>4.00</td> \n",
       "</tr>\n",
       "</table><br/><br/>Warnings:<br/>[1] Covariance matrix calculated using the outer product of gradients (complex-step).<br/>[2] Covariance matrix is singular or near-singular, with condition number 2.02e+21. Standard errors may be unstable."
      ],
      "text/plain": [
       "<class 'statsmodels.iolib.summary.Summary'>\n",
       "\"\"\"\n",
       "                           Statespace Model Results                           \n",
       "==============================================================================\n",
       "Dep. Variable:                 CashIn   No. Observations:                 1156\n",
       "Model:               SARIMAX(3, 0, 3)   Log Likelihood              -12889.613\n",
       "Date:                Thu, 24 Dec 2020   AIC                          25877.227\n",
       "Time:                        01:30:55   BIC                          26124.810\n",
       "Sample:                    01-01-2016   HQIC                         25970.661\n",
       "                         - 03-01-2019                                         \n",
       "Covariance Type:                  opg                                         \n",
       "==============================================================================\n",
       "                 coef    std err          z      P>|z|      [0.025      0.975]\n",
       "------------------------------------------------------------------------------\n",
       "x1          4837.4194   3578.306      1.352      0.176   -2175.931    1.19e+04\n",
       "x2          8793.7041   4389.069      2.004      0.045     191.287    1.74e+04\n",
       "x3          8696.7677   5590.023      1.556      0.120   -2259.477    1.97e+04\n",
       "x4          8392.2197   5840.646      1.437      0.151   -3055.237    1.98e+04\n",
       "x5          1.121e+04   5340.228      2.099      0.036     743.842    2.17e+04\n",
       "x6          1.162e+04   5060.213      2.297      0.022    1706.845    2.15e+04\n",
       "x7          1.585e+04   4801.913      3.301      0.001    6440.497    2.53e+04\n",
       "x8          9257.3649   4747.665      1.950      0.051     -47.888    1.86e+04\n",
       "x9          1.369e+04   4475.146      3.059      0.002    4918.754    2.25e+04\n",
       "x10         1.087e+04   4654.525      2.336      0.019    1751.627       2e+04\n",
       "x11         5874.9298   3924.400      1.497      0.134   -1816.753    1.36e+04\n",
       "x12         3.427e+04   3125.483     10.966      0.000    2.81e+04    4.04e+04\n",
       "x13         3.361e+04   3379.896      9.945      0.000     2.7e+04    4.02e+04\n",
       "x14          3.31e+04   4363.846      7.586      0.000    2.46e+04    4.17e+04\n",
       "x15         3.282e+04   3088.366     10.626      0.000    2.68e+04    3.89e+04\n",
       "x16           3.6e+04   3217.968     11.188      0.000    2.97e+04    4.23e+04\n",
       "x17         3.347e+04   3645.409      9.181      0.000    2.63e+04    4.06e+04\n",
       "x18         3.802e+04   3305.644     11.502      0.000    3.15e+04    4.45e+04\n",
       "x19         3.032e+04   3891.913      7.789      0.000    2.27e+04    3.79e+04\n",
       "x20         2.716e+04   3589.499      7.566      0.000    2.01e+04    3.42e+04\n",
       "x21         3.431e+04   3555.497      9.650      0.000    2.73e+04    4.13e+04\n",
       "x22         2.776e+04   4253.673      6.525      0.000    1.94e+04    3.61e+04\n",
       "x23         3.006e+04   3874.531      7.759      0.000    2.25e+04    3.77e+04\n",
       "x24         2.839e+04   4183.250      6.787      0.000    2.02e+04    3.66e+04\n",
       "x25         3.707e+04   3626.056     10.222      0.000       3e+04    4.42e+04\n",
       "x26          3.59e+04   3674.855      9.769      0.000    2.87e+04    4.31e+04\n",
       "x27         3.873e+04   3167.779     12.225      0.000    3.25e+04    4.49e+04\n",
       "x28         3.051e+04   3955.189      7.714      0.000    2.28e+04    3.83e+04\n",
       "x29          2.87e+04   3318.716      8.648      0.000    2.22e+04    3.52e+04\n",
       "x30         3.223e+04   3642.081      8.849      0.000    2.51e+04    3.94e+04\n",
       "x31         3.052e+04   3354.090      9.099      0.000    2.39e+04    3.71e+04\n",
       "x32         3.333e+04   3907.228      8.530      0.000    2.57e+04     4.1e+04\n",
       "x33         3.455e+04   3623.403      9.535      0.000    2.74e+04    4.17e+04\n",
       "x34         3.517e+04   3876.142      9.073      0.000    2.76e+04    4.28e+04\n",
       "x35         3.525e+04   3860.662      9.131      0.000    2.77e+04    4.28e+04\n",
       "x36         3.406e+04   3381.731     10.072      0.000    2.74e+04    4.07e+04\n",
       "x37         3.429e+04   3126.587     10.966      0.000    2.82e+04    4.04e+04\n",
       "x38         3.184e+04   2977.494     10.694      0.000     2.6e+04    3.77e+04\n",
       "x39         2.796e+04   3745.286      7.465      0.000    2.06e+04    3.53e+04\n",
       "x40         3.304e+04   3696.993      8.938      0.000    2.58e+04    4.03e+04\n",
       "x41         3.227e+04   4508.505      7.158      0.000    2.34e+04    4.11e+04\n",
       "x42        -1.642e+04   1433.261    -11.458      0.000   -1.92e+04   -1.36e+04\n",
       "ar.L1         -0.8150      0.010    -84.584      0.000      -0.834      -0.796\n",
       "ar.L2          0.7765      0.015     50.238      0.000       0.746       0.807\n",
       "ar.L3          0.9800      0.009    107.482      0.000       0.962       0.998\n",
       "ma.L1          0.9004      0.023     39.539      0.000       0.856       0.945\n",
       "ma.L2         -0.6209      0.037    -16.572      0.000      -0.694      -0.547\n",
       "ma.L3         -0.8790      0.023    -37.699      0.000      -0.925      -0.833\n",
       "sigma2      3.059e+08      3.009   1.02e+08      0.000    3.06e+08    3.06e+08\n",
       "===================================================================================\n",
       "Ljung-Box (Q):                       46.90   Jarque-Bera (JB):               104.65\n",
       "Prob(Q):                              0.21   Prob(JB):                         0.00\n",
       "Heteroskedasticity (H):               1.17   Skew:                             0.54\n",
       "Prob(H) (two-sided):                  0.11   Kurtosis:                         4.00\n",
       "===================================================================================\n",
       "\n",
       "Warnings:\n",
       "[1] Covariance matrix calculated using the outer product of gradients (complex-step).\n",
       "[2] Covariance matrix is singular or near-singular, with condition number 2.02e+21. Standard errors may be unstable.\n",
       "\"\"\""
      ]
     },
     "execution_count": 484,
     "metadata": {},
     "output_type": "execute_result"
    }
   ],
   "source": [
    "result.summary()"
   ]
  },
  {
   "cell_type": "code",
   "execution_count": 485,
   "metadata": {},
   "outputs": [
    {
     "data": {
      "text/plain": [
       "<matplotlib.axes._subplots.AxesSubplot at 0x20a74de7208>"
      ]
     },
     "execution_count": 485,
     "metadata": {},
     "output_type": "execute_result"
    },
    {
     "data": {
      "image/png": "[encoded data removed]",
      "text/plain": [
       "<Figure size 432x288 with 1 Axes>"
      ]
     },
     "metadata": {
      "needs_background": "light"
     },
     "output_type": "display_data"
    }
   ],
   "source": [
    "result.predict(start=df.iloc[-30:]['Date'].min(), end=df.iloc[-30:]['Date'].max(),\n",
    "               exog=ml_pipe_Arma.transform(X.iloc[-30:])\n",
    "              ).plot()\n",
    "y.set_index(df['Date']).iloc[-30:]['CashIn'].plot()"
   ]
  },
  {
   "cell_type": "code",
   "execution_count": 486,
   "metadata": {},
   "outputs": [
    {
     "data": {
      "text/plain": [
       "(17866, 17927)"
      ]
     },
     "execution_count": 486,
     "metadata": {},
     "output_type": "execute_result"
    },
    {
     "data": {
      "image/png": "[encoded data removed]",
      "text/plain": [
       "<Figure size 864x288 with 1 Axes>"
      ]
     },
     "metadata": {
      "needs_background": "light"
     },
     "output_type": "display_data"
    }
   ],
   "source": [
    "plt.figure(figsize=(12, 4))\n",
    "result.predict(start=df.iloc[:-60]['Date'].min(), end=df.iloc[:-60]['Date'].max(),\n",
    "               exog=ml_pipe_Arma.transform(X.iloc[:-60])\n",
    "              ).plot()\n",
    "y.set_index(df['Date']).iloc[:-60]['CashIn'].plot()\n",
    "plt.xlim('2018-12-01', '2019-01-31')"
   ]
  },
  {
   "cell_type": "code",
   "execution_count": 487,
   "metadata": {},
   "outputs": [
    {
     "data": {
      "text/plain": [
       "inf"
      ]
     },
     "execution_count": 487,
     "metadata": {},
     "output_type": "execute_result"
    }
   ],
   "source": [
    "\n",
    "np.linalg.cond(ml_pipe_Arma.transform(X))"
   ]
  },
  {
   "cell_type": "code",
   "execution_count": 500,
   "metadata": {},
   "outputs": [
    {
     "data": {
      "text/plain": [
       "Timestamp('2019-03-31 00:00:00')"
      ]
     },
     "execution_count": 500,
     "metadata": {},
     "output_type": "execute_result"
    }
   ],
   "source": [
    "df.iloc[-30:]['Date'].max()"
   ]
  },
  {
   "cell_type": "code",
   "execution_count": 488,
   "metadata": {},
   "outputs": [],
   "source": [
    "y_pred = result.predict(start=df.iloc[-30:]['Date'].min(), end=df.iloc[-30:]['Date'].max(),\n",
    "               exog=ml_pipe_Arma.transform(X.iloc[-30:])\n",
    "              )"
   ]
  },
  {
   "cell_type": "code",
   "execution_count": 489,
   "metadata": {},
   "outputs": [
    {
     "data": {
      "text/plain": [
       "0.17918508295551294"
      ]
     },
     "execution_count": 489,
     "metadata": {},
     "output_type": "execute_result"
    }
   ],
   "source": [
    "metrics.r2_score(y['CashIn'].iloc[-30:], y_pred)"
   ]
  },
  {
   "cell_type": "code",
   "execution_count": 492,
   "metadata": {},
   "outputs": [
    {
     "data": {
      "text/plain": [
       "2019-03-03     66929.937025\n",
       "2019-03-10    310543.692183\n",
       "2019-03-17    306621.531362\n",
       "2019-03-24    294703.381479\n",
       "2019-03-31    294188.659090\n",
       "Freq: W-SUN, dtype: float64"
      ]
     },
     "execution_count": 492,
     "metadata": {},
     "output_type": "execute_result"
    }
   ],
   "source": [
    "y_pred.resample(\"W\").sum()\n"
   ]
  },
  {
   "cell_type": "code",
   "execution_count": 83,
   "metadata": {},
   "outputs": [
    {
     "data": {
      "text/plain": [
       "(1186, 42)"
      ]
     },
     "execution_count": 83,
     "metadata": {},
     "output_type": "execute_result"
    }
   ],
   "source": [
    "ml_pipe_Arma.fit_transform(X).shape"
   ]
  },
  {
   "cell_type": "code",
   "execution_count": 131,
   "metadata": {},
   "outputs": [],
   "source": [
    "import keras"
   ]
  },
  {
   "cell_type": "code",
   "execution_count": 327,
   "metadata": {},
   "outputs": [],
   "source": [
    "dummy = pd.concat([\n",
    "    y.shift(1),\n",
    "#     pd.DataFrame(ml_pipe_Arma.fit_transform(X)).shift(1)\n",
    "], axis=1, ignore_index=True)\n",
    "\n",
    "lags = 5\n",
    "forward = 2\n",
    "Xt = pd.concat([\n",
    "    pd.concat([\n",
    "        y.shift(i),\n",
    "#         pd.DataFrame(ml_pipe_Arma.fit_transform(X), index=y.index).shift(i)\n",
    "    ], axis=1) for i in range(1,lags+1)\n",
    "], axis=1).dropna().values.reshape(-1, lags, dummy.shape[1])[:-forward+1]\n",
    "yt = pd.concat([y.shift(i) for i in range(0,-forward,-1)], axis=1).iloc[lags:-forward+1]"
   ]
  },
  {
   "cell_type": "code",
   "execution_count": 328,
   "metadata": {},
   "outputs": [
    {
     "data": {
      "text/plain": [
       "(1180, 5, 2)"
      ]
     },
     "execution_count": 328,
     "metadata": {},
     "output_type": "execute_result"
    }
   ],
   "source": [
    "Xt.shape"
   ]
  },
  {
   "cell_type": "code",
   "execution_count": 329,
   "metadata": {},
   "outputs": [
    {
     "data": {
      "text/plain": [
       "(1180, 4)"
      ]
     },
     "execution_count": 329,
     "metadata": {},
     "output_type": "execute_result"
    }
   ],
   "source": [
    "yt.shape"
   ]
  },
  {
   "cell_type": "code",
   "execution_count": 330,
   "metadata": {},
   "outputs": [],
   "source": [
    "import keras\n",
    "model = keras.models.Sequential()\n",
    "model.add(keras.layers.LSTM(32, input_shape=(lags, Xt.shape[2]), return_sequences=True))\n",
    "model.add(keras.layers.BatchNormalization())\n",
    "model.add(keras.layers.LSTM(32, input_shape=(lags, 2), return_sequences=False))\n",
    "model.add(keras.layers.BatchNormalization())\n",
    "model.add(keras.layers.Dense(16, activation='relu'))\n",
    "model.add(keras.layers.BatchNormalization())\n",
    "model.add(keras.layers.Dense(16, activation='relu'))\n",
    "# model.add(keras.layers.BatchNormalization())\n",
    "model.add(keras.layers.Dense(yt.shape[1], activation=None))\n",
    "model.compile('adam', loss='mae', metrics=['mse'])"
   ]
  },
  {
   "cell_type": "code",
   "execution_count": 337,
   "metadata": {},
   "outputs": [
    {
     "name": "stdout",
     "output_type": "stream",
     "text": [
      "Epoch 1/500\n",
      "5/5 [==============================] - 0s 14ms/step - loss: 13638.1904 - mse: 339627936.0000 - val_loss: 28211.8652 - val_mse: 1136122368.0000\n",
      "Epoch 2/500\n",
      "5/5 [==============================] - 0s 9ms/step - loss: 13712.1504 - mse: 342563232.0000 - val_loss: 28405.5176 - val_mse: 1145911680.0000\n",
      "Epoch 3/500\n",
      "5/5 [==============================] - 0s 10ms/step - loss: 13633.9307 - mse: 337929536.0000 - val_loss: 33246.1797 - val_mse: 1444860672.0000\n",
      "Epoch 4/500\n",
      "5/5 [==============================] - 0s 10ms/step - loss: 13532.8457 - mse: 334247264.0000 - val_loss: 33582.0273 - val_mse: 1479744768.0000\n",
      "Epoch 5/500\n",
      "5/5 [==============================] - 0s 10ms/step - loss: 13536.9248 - mse: 333936512.0000 - val_loss: 33127.5000 - val_mse: 1452034944.0000\n",
      "Epoch 6/500\n",
      "5/5 [==============================] - 0s 10ms/step - loss: 13539.3877 - mse: 335082048.0000 - val_loss: 33166.7500 - val_mse: 1446855808.0000\n",
      "Epoch 7/500\n",
      "5/5 [==============================] - 0s 10ms/step - loss: 13625.5723 - mse: 339078976.0000 - val_loss: 33287.8516 - val_mse: 1450779264.0000\n",
      "Epoch 8/500\n",
      "5/5 [==============================] - 0s 9ms/step - loss: 13592.7393 - mse: 335093216.0000 - val_loss: 32982.6602 - val_mse: 1443024384.0000\n",
      "Epoch 9/500\n",
      "5/5 [==============================] - 0s 12ms/step - loss: 13627.7627 - mse: 337764896.0000 - val_loss: 33343.4609 - val_mse: 1452163072.0000\n",
      "Epoch 10/500\n",
      "5/5 [==============================] - 0s 11ms/step - loss: 13553.9824 - mse: 338964352.0000 - val_loss: 33137.3828 - val_mse: 1431775360.0000\n",
      "Epoch 11/500\n",
      "5/5 [==============================] - 0s 10ms/step - loss: 13546.1299 - mse: 338088160.0000 - val_loss: 32516.7324 - val_mse: 1392369280.0000\n",
      "Epoch 12/500\n",
      "5/5 [==============================] - 0s 10ms/step - loss: 13616.4092 - mse: 337119104.0000 - val_loss: 31872.4199 - val_mse: 1359849088.0000\n",
      "Epoch 13/500\n",
      "5/5 [==============================] - 0s 10ms/step - loss: 13571.8340 - mse: 335182784.0000 - val_loss: 30828.7090 - val_mse: 1295849984.0000\n",
      "Epoch 14/500\n",
      "5/5 [==============================] - 0s 10ms/step - loss: 13679.3184 - mse: 339946560.0000 - val_loss: 28778.4766 - val_mse: 1163452800.0000\n",
      "Epoch 15/500\n",
      "5/5 [==============================] - 0s 10ms/step - loss: 13593.0117 - mse: 335330944.0000 - val_loss: 25887.7734 - val_mse: 999215232.0000\n",
      "Epoch 16/500\n",
      "5/5 [==============================] - 0s 10ms/step - loss: 13601.3730 - mse: 336440288.0000 - val_loss: 23188.8164 - val_mse: 838899456.0000\n",
      "Epoch 17/500\n",
      "5/5 [==============================] - 0s 10ms/step - loss: 13573.4424 - mse: 336392704.0000 - val_loss: 21875.4668 - val_mse: 759093952.0000\n",
      "Epoch 18/500\n",
      "5/5 [==============================] - 0s 10ms/step - loss: 13575.8955 - mse: 336071328.0000 - val_loss: 24164.1426 - val_mse: 899444928.0000\n",
      "Epoch 19/500\n",
      "5/5 [==============================] - 0s 9ms/step - loss: 13537.2822 - mse: 334802976.0000 - val_loss: 24717.4238 - val_mse: 933107648.0000\n",
      "Epoch 20/500\n",
      "5/5 [==============================] - 0s 10ms/step - loss: 13625.2939 - mse: 338891904.0000 - val_loss: 24589.6602 - val_mse: 925680384.0000\n",
      "Epoch 21/500\n",
      "5/5 [==============================] - 0s 9ms/step - loss: 13517.5771 - mse: 335235456.0000 - val_loss: 25050.7461 - val_mse: 953458304.0000\n",
      "Epoch 22/500\n",
      "5/5 [==============================] - 0s 10ms/step - loss: 13588.8818 - mse: 338434016.0000 - val_loss: 25573.0957 - val_mse: 982646976.0000\n",
      "Epoch 23/500\n",
      "5/5 [==============================] - 0s 11ms/step - loss: 13569.0371 - mse: 335875040.0000 - val_loss: 27870.1582 - val_mse: 1111995008.0000\n",
      "Epoch 24/500\n",
      "5/5 [==============================] - 0s 10ms/step - loss: 13731.4404 - mse: 341618944.0000 - val_loss: 30696.5801 - val_mse: 1287826304.0000\n",
      "Epoch 25/500\n",
      "5/5 [==============================] - 0s 10ms/step - loss: 13507.9961 - mse: 332365312.0000 - val_loss: 31672.7734 - val_mse: 1348645376.0000\n",
      "Epoch 26/500\n",
      "5/5 [==============================] - 0s 11ms/step - loss: 13556.3311 - mse: 333580032.0000 - val_loss: 32278.9570 - val_mse: 1387710080.0000\n",
      "Epoch 27/500\n",
      "5/5 [==============================] - 0s 10ms/step - loss: 13574.4854 - mse: 339465184.0000 - val_loss: 32932.5703 - val_mse: 1426780416.0000\n",
      "Epoch 28/500\n",
      "5/5 [==============================] - 0s 10ms/step - loss: 13639.4805 - mse: 340396608.0000 - val_loss: 33149.2266 - val_mse: 1438681728.0000\n",
      "Epoch 29/500\n",
      "5/5 [==============================] - 0s 9ms/step - loss: 13498.0439 - mse: 332593792.0000 - val_loss: 33030.3320 - val_mse: 1433154048.0000\n",
      "Epoch 30/500\n",
      "5/5 [==============================] - 0s 10ms/step - loss: 13586.6670 - mse: 336225664.0000 - val_loss: 31686.0078 - val_mse: 1349607552.0000\n",
      "Epoch 31/500\n",
      "5/5 [==============================] - 0s 10ms/step - loss: 13579.2363 - mse: 336559904.0000 - val_loss: 30533.9199 - val_mse: 1277419136.0000\n",
      "Epoch 32/500\n",
      "5/5 [==============================] - 0s 10ms/step - loss: 13508.3516 - mse: 335465120.0000 - val_loss: 30820.1777 - val_mse: 1295427584.0000\n",
      "Epoch 33/500\n",
      "5/5 [==============================] - 0s 11ms/step - loss: 13482.3086 - mse: 332810112.0000 - val_loss: 29675.7676 - val_mse: 1224244736.0000\n",
      "Epoch 34/500\n",
      "5/5 [==============================] - 0s 10ms/step - loss: 13576.8828 - mse: 336892576.0000 - val_loss: 27371.4297 - val_mse: 1086249344.0000\n",
      "Epoch 35/500\n",
      "5/5 [==============================] - 0s 10ms/step - loss: 13457.2764 - mse: 331436800.0000 - val_loss: 23645.3477 - val_mse: 868264768.0000\n",
      "Epoch 36/500\n",
      "5/5 [==============================] - 0s 10ms/step - loss: 13617.9199 - mse: 336642656.0000 - val_loss: 21591.2480 - val_mse: 747628160.0000\n",
      "Epoch 37/500\n",
      "5/5 [==============================] - 0s 10ms/step - loss: 13556.2539 - mse: 334594784.0000 - val_loss: 20382.8145 - val_mse: 679403840.0000\n",
      "Epoch 38/500\n",
      "5/5 [==============================] - 0s 10ms/step - loss: 13527.8193 - mse: 333838688.0000 - val_loss: 18831.8789 - val_mse: 579195200.0000\n",
      "Epoch 39/500\n",
      "5/5 [==============================] - 0s 9ms/step - loss: 13483.1074 - mse: 332858784.0000 - val_loss: 18198.4961 - val_mse: 539232384.0000\n",
      "Epoch 40/500\n",
      "5/5 [==============================] - 0s 9ms/step - loss: 13618.1328 - mse: 339827680.0000 - val_loss: 17367.4512 - val_mse: 482991520.0000\n",
      "Epoch 41/500\n",
      "5/5 [==============================] - 0s 9ms/step - loss: 13497.3613 - mse: 333323168.0000 - val_loss: 18373.7285 - val_mse: 553065536.0000\n",
      "Epoch 42/500\n",
      "5/5 [==============================] - 0s 9ms/step - loss: 13639.5342 - mse: 337024608.0000 - val_loss: 20168.1895 - val_mse: 666349376.0000\n",
      "Epoch 43/500\n",
      "5/5 [==============================] - 0s 10ms/step - loss: 13702.2676 - mse: 339135136.0000 - val_loss: 21218.4121 - val_mse: 726097088.0000\n",
      "Epoch 44/500\n",
      "5/5 [==============================] - 0s 10ms/step - loss: 13566.1436 - mse: 337115680.0000 - val_loss: 22581.5996 - val_mse: 806762112.0000\n",
      "Epoch 45/500\n",
      "5/5 [==============================] - 0s 10ms/step - loss: 13564.7900 - mse: 337626880.0000 - val_loss: 23728.2559 - val_mse: 879169664.0000\n",
      "Epoch 46/500\n",
      "5/5 [==============================] - 0s 9ms/step - loss: 13498.4883 - mse: 333609248.0000 - val_loss: 21892.8477 - val_mse: 771108032.0000\n",
      "Epoch 47/500\n",
      "5/5 [==============================] - 0s 9ms/step - loss: 13510.7764 - mse: 333083680.0000 - val_loss: 23137.8086 - val_mse: 842240128.0000\n",
      "Epoch 48/500\n",
      "5/5 [==============================] - 0s 9ms/step - loss: 13550.3662 - mse: 335019200.0000 - val_loss: 28583.0176 - val_mse: 1159632640.0000\n",
      "Epoch 49/500\n",
      "5/5 [==============================] - 0s 9ms/step - loss: 13486.1943 - mse: 332461600.0000 - val_loss: 32465.0957 - val_mse: 1397132800.0000\n",
      "Epoch 50/500\n",
      "5/5 [==============================] - 0s 10ms/step - loss: 13541.6953 - mse: 333909312.0000 - val_loss: 33406.7891 - val_mse: 1450670464.0000\n",
      "Epoch 51/500\n",
      "5/5 [==============================] - 0s 10ms/step - loss: 13558.5107 - mse: 335747808.0000 - val_loss: 33421.2031 - val_mse: 1457247360.0000\n",
      "Epoch 52/500\n",
      "5/5 [==============================] - 0s 10ms/step - loss: 13532.1318 - mse: 333207712.0000 - val_loss: 33339.6250 - val_mse: 1446027520.0000\n",
      "Epoch 53/500\n",
      "5/5 [==============================] - 0s 10ms/step - loss: 13530.5977 - mse: 334700832.0000 - val_loss: 33283.4219 - val_mse: 1448184320.0000\n"
     ]
    },
    {
     "name": "stdout",
     "output_type": "stream",
     "text": [
      "Epoch 54/500\n",
      "5/5 [==============================] - 0s 10ms/step - loss: 13446.0264 - mse: 331543072.0000 - val_loss: 33297.3125 - val_mse: 1451776768.0000\n",
      "Epoch 55/500\n",
      "5/5 [==============================] - 0s 10ms/step - loss: 13519.0957 - mse: 335225056.0000 - val_loss: 33177.2461 - val_mse: 1453459968.0000\n",
      "Epoch 56/500\n",
      "5/5 [==============================] - 0s 10ms/step - loss: 13534.4375 - mse: 335315488.0000 - val_loss: 32828.3477 - val_mse: 1424001920.0000\n",
      "Epoch 57/500\n",
      "5/5 [==============================] - 0s 10ms/step - loss: 13555.8457 - mse: 335550304.0000 - val_loss: 33107.0664 - val_mse: 1438479488.0000\n",
      "Epoch 58/500\n",
      "5/5 [==============================] - 0s 10ms/step - loss: 13507.9180 - mse: 333320672.0000 - val_loss: 33283.4023 - val_mse: 1448257792.0000\n",
      "Epoch 59/500\n",
      "5/5 [==============================] - 0s 11ms/step - loss: 13498.8789 - mse: 335239392.0000 - val_loss: 33308.8281 - val_mse: 1450815232.0000\n",
      "Epoch 60/500\n",
      "5/5 [==============================] - 0s 10ms/step - loss: 13455.9180 - mse: 331722560.0000 - val_loss: 33280.9180 - val_mse: 1448165248.0000\n",
      "Epoch 61/500\n",
      "5/5 [==============================] - 0s 10ms/step - loss: 13500.2979 - mse: 330476544.0000 - val_loss: 33314.4531 - val_mse: 1450280576.0000\n",
      "Epoch 62/500\n",
      "5/5 [==============================] - 0s 10ms/step - loss: 13565.0547 - mse: 333620256.0000 - val_loss: 33359.2539 - val_mse: 1453488000.0000\n",
      "Epoch 63/500\n",
      "5/5 [==============================] - 0s 9ms/step - loss: 13540.8555 - mse: 332631104.0000 - val_loss: 33370.7539 - val_mse: 1454166784.0000\n",
      "Epoch 64/500\n",
      "5/5 [==============================] - 0s 10ms/step - loss: 13508.4531 - mse: 332852384.0000 - val_loss: 33459.0156 - val_mse: 1460869504.0000\n",
      "Epoch 65/500\n",
      "5/5 [==============================] - 0s 10ms/step - loss: 13610.1836 - mse: 336514368.0000 - val_loss: 33240.6289 - val_mse: 1448702080.0000\n",
      "Epoch 66/500\n",
      "5/5 [==============================] - 0s 11ms/step - loss: 13466.2646 - mse: 330345088.0000 - val_loss: 33111.7305 - val_mse: 1444986368.0000\n",
      "Epoch 67/500\n",
      "5/5 [==============================] - 0s 11ms/step - loss: 13467.8213 - mse: 330825280.0000 - val_loss: 33452.2070 - val_mse: 1474643584.0000\n",
      "Epoch 68/500\n",
      "5/5 [==============================] - 0s 10ms/step - loss: 13517.3525 - mse: 331569120.0000 - val_loss: 33727.2930 - val_mse: 1493107328.0000\n",
      "Epoch 69/500\n",
      "5/5 [==============================] - 0s 11ms/step - loss: 13551.2930 - mse: 333092992.0000 - val_loss: 33550.7617 - val_mse: 1482887168.0000\n",
      "Epoch 70/500\n",
      "5/5 [==============================] - 0s 10ms/step - loss: 13548.4160 - mse: 334052544.0000 - val_loss: 33395.1875 - val_mse: 1464863616.0000\n",
      "Epoch 71/500\n",
      "5/5 [==============================] - 0s 10ms/step - loss: 13469.9639 - mse: 330064160.0000 - val_loss: 33439.1523 - val_mse: 1469187712.0000\n",
      "Epoch 72/500\n",
      "5/5 [==============================] - 0s 10ms/step - loss: 13478.6299 - mse: 329253472.0000 - val_loss: 34143.8320 - val_mse: 1511111296.0000\n",
      "Epoch 73/500\n",
      "5/5 [==============================] - 0s 10ms/step - loss: 13514.2559 - mse: 332263712.0000 - val_loss: 33970.5469 - val_mse: 1495249664.0000\n",
      "Epoch 74/500\n",
      "5/5 [==============================] - 0s 9ms/step - loss: 13473.2490 - mse: 333121440.0000 - val_loss: 33888.8164 - val_mse: 1490058624.0000\n",
      "Epoch 75/500\n",
      "5/5 [==============================] - 0s 9ms/step - loss: 13522.7549 - mse: 333501472.0000 - val_loss: 33982.6328 - val_mse: 1501111936.0000\n",
      "Epoch 76/500\n",
      "5/5 [==============================] - 0s 10ms/step - loss: 13529.8320 - mse: 332755264.0000 - val_loss: 33672.7344 - val_mse: 1488977152.0000\n",
      "Epoch 77/500\n",
      "5/5 [==============================] - 0s 10ms/step - loss: 13471.8057 - mse: 329986880.0000 - val_loss: 33685.2422 - val_mse: 1490336384.0000\n",
      "Epoch 78/500\n",
      "5/5 [==============================] - 0s 10ms/step - loss: 13466.6396 - mse: 333192320.0000 - val_loss: 33637.6680 - val_mse: 1490418816.0000\n",
      "Epoch 79/500\n",
      "5/5 [==============================] - 0s 10ms/step - loss: 13448.0693 - mse: 329710144.0000 - val_loss: 33427.4023 - val_mse: 1471172480.0000\n",
      "Epoch 80/500\n",
      "5/5 [==============================] - 0s 10ms/step - loss: 13513.6201 - mse: 330541824.0000 - val_loss: 33439.3047 - val_mse: 1468422784.0000\n",
      "Epoch 81/500\n",
      "5/5 [==============================] - 0s 10ms/step - loss: 13463.0156 - mse: 329652768.0000 - val_loss: 33521.3750 - val_mse: 1470236032.0000\n",
      "Epoch 82/500\n",
      "5/5 [==============================] - 0s 9ms/step - loss: 13522.7979 - mse: 330383872.0000 - val_loss: 33584.8984 - val_mse: 1471825024.0000\n",
      "Epoch 83/500\n",
      "5/5 [==============================] - 0s 10ms/step - loss: 13571.2520 - mse: 336489664.0000 - val_loss: 33553.4766 - val_mse: 1471916800.0000\n",
      "Epoch 84/500\n",
      "5/5 [==============================] - 0s 10ms/step - loss: 13481.4561 - mse: 334659936.0000 - val_loss: 33173.4883 - val_mse: 1442248320.0000\n",
      "Epoch 85/500\n",
      "5/5 [==============================] - 0s 9ms/step - loss: 13463.5527 - mse: 331693440.0000 - val_loss: 33090.0195 - val_mse: 1436448640.0000\n",
      "Epoch 86/500\n",
      "5/5 [==============================] - 0s 9ms/step - loss: 13568.8936 - mse: 334045376.0000 - val_loss: 33045.9648 - val_mse: 1432513152.0000\n",
      "Epoch 87/500\n",
      "5/5 [==============================] - 0s 9ms/step - loss: 13511.4170 - mse: 330738240.0000 - val_loss: 33122.2031 - val_mse: 1437663744.0000\n",
      "Epoch 88/500\n",
      "5/5 [==============================] - 0s 9ms/step - loss: 13477.0215 - mse: 330472640.0000 - val_loss: 33161.8945 - val_mse: 1440416384.0000\n",
      "Epoch 89/500\n",
      "5/5 [==============================] - 0s 9ms/step - loss: 13581.2100 - mse: 334662560.0000 - val_loss: 33178.4453 - val_mse: 1441449600.0000\n",
      "Epoch 90/500\n",
      "5/5 [==============================] - 0s 10ms/step - loss: 13546.9541 - mse: 334524736.0000 - val_loss: 33156.7617 - val_mse: 1439974272.0000\n",
      "Epoch 91/500\n",
      "5/5 [==============================] - 0s 9ms/step - loss: 13499.8438 - mse: 329644640.0000 - val_loss: 33175.9336 - val_mse: 1441710080.0000\n",
      "Epoch 92/500\n",
      "5/5 [==============================] - 0s 9ms/step - loss: 13476.8164 - mse: 331322560.0000 - val_loss: 33203.1328 - val_mse: 1443959552.0000\n",
      "Epoch 93/500\n",
      "5/5 [==============================] - 0s 9ms/step - loss: 13482.2002 - mse: 331511712.0000 - val_loss: 33181.2305 - val_mse: 1441878784.0000\n",
      "Epoch 94/500\n",
      "5/5 [==============================] - 0s 9ms/step - loss: 13567.2188 - mse: 337436544.0000 - val_loss: 33189.3516 - val_mse: 1441918720.0000\n",
      "Epoch 95/500\n",
      "5/5 [==============================] - 0s 11ms/step - loss: 13653.2344 - mse: 339437088.0000 - val_loss: 33089.1680 - val_mse: 1433401856.0000\n",
      "Epoch 96/500\n",
      "5/5 [==============================] - 0s 9ms/step - loss: 13680.7217 - mse: 339445184.0000 - val_loss: 33190.7578 - val_mse: 1440915072.0000\n",
      "Epoch 97/500\n",
      "5/5 [==============================] - 0s 10ms/step - loss: 13880.2988 - mse: 346746272.0000 - val_loss: 33296.1680 - val_mse: 1449138176.0000\n",
      "Epoch 98/500\n",
      "5/5 [==============================] - 0s 10ms/step - loss: 14048.8926 - mse: 350578048.0000 - val_loss: 33320.1094 - val_mse: 1450487168.0000\n",
      "Epoch 99/500\n",
      "5/5 [==============================] - 0s 10ms/step - loss: 13908.2012 - mse: 344343360.0000 - val_loss: 33319.3672 - val_mse: 1449778944.0000\n",
      "Epoch 100/500\n",
      "5/5 [==============================] - 0s 10ms/step - loss: 13914.2432 - mse: 344555840.0000 - val_loss: 33247.7109 - val_mse: 1443400832.0000\n",
      "Epoch 101/500\n",
      "5/5 [==============================] - 0s 9ms/step - loss: 13804.0293 - mse: 341563616.0000 - val_loss: 33194.4648 - val_mse: 1439172224.0000\n",
      "Epoch 102/500\n",
      "5/5 [==============================] - 0s 10ms/step - loss: 13800.0215 - mse: 340617056.0000 - val_loss: 33209.6289 - val_mse: 1440109952.0000\n",
      "Epoch 103/500\n",
      "5/5 [==============================] - 0s 10ms/step - loss: 13728.7920 - mse: 338019808.0000 - val_loss: 33246.7148 - val_mse: 1442793088.0000\n",
      "Epoch 104/500\n",
      "5/5 [==============================] - 0s 10ms/step - loss: 13770.9170 - mse: 339026400.0000 - val_loss: 33256.3828 - val_mse: 1443204480.0000\n",
      "Epoch 105/500\n",
      "5/5 [==============================] - 0s 10ms/step - loss: 13627.2715 - mse: 335746528.0000 - val_loss: 33233.5547 - val_mse: 1441311232.0000\n",
      "Epoch 106/500\n",
      "5/5 [==============================] - 0s 9ms/step - loss: 13694.1426 - mse: 339291584.0000 - val_loss: 33175.4336 - val_mse: 1437188992.0000\n",
      "Epoch 107/500\n",
      "5/5 [==============================] - 0s 10ms/step - loss: 13685.7158 - mse: 336067840.0000 - val_loss: 33021.3789 - val_mse: 1426386816.0000\n",
      "Epoch 108/500\n",
      "5/5 [==============================] - 0s 10ms/step - loss: 13639.2139 - mse: 334796672.0000 - val_loss: 32748.1133 - val_mse: 1407385856.0000\n",
      "Epoch 109/500\n",
      "5/5 [==============================] - 0s 10ms/step - loss: 13885.1738 - mse: 343619136.0000 - val_loss: 32455.1797 - val_mse: 1387622016.0000\n",
      "Epoch 110/500\n",
      "5/5 [==============================] - 0s 9ms/step - loss: 13618.7471 - mse: 334465664.0000 - val_loss: 32399.4414 - val_mse: 1383684224.0000\n",
      "Epoch 111/500\n",
      "5/5 [==============================] - 0s 9ms/step - loss: 13602.8066 - mse: 334449824.0000 - val_loss: 32545.8652 - val_mse: 1393809664.0000\n",
      "Epoch 112/500\n",
      "5/5 [==============================] - 0s 9ms/step - loss: 13602.1855 - mse: 336836384.0000 - val_loss: 32474.7383 - val_mse: 1389072768.0000\n",
      "Epoch 113/500\n",
      "5/5 [==============================] - 0s 10ms/step - loss: 13638.6787 - mse: 337288768.0000 - val_loss: 32381.9102 - val_mse: 1382658176.0000\n",
      "Epoch 114/500\n",
      "5/5 [==============================] - 0s 9ms/step - loss: 13689.1973 - mse: 336300896.0000 - val_loss: 32495.5566 - val_mse: 1390434432.0000\n",
      "Epoch 115/500\n",
      "5/5 [==============================] - 0s 9ms/step - loss: 13627.6133 - mse: 333129344.0000 - val_loss: 32694.9746 - val_mse: 1403807104.0000\n",
      "Epoch 116/500\n",
      "5/5 [==============================] - 0s 10ms/step - loss: 13685.6680 - mse: 336994944.0000 - val_loss: 32939.0703 - val_mse: 1420466048.0000\n",
      "Epoch 117/500\n",
      "5/5 [==============================] - 0s 9ms/step - loss: 13555.8311 - mse: 333797536.0000 - val_loss: 33158.9922 - val_mse: 1435324928.0000\n",
      "Epoch 118/500\n",
      "5/5 [==============================] - 0s 9ms/step - loss: 13539.9170 - mse: 331761984.0000 - val_loss: 33356.4805 - val_mse: 1449491712.0000\n",
      "Epoch 119/500\n",
      "5/5 [==============================] - 0s 10ms/step - loss: 13581.8936 - mse: 331499200.0000 - val_loss: 33567.5234 - val_mse: 1465126784.0000\n",
      "Epoch 120/500\n",
      "5/5 [==============================] - 0s 9ms/step - loss: 13562.3105 - mse: 332803104.0000 - val_loss: 33890.8477 - val_mse: 1489333504.0000\n",
      "Epoch 121/500\n",
      "5/5 [==============================] - 0s 9ms/step - loss: 13639.4707 - mse: 335599776.0000 - val_loss: 34015.5391 - val_mse: 1498745728.0000\n",
      "Epoch 122/500\n",
      "5/5 [==============================] - 0s 9ms/step - loss: 13577.1387 - mse: 331385248.0000 - val_loss: 34133.2617 - val_mse: 1507191040.0000\n",
      "Epoch 123/500\n",
      "5/5 [==============================] - 0s 9ms/step - loss: 13582.1543 - mse: 331073568.0000 - val_loss: 34209.9805 - val_mse: 1511500672.0000\n",
      "Epoch 124/500\n",
      "5/5 [==============================] - 0s 10ms/step - loss: 13568.4922 - mse: 329598688.0000 - val_loss: 34264.3242 - val_mse: 1515725056.0000\n",
      "Epoch 125/500\n",
      "5/5 [==============================] - 0s 10ms/step - loss: 13586.0625 - mse: 330817760.0000 - val_loss: 34327.5469 - val_mse: 1520154368.0000\n",
      "Epoch 126/500\n",
      "5/5 [==============================] - 0s 10ms/step - loss: 13613.3203 - mse: 334269504.0000 - val_loss: 34257.5625 - val_mse: 1516399104.0000\n",
      "Epoch 127/500\n",
      "5/5 [==============================] - 0s 9ms/step - loss: 13547.7871 - mse: 332874624.0000 - val_loss: 34306.5391 - val_mse: 1524299648.0000\n",
      "Epoch 128/500\n",
      "5/5 [==============================] - 0s 10ms/step - loss: 13660.1172 - mse: 337173824.0000 - val_loss: 34544.6875 - val_mse: 1552956288.0000\n",
      "Epoch 129/500\n",
      "5/5 [==============================] - 0s 9ms/step - loss: 13590.3770 - mse: 333568128.0000 - val_loss: 34854.9453 - val_mse: 1571376256.0000\n",
      "Epoch 130/500\n",
      "5/5 [==============================] - 0s 9ms/step - loss: 13607.3965 - mse: 332621568.0000 - val_loss: 34949.0352 - val_mse: 1577151616.0000\n",
      "Epoch 131/500\n",
      "5/5 [==============================] - 0s 10ms/step - loss: 13530.3711 - mse: 331130112.0000 - val_loss: 34836.2109 - val_mse: 1574309248.0000\n",
      "Epoch 132/500\n",
      "5/5 [==============================] - 0s 11ms/step - loss: 13636.9502 - mse: 336220352.0000 - val_loss: 34187.0820 - val_mse: 1518112512.0000\n",
      "Epoch 133/500\n",
      "5/5 [==============================] - 0s 10ms/step - loss: 13500.9561 - mse: 329256192.0000 - val_loss: 33997.6172 - val_mse: 1502580992.0000\n",
      "Epoch 134/500\n",
      "5/5 [==============================] - 0s 9ms/step - loss: 13647.1904 - mse: 336196832.0000 - val_loss: 33809.6094 - val_mse: 1489067264.0000\n",
      "Epoch 135/500\n",
      "5/5 [==============================] - 0s 10ms/step - loss: 13617.4297 - mse: 337166208.0000 - val_loss: 33772.5039 - val_mse: 1489627520.0000\n",
      "Epoch 136/500\n",
      "5/5 [==============================] - 0s 10ms/step - loss: 13474.3799 - mse: 329101792.0000 - val_loss: 33728.9023 - val_mse: 1487989504.0000\n",
      "Epoch 137/500\n",
      "5/5 [==============================] - 0s 10ms/step - loss: 13509.4658 - mse: 331166656.0000 - val_loss: 33695.1055 - val_mse: 1482599040.0000\n",
      "Epoch 138/500\n",
      "5/5 [==============================] - 0s 10ms/step - loss: 13566.7520 - mse: 335104800.0000 - val_loss: 33671.6250 - val_mse: 1474461568.0000\n",
      "Epoch 139/500\n",
      "5/5 [==============================] - 0s 10ms/step - loss: 13597.0713 - mse: 333100896.0000 - val_loss: 33514.6094 - val_mse: 1465791360.0000\n",
      "Epoch 140/500\n",
      "5/5 [==============================] - 0s 10ms/step - loss: 13505.2148 - mse: 329396544.0000 - val_loss: 33362.2695 - val_mse: 1454513792.0000\n",
      "Epoch 141/500\n",
      "5/5 [==============================] - 0s 10ms/step - loss: 13682.2441 - mse: 337357312.0000 - val_loss: 33402.2812 - val_mse: 1457368192.0000\n",
      "Epoch 142/500\n",
      "5/5 [==============================] - 0s 10ms/step - loss: 13551.9648 - mse: 330566304.0000 - val_loss: 33493.3086 - val_mse: 1464476928.0000\n",
      "Epoch 143/500\n",
      "5/5 [==============================] - 0s 10ms/step - loss: 13488.0879 - mse: 330788640.0000 - val_loss: 33518.3086 - val_mse: 1466389248.0000\n",
      "Epoch 144/500\n",
      "5/5 [==============================] - 0s 10ms/step - loss: 13457.2793 - mse: 328965696.0000 - val_loss: 33395.5430 - val_mse: 1457099904.0000\n",
      "Epoch 145/500\n",
      "5/5 [==============================] - 0s 10ms/step - loss: 13482.7783 - mse: 328992768.0000 - val_loss: 33566.8438 - val_mse: 1470257664.0000\n",
      "Epoch 146/500\n",
      "5/5 [==============================] - 0s 10ms/step - loss: 13578.7334 - mse: 334534496.0000 - val_loss: 33648.6719 - val_mse: 1473152640.0000\n",
      "Epoch 147/500\n",
      "5/5 [==============================] - 0s 10ms/step - loss: 13576.0088 - mse: 332226848.0000 - val_loss: 33596.0547 - val_mse: 1476534528.0000\n",
      "Epoch 148/500\n",
      "5/5 [==============================] - 0s 10ms/step - loss: 13484.8281 - mse: 330865888.0000 - val_loss: 33630.1367 - val_mse: 1484100736.0000\n",
      "Epoch 149/500\n",
      "5/5 [==============================] - 0s 10ms/step - loss: 13560.7422 - mse: 332941568.0000 - val_loss: 33778.0859 - val_mse: 1499395328.0000\n",
      "Epoch 150/500\n",
      "5/5 [==============================] - 0s 10ms/step - loss: 13510.2100 - mse: 329575904.0000 - val_loss: 34140.5742 - val_mse: 1524301440.0000\n",
      "Epoch 151/500\n",
      "5/5 [==============================] - 0s 10ms/step - loss: 13579.1709 - mse: 332998944.0000 - val_loss: 34163.4219 - val_mse: 1526053504.0000\n",
      "Epoch 152/500\n",
      "5/5 [==============================] - 0s 10ms/step - loss: 13463.2803 - mse: 329498752.0000 - val_loss: 33716.9844 - val_mse: 1489285120.0000\n",
      "Epoch 153/500\n",
      "5/5 [==============================] - 0s 9ms/step - loss: 13536.7578 - mse: 331926464.0000 - val_loss: 33599.1719 - val_mse: 1472930304.0000\n",
      "Epoch 154/500\n",
      "5/5 [==============================] - 0s 10ms/step - loss: 13546.1602 - mse: 332157856.0000 - val_loss: 33600.9180 - val_mse: 1469509504.0000\n",
      "Epoch 155/500\n",
      "5/5 [==============================] - 0s 9ms/step - loss: 13407.8213 - mse: 326496128.0000 - val_loss: 33517.8789 - val_mse: 1465796224.0000\n",
      "Epoch 156/500\n",
      "5/5 [==============================] - 0s 11ms/step - loss: 13500.6338 - mse: 327880384.0000 - val_loss: 33609.6016 - val_mse: 1472432768.0000\n",
      "Epoch 157/500\n",
      "5/5 [==============================] - 0s 10ms/step - loss: 13373.4590 - mse: 325302016.0000 - val_loss: 33585.7617 - val_mse: 1472417664.0000\n",
      "Epoch 158/500\n"
     ]
    },
    {
     "name": "stdout",
     "output_type": "stream",
     "text": [
      "5/5 [==============================] - 0s 10ms/step - loss: 13478.3555 - mse: 329602016.0000 - val_loss: 33580.9258 - val_mse: 1472332160.0000\n",
      "Epoch 159/500\n",
      "5/5 [==============================] - 0s 9ms/step - loss: 13489.4482 - mse: 331173696.0000 - val_loss: 33533.5117 - val_mse: 1466052096.0000\n",
      "Epoch 160/500\n",
      "5/5 [==============================] - 0s 10ms/step - loss: 13423.1152 - mse: 327831136.0000 - val_loss: 33400.9492 - val_mse: 1462336128.0000\n",
      "Epoch 161/500\n",
      "5/5 [==============================] - 0s 10ms/step - loss: 13385.7744 - mse: 325776608.0000 - val_loss: 33358.0117 - val_mse: 1462619904.0000\n",
      "Epoch 162/500\n",
      "5/5 [==============================] - 0s 10ms/step - loss: 13527.8867 - mse: 331351648.0000 - val_loss: 33370.3398 - val_mse: 1463372672.0000\n",
      "Epoch 163/500\n",
      "5/5 [==============================] - 0s 10ms/step - loss: 13397.6523 - mse: 325953056.0000 - val_loss: 33262.3750 - val_mse: 1453005312.0000\n",
      "Epoch 164/500\n",
      "5/5 [==============================] - 0s 9ms/step - loss: 13367.9316 - mse: 325729376.0000 - val_loss: 33289.2305 - val_mse: 1446464640.0000\n",
      "Epoch 165/500\n",
      "5/5 [==============================] - 0s 10ms/step - loss: 13458.2344 - mse: 331098752.0000 - val_loss: 33230.6562 - val_mse: 1444466688.0000\n",
      "Epoch 166/500\n",
      "5/5 [==============================] - 0s 10ms/step - loss: 13553.2656 - mse: 333231424.0000 - val_loss: 33179.7734 - val_mse: 1441972352.0000\n",
      "Epoch 167/500\n",
      "5/5 [==============================] - 0s 10ms/step - loss: 13427.8652 - mse: 327970176.0000 - val_loss: 32849.2422 - val_mse: 1415849472.0000\n",
      "Epoch 168/500\n",
      "5/5 [==============================] - 0s 10ms/step - loss: 13418.5840 - mse: 327112352.0000 - val_loss: 32691.5742 - val_mse: 1404018176.0000\n",
      "Epoch 169/500\n",
      "5/5 [==============================] - 0s 10ms/step - loss: 13595.6455 - mse: 333497728.0000 - val_loss: 32621.0820 - val_mse: 1399016320.0000\n",
      "Epoch 170/500\n",
      "5/5 [==============================] - 0s 10ms/step - loss: 13436.2578 - mse: 325789792.0000 - val_loss: 32678.3496 - val_mse: 1403000064.0000\n",
      "Epoch 171/500\n",
      "5/5 [==============================] - 0s 10ms/step - loss: 13441.6787 - mse: 326336384.0000 - val_loss: 32811.1172 - val_mse: 1412629248.0000\n",
      "Epoch 172/500\n",
      "5/5 [==============================] - 0s 10ms/step - loss: 13420.4951 - mse: 327485024.0000 - val_loss: 33008.1406 - val_mse: 1427156736.0000\n",
      "Epoch 173/500\n",
      "5/5 [==============================] - 0s 10ms/step - loss: 13428.8398 - mse: 328033024.0000 - val_loss: 32953.2461 - val_mse: 1423100288.0000\n",
      "Epoch 174/500\n",
      "5/5 [==============================] - 0s 9ms/step - loss: 13375.4355 - mse: 326941664.0000 - val_loss: 33014.4102 - val_mse: 1427780352.0000\n",
      "Epoch 175/500\n",
      "5/5 [==============================] - 0s 10ms/step - loss: 13379.6982 - mse: 324643616.0000 - val_loss: 33070.2070 - val_mse: 1432186880.0000\n",
      "Epoch 176/500\n",
      "5/5 [==============================] - 0s 10ms/step - loss: 13456.2393 - mse: 328794048.0000 - val_loss: 33043.8828 - val_mse: 1429923712.0000\n",
      "Epoch 177/500\n",
      "5/5 [==============================] - 0s 11ms/step - loss: 13309.8242 - mse: 323146880.0000 - val_loss: 33042.0312 - val_mse: 1430386048.0000\n",
      "Epoch 178/500\n",
      "5/5 [==============================] - 0s 10ms/step - loss: 13418.2881 - mse: 326034752.0000 - val_loss: 32968.7656 - val_mse: 1424382208.0000\n",
      "Epoch 179/500\n",
      "5/5 [==============================] - 0s 10ms/step - loss: 13419.8467 - mse: 328951136.0000 - val_loss: 32985.3164 - val_mse: 1425802880.0000\n",
      "Epoch 180/500\n",
      "5/5 [==============================] - 0s 10ms/step - loss: 13386.6523 - mse: 327534368.0000 - val_loss: 32982.8984 - val_mse: 1425971328.0000\n",
      "Epoch 181/500\n",
      "5/5 [==============================] - 0s 10ms/step - loss: 13374.4844 - mse: 326092832.0000 - val_loss: 32834.6719 - val_mse: 1414803200.0000\n",
      "Epoch 182/500\n",
      "5/5 [==============================] - 0s 9ms/step - loss: 13470.2744 - mse: 328311136.0000 - val_loss: 32721.3008 - val_mse: 1406347136.0000\n",
      "Epoch 183/500\n",
      "5/5 [==============================] - 0s 10ms/step - loss: 13428.7119 - mse: 329109600.0000 - val_loss: 32643.1992 - val_mse: 1400912768.0000\n",
      "Epoch 184/500\n",
      "5/5 [==============================] - 0s 10ms/step - loss: 13442.8984 - mse: 329797600.0000 - val_loss: 32785.8672 - val_mse: 1411040640.0000\n",
      "Epoch 185/500\n",
      "5/5 [==============================] - 0s 10ms/step - loss: 13469.9609 - mse: 330572288.0000 - val_loss: 32899.4414 - val_mse: 1419450624.0000\n",
      "Epoch 186/500\n",
      "5/5 [==============================] - 0s 9ms/step - loss: 13474.5781 - mse: 331622176.0000 - val_loss: 33000.7969 - val_mse: 1427895424.0000\n",
      "Epoch 187/500\n",
      "5/5 [==============================] - 0s 9ms/step - loss: 13490.8711 - mse: 331574880.0000 - val_loss: 33090.4336 - val_mse: 1431984256.0000\n",
      "Epoch 188/500\n",
      "5/5 [==============================] - 0s 10ms/step - loss: 13471.3232 - mse: 329420736.0000 - val_loss: 33116.9766 - val_mse: 1442519296.0000\n",
      "Epoch 189/500\n",
      "5/5 [==============================] - 0s 10ms/step - loss: 13536.6357 - mse: 331789248.0000 - val_loss: 33489.7500 - val_mse: 1479224832.0000\n",
      "Epoch 190/500\n",
      "5/5 [==============================] - 0s 9ms/step - loss: 13474.6543 - mse: 330763168.0000 - val_loss: 33814.7070 - val_mse: 1500548608.0000\n",
      "Epoch 191/500\n",
      "5/5 [==============================] - 0s 10ms/step - loss: 13400.4512 - mse: 325020864.0000 - val_loss: 33878.9844 - val_mse: 1505067520.0000\n",
      "Epoch 192/500\n",
      "5/5 [==============================] - 0s 10ms/step - loss: 13471.6123 - mse: 331491648.0000 - val_loss: 33747.6094 - val_mse: 1496132864.0000\n",
      "Epoch 193/500\n",
      "5/5 [==============================] - 0s 10ms/step - loss: 13459.5234 - mse: 330124736.0000 - val_loss: 33630.6016 - val_mse: 1486527360.0000\n",
      "Epoch 194/500\n",
      "5/5 [==============================] - 0s 11ms/step - loss: 13523.9404 - mse: 330716864.0000 - val_loss: 33423.8516 - val_mse: 1465867136.0000\n",
      "Epoch 195/500\n",
      "5/5 [==============================] - 0s 10ms/step - loss: 13510.9805 - mse: 329649696.0000 - val_loss: 33450.7227 - val_mse: 1466026368.0000\n",
      "Epoch 196/500\n",
      "5/5 [==============================] - 0s 10ms/step - loss: 13409.8516 - mse: 327320640.0000 - val_loss: 33506.4766 - val_mse: 1462336384.0000\n",
      "Epoch 197/500\n",
      "5/5 [==============================] - 0s 10ms/step - loss: 13534.2324 - mse: 330710656.0000 - val_loss: 32926.3047 - val_mse: 1420528256.0000\n",
      "Epoch 198/500\n",
      "5/5 [==============================] - 0s 10ms/step - loss: 13455.5752 - mse: 327463616.0000 - val_loss: 32746.5195 - val_mse: 1407064832.0000\n",
      "Epoch 199/500\n",
      "5/5 [==============================] - 0s 10ms/step - loss: 13373.6836 - mse: 327242272.0000 - val_loss: 32704.4043 - val_mse: 1403940352.0000\n",
      "Epoch 200/500\n",
      "5/5 [==============================] - 0s 9ms/step - loss: 13403.3467 - mse: 329395552.0000 - val_loss: 32763.3027 - val_mse: 1408442880.0000\n",
      "Epoch 201/500\n",
      "5/5 [==============================] - 0s 10ms/step - loss: 13523.2793 - mse: 330595904.0000 - val_loss: 32935.6602 - val_mse: 1421492864.0000\n",
      "Epoch 202/500\n",
      "5/5 [==============================] - 0s 9ms/step - loss: 13385.3369 - mse: 324954688.0000 - val_loss: 33030.5273 - val_mse: 1429635200.0000\n",
      "Epoch 203/500\n",
      "5/5 [==============================] - 0s 9ms/step - loss: 13415.2783 - mse: 327270592.0000 - val_loss: 33156.0391 - val_mse: 1439226752.0000\n",
      "Epoch 204/500\n",
      "5/5 [==============================] - 0s 9ms/step - loss: 13521.0293 - mse: 332422112.0000 - val_loss: 33141.7969 - val_mse: 1438225792.0000\n",
      "Epoch 205/500\n",
      "5/5 [==============================] - 0s 9ms/step - loss: 13353.3926 - mse: 324919328.0000 - val_loss: 33134.4922 - val_mse: 1437417984.0000\n",
      "Epoch 206/500\n",
      "5/5 [==============================] - 0s 10ms/step - loss: 13479.7227 - mse: 330534112.0000 - val_loss: 32816.6211 - val_mse: 1420136192.0000\n",
      "Epoch 207/500\n",
      "5/5 [==============================] - 0s 9ms/step - loss: 13515.9482 - mse: 332913312.0000 - val_loss: 33152.7227 - val_mse: 1452087936.0000\n",
      "Epoch 208/500\n",
      "5/5 [==============================] - 0s 10ms/step - loss: 13403.1396 - mse: 328984288.0000 - val_loss: 32896.9062 - val_mse: 1432268544.0000\n",
      "Epoch 209/500\n",
      "5/5 [==============================] - 0s 9ms/step - loss: 13265.2871 - mse: 322655968.0000 - val_loss: 32904.4336 - val_mse: 1433994368.0000\n",
      "Epoch 210/500\n",
      "5/5 [==============================] - 0s 9ms/step - loss: 13308.6445 - mse: 324917280.0000 - val_loss: 32915.1719 - val_mse: 1434967808.0000\n",
      "Epoch 211/500\n",
      "5/5 [==============================] - 0s 10ms/step - loss: 13306.6094 - mse: 324144640.0000 - val_loss: 32796.0273 - val_mse: 1419026048.0000\n",
      "Epoch 212/500\n",
      "5/5 [==============================] - 0s 10ms/step - loss: 13348.2422 - mse: 326141888.0000 - val_loss: 32876.0586 - val_mse: 1420742400.0000\n",
      "Epoch 213/500\n",
      "5/5 [==============================] - 0s 9ms/step - loss: 13352.0176 - mse: 327675072.0000 - val_loss: 32881.0000 - val_mse: 1421209984.0000\n",
      "Epoch 214/500\n",
      "5/5 [==============================] - 0s 10ms/step - loss: 13338.7783 - mse: 325134432.0000 - val_loss: 32957.2188 - val_mse: 1424481152.0000\n",
      "Epoch 215/500\n",
      "5/5 [==============================] - 0s 9ms/step - loss: 13528.3018 - mse: 330032416.0000 - val_loss: 32761.1113 - val_mse: 1416624000.0000\n",
      "Epoch 216/500\n",
      "5/5 [==============================] - 0s 9ms/step - loss: 13379.9863 - mse: 327336064.0000 - val_loss: 32736.2324 - val_mse: 1414905600.0000\n",
      "Epoch 217/500\n",
      "5/5 [==============================] - 0s 9ms/step - loss: 13334.7900 - mse: 325686048.0000 - val_loss: 32788.5742 - val_mse: 1418943104.0000\n",
      "Epoch 218/500\n",
      "5/5 [==============================] - 0s 9ms/step - loss: 13344.8096 - mse: 324140736.0000 - val_loss: 32871.3477 - val_mse: 1423154432.0000\n",
      "Epoch 219/500\n",
      "5/5 [==============================] - 0s 10ms/step - loss: 13382.8213 - mse: 324658208.0000 - val_loss: 32742.3457 - val_mse: 1415501952.0000\n",
      "Epoch 220/500\n",
      "5/5 [==============================] - 0s 10ms/step - loss: 13337.2285 - mse: 323470016.0000 - val_loss: 32754.4492 - val_mse: 1416600064.0000\n",
      "Epoch 221/500\n",
      "5/5 [==============================] - 0s 9ms/step - loss: 13399.1133 - mse: 326651552.0000 - val_loss: 32709.2754 - val_mse: 1416854400.0000\n",
      "Epoch 222/500\n",
      "5/5 [==============================] - 0s 10ms/step - loss: 13487.0752 - mse: 331579008.0000 - val_loss: 32749.8379 - val_mse: 1419066624.0000\n",
      "Epoch 223/500\n",
      "5/5 [==============================] - 0s 10ms/step - loss: 13494.4463 - mse: 331599040.0000 - val_loss: 32933.0195 - val_mse: 1438336640.0000\n",
      "Epoch 224/500\n",
      "5/5 [==============================] - 0s 10ms/step - loss: 13405.9727 - mse: 329334656.0000 - val_loss: 33391.7969 - val_mse: 1468670592.0000\n",
      "Epoch 225/500\n",
      "5/5 [==============================] - 0s 10ms/step - loss: 13329.4805 - mse: 324575904.0000 - val_loss: 33553.8828 - val_mse: 1480887808.0000\n",
      "Epoch 226/500\n",
      "5/5 [==============================] - 0s 10ms/step - loss: 13401.7061 - mse: 323770912.0000 - val_loss: 33462.2969 - val_mse: 1474352768.0000\n",
      "Epoch 227/500\n",
      "5/5 [==============================] - 0s 10ms/step - loss: 13420.4639 - mse: 329465408.0000 - val_loss: 33352.6133 - val_mse: 1466402816.0000\n",
      "Epoch 228/500\n",
      "5/5 [==============================] - 0s 10ms/step - loss: 13341.3672 - mse: 327726560.0000 - val_loss: 33026.4102 - val_mse: 1442074368.0000\n",
      "Epoch 229/500\n",
      "5/5 [==============================] - 0s 10ms/step - loss: 13570.4473 - mse: 332944352.0000 - val_loss: 32396.7305 - val_mse: 1397508352.0000\n",
      "Epoch 230/500\n",
      "5/5 [==============================] - 0s 9ms/step - loss: 13464.0039 - mse: 330740576.0000 - val_loss: 32629.1875 - val_mse: 1403588352.0000\n",
      "Epoch 231/500\n",
      "5/5 [==============================] - 0s 9ms/step - loss: 13469.9561 - mse: 328416608.0000 - val_loss: 32621.8398 - val_mse: 1401935232.0000\n",
      "Epoch 232/500\n",
      "5/5 [==============================] - 0s 9ms/step - loss: 13468.1611 - mse: 328605088.0000 - val_loss: 32578.1660 - val_mse: 1399547392.0000\n",
      "Epoch 233/500\n",
      "5/5 [==============================] - 0s 10ms/step - loss: 13403.1533 - mse: 326439328.0000 - val_loss: 32649.6270 - val_mse: 1404193152.0000\n",
      "Epoch 234/500\n",
      "5/5 [==============================] - 0s 10ms/step - loss: 13385.5195 - mse: 326264864.0000 - val_loss: 32750.5508 - val_mse: 1411018752.0000\n",
      "Epoch 235/500\n",
      "5/5 [==============================] - 0s 10ms/step - loss: 13501.8691 - mse: 330789600.0000 - val_loss: 32867.4648 - val_mse: 1417500672.0000\n",
      "Epoch 236/500\n",
      "5/5 [==============================] - 0s 9ms/step - loss: 13380.5322 - mse: 326004288.0000 - val_loss: 32932.3398 - val_mse: 1422757760.0000\n",
      "Epoch 237/500\n",
      "5/5 [==============================] - 0s 9ms/step - loss: 13386.0576 - mse: 326200896.0000 - val_loss: 32894.9609 - val_mse: 1419549952.0000\n",
      "Epoch 238/500\n",
      "5/5 [==============================] - 0s 9ms/step - loss: 13340.5010 - mse: 324891680.0000 - val_loss: 32846.6914 - val_mse: 1415647360.0000\n",
      "Epoch 239/500\n",
      "5/5 [==============================] - 0s 9ms/step - loss: 13370.8623 - mse: 325454752.0000 - val_loss: 32812.7383 - val_mse: 1412835584.0000\n",
      "Epoch 240/500\n",
      "5/5 [==============================] - 0s 10ms/step - loss: 13453.9775 - mse: 328757472.0000 - val_loss: 32841.2695 - val_mse: 1416598912.0000\n",
      "Epoch 241/500\n",
      "5/5 [==============================] - 0s 9ms/step - loss: 13507.5166 - mse: 329654144.0000 - val_loss: 32652.0703 - val_mse: 1400082944.0000\n",
      "Epoch 242/500\n",
      "5/5 [==============================] - 0s 10ms/step - loss: 13415.3027 - mse: 327260896.0000 - val_loss: 31980.0254 - val_mse: 1354223360.0000\n",
      "Epoch 243/500\n",
      "5/5 [==============================] - 0s 10ms/step - loss: 13484.5352 - mse: 330334208.0000 - val_loss: 31549.6836 - val_mse: 1325061248.0000\n",
      "Epoch 244/500\n",
      "5/5 [==============================] - 0s 10ms/step - loss: 13409.5420 - mse: 327575264.0000 - val_loss: 31457.4316 - val_mse: 1318767488.0000\n",
      "Epoch 245/500\n",
      "5/5 [==============================] - 0s 9ms/step - loss: 13431.5654 - mse: 328848896.0000 - val_loss: 31616.6465 - val_mse: 1329085056.0000\n",
      "Epoch 246/500\n",
      "5/5 [==============================] - 0s 10ms/step - loss: 13398.3633 - mse: 327807168.0000 - val_loss: 31837.6797 - val_mse: 1343572608.0000\n",
      "Epoch 247/500\n",
      "5/5 [==============================] - 0s 9ms/step - loss: 13344.7178 - mse: 325771488.0000 - val_loss: 32040.0742 - val_mse: 1356690816.0000\n",
      "Epoch 248/500\n",
      "5/5 [==============================] - 0s 9ms/step - loss: 13295.0215 - mse: 323567488.0000 - val_loss: 32022.3730 - val_mse: 1355143040.0000\n",
      "Epoch 249/500\n",
      "5/5 [==============================] - 0s 10ms/step - loss: 13273.4238 - mse: 323454976.0000 - val_loss: 31922.0410 - val_mse: 1347982208.0000\n",
      "Epoch 250/500\n",
      "5/5 [==============================] - 0s 9ms/step - loss: 13377.6436 - mse: 327660000.0000 - val_loss: 31655.9961 - val_mse: 1330236288.0000\n",
      "Epoch 251/500\n",
      "5/5 [==============================] - 0s 9ms/step - loss: 13313.7100 - mse: 323940096.0000 - val_loss: 31698.1758 - val_mse: 1333171456.0000\n",
      "Epoch 252/500\n",
      "5/5 [==============================] - 0s 10ms/step - loss: 13372.8301 - mse: 327327680.0000 - val_loss: 31808.7129 - val_mse: 1340843136.0000\n",
      "Epoch 253/500\n",
      "5/5 [==============================] - 0s 10ms/step - loss: 13335.8867 - mse: 324625216.0000 - val_loss: 31786.6504 - val_mse: 1339203584.0000\n",
      "Epoch 254/500\n",
      "5/5 [==============================] - 0s 9ms/step - loss: 13316.5986 - mse: 322559872.0000 - val_loss: 32019.1953 - val_mse: 1354198272.0000\n",
      "Epoch 255/500\n",
      "5/5 [==============================] - 0s 9ms/step - loss: 13298.4404 - mse: 324771136.0000 - val_loss: 32042.2129 - val_mse: 1355802624.0000\n",
      "Epoch 256/500\n",
      "5/5 [==============================] - 0s 10ms/step - loss: 13277.2520 - mse: 324786432.0000 - val_loss: 32114.7109 - val_mse: 1360822784.0000\n",
      "Epoch 257/500\n",
      "5/5 [==============================] - 0s 10ms/step - loss: 13326.3340 - mse: 324314528.0000 - val_loss: 32165.4707 - val_mse: 1364278144.0000\n",
      "Epoch 258/500\n",
      "5/5 [==============================] - 0s 10ms/step - loss: 13435.2188 - mse: 328853120.0000 - val_loss: 32126.7227 - val_mse: 1361397120.0000\n",
      "Epoch 259/500\n",
      "5/5 [==============================] - 0s 9ms/step - loss: 13279.9395 - mse: 323181632.0000 - val_loss: 32155.7148 - val_mse: 1363524864.0000\n",
      "Epoch 260/500\n",
      "5/5 [==============================] - 0s 9ms/step - loss: 13374.5137 - mse: 323880288.0000 - val_loss: 31996.9688 - val_mse: 1352058368.0000\n",
      "Epoch 261/500\n",
      "5/5 [==============================] - 0s 9ms/step - loss: 13256.7344 - mse: 320872480.0000 - val_loss: 31868.3672 - val_mse: 1343324928.0000\n",
      "Epoch 262/500\n"
     ]
    },
    {
     "name": "stdout",
     "output_type": "stream",
     "text": [
      "5/5 [==============================] - 0s 9ms/step - loss: 13397.2627 - mse: 328212800.0000 - val_loss: 31753.8086 - val_mse: 1335986432.0000\n",
      "Epoch 263/500\n",
      "5/5 [==============================] - 0s 9ms/step - loss: 13378.3672 - mse: 326330976.0000 - val_loss: 31774.4121 - val_mse: 1337889920.0000\n",
      "Epoch 264/500\n",
      "5/5 [==============================] - 0s 10ms/step - loss: 13348.1357 - mse: 326199008.0000 - val_loss: 31810.6230 - val_mse: 1341048448.0000\n",
      "Epoch 265/500\n",
      "5/5 [==============================] - 0s 9ms/step - loss: 13321.5830 - mse: 326030848.0000 - val_loss: 31791.8105 - val_mse: 1340257536.0000\n",
      "Epoch 266/500\n",
      "5/5 [==============================] - 0s 9ms/step - loss: 13345.9727 - mse: 327309152.0000 - val_loss: 31687.7480 - val_mse: 1333229824.0000\n",
      "Epoch 267/500\n",
      "5/5 [==============================] - 0s 9ms/step - loss: 13376.0938 - mse: 325692288.0000 - val_loss: 31594.5449 - val_mse: 1326762112.0000\n",
      "Epoch 268/500\n",
      "5/5 [==============================] - 0s 9ms/step - loss: 13289.0283 - mse: 322876064.0000 - val_loss: 31661.1211 - val_mse: 1331206272.0000\n",
      "Epoch 269/500\n",
      "5/5 [==============================] - 0s 9ms/step - loss: 13451.9795 - mse: 328561024.0000 - val_loss: 31646.5547 - val_mse: 1330344192.0000\n",
      "Epoch 270/500\n",
      "5/5 [==============================] - 0s 9ms/step - loss: 13498.5010 - mse: 331160736.0000 - val_loss: 31662.3203 - val_mse: 1331722240.0000\n",
      "Epoch 271/500\n",
      "5/5 [==============================] - 0s 10ms/step - loss: 13307.3408 - mse: 322777120.0000 - val_loss: 31666.8926 - val_mse: 1332255872.0000\n",
      "Epoch 272/500\n",
      "5/5 [==============================] - 0s 9ms/step - loss: 13325.4834 - mse: 326823872.0000 - val_loss: 31682.4316 - val_mse: 1333623296.0000\n",
      "Epoch 273/500\n",
      "5/5 [==============================] - 0s 9ms/step - loss: 13278.9414 - mse: 324255712.0000 - val_loss: 31714.5762 - val_mse: 1336107392.0000\n",
      "Epoch 274/500\n",
      "5/5 [==============================] - 0s 9ms/step - loss: 13276.7061 - mse: 325244352.0000 - val_loss: 31639.6348 - val_mse: 1331153792.0000\n",
      "Epoch 275/500\n",
      "5/5 [==============================] - 0s 9ms/step - loss: 13360.6826 - mse: 324075520.0000 - val_loss: 31552.3340 - val_mse: 1325187328.0000\n",
      "Epoch 276/500\n",
      "5/5 [==============================] - 0s 9ms/step - loss: 13322.8926 - mse: 328805600.0000 - val_loss: 31532.4453 - val_mse: 1323693312.0000\n",
      "Epoch 277/500\n",
      "5/5 [==============================] - 0s 10ms/step - loss: 13225.2598 - mse: 321882176.0000 - val_loss: 31575.2383 - val_mse: 1326435584.0000\n",
      "Epoch 278/500\n",
      "5/5 [==============================] - 0s 10ms/step - loss: 13261.3564 - mse: 322793792.0000 - val_loss: 31504.5527 - val_mse: 1321430528.0000\n",
      "Epoch 279/500\n",
      "5/5 [==============================] - 0s 10ms/step - loss: 13276.2959 - mse: 323193664.0000 - val_loss: 31360.5410 - val_mse: 1311518592.0000\n",
      "Epoch 280/500\n",
      "5/5 [==============================] - 0s 10ms/step - loss: 13240.2539 - mse: 324833280.0000 - val_loss: 31462.7461 - val_mse: 1317880960.0000\n",
      "Epoch 281/500\n",
      "5/5 [==============================] - 0s 10ms/step - loss: 13314.8818 - mse: 322689248.0000 - val_loss: 31521.8711 - val_mse: 1320871552.0000\n",
      "Epoch 282/500\n",
      "5/5 [==============================] - 0s 10ms/step - loss: 13150.5518 - mse: 317573536.0000 - val_loss: 31577.7480 - val_mse: 1324436352.0000\n",
      "Epoch 283/500\n",
      "5/5 [==============================] - 0s 10ms/step - loss: 13242.1406 - mse: 321396544.0000 - val_loss: 31651.3164 - val_mse: 1329559680.0000\n",
      "Epoch 284/500\n",
      "5/5 [==============================] - 0s 10ms/step - loss: 13207.2900 - mse: 318985088.0000 - val_loss: 31562.6992 - val_mse: 1323290368.0000\n",
      "Epoch 285/500\n",
      "5/5 [==============================] - 0s 10ms/step - loss: 13189.3740 - mse: 319228704.0000 - val_loss: 31543.2188 - val_mse: 1321302528.0000\n",
      "Epoch 286/500\n",
      "5/5 [==============================] - 0s 10ms/step - loss: 13272.1182 - mse: 321926720.0000 - val_loss: 31770.4199 - val_mse: 1336912128.0000\n",
      "Epoch 287/500\n",
      "5/5 [==============================] - 0s 10ms/step - loss: 13180.3652 - mse: 318501504.0000 - val_loss: 32141.7207 - val_mse: 1365485696.0000\n",
      "Epoch 288/500\n",
      "5/5 [==============================] - 0s 9ms/step - loss: 13413.3535 - mse: 326337152.0000 - val_loss: 31937.9453 - val_mse: 1356612352.0000\n",
      "Epoch 289/500\n",
      "5/5 [==============================] - 0s 10ms/step - loss: 13173.2900 - mse: 318121696.0000 - val_loss: 31914.1992 - val_mse: 1360836224.0000\n",
      "Epoch 290/500\n",
      "5/5 [==============================] - 0s 10ms/step - loss: 13239.7422 - mse: 319755904.0000 - val_loss: 32010.8398 - val_mse: 1366950144.0000\n",
      "Epoch 291/500\n",
      "5/5 [==============================] - 0s 10ms/step - loss: 13299.7344 - mse: 321665504.0000 - val_loss: 31930.8242 - val_mse: 1358299648.0000\n",
      "Epoch 292/500\n",
      "5/5 [==============================] - 0s 10ms/step - loss: 13249.5898 - mse: 320678816.0000 - val_loss: 31853.8555 - val_mse: 1351093504.0000\n",
      "Epoch 293/500\n",
      "5/5 [==============================] - 0s 10ms/step - loss: 13309.5791 - mse: 322603968.0000 - val_loss: 31744.3711 - val_mse: 1342350592.0000\n",
      "Epoch 294/500\n",
      "5/5 [==============================] - 0s 10ms/step - loss: 13247.6475 - mse: 321846400.0000 - val_loss: 31729.6055 - val_mse: 1338665216.0000\n",
      "Epoch 295/500\n",
      "5/5 [==============================] - 0s 10ms/step - loss: 13206.9971 - mse: 321401440.0000 - val_loss: 31868.3379 - val_mse: 1346347392.0000\n",
      "Epoch 296/500\n",
      "5/5 [==============================] - 0s 9ms/step - loss: 13299.8662 - mse: 322706912.0000 - val_loss: 31803.7754 - val_mse: 1341116288.0000\n",
      "Epoch 297/500\n",
      "5/5 [==============================] - 0s 9ms/step - loss: 13235.6367 - mse: 320459424.0000 - val_loss: 31728.3203 - val_mse: 1334502144.0000\n",
      "Epoch 298/500\n",
      "5/5 [==============================] - 0s 9ms/step - loss: 13185.5547 - mse: 318213472.0000 - val_loss: 31737.4922 - val_mse: 1335326080.0000\n",
      "Epoch 299/500\n",
      "5/5 [==============================] - 0s 10ms/step - loss: 13256.2383 - mse: 321896384.0000 - val_loss: 31775.4199 - val_mse: 1338749184.0000\n",
      "Epoch 300/500\n",
      "5/5 [==============================] - 0s 9ms/step - loss: 13233.1553 - mse: 320708480.0000 - val_loss: 31790.0332 - val_mse: 1340609792.0000\n",
      "Epoch 301/500\n",
      "5/5 [==============================] - 0s 10ms/step - loss: 13267.0322 - mse: 321770240.0000 - val_loss: 31795.2363 - val_mse: 1340508544.0000\n",
      "Epoch 302/500\n",
      "5/5 [==============================] - 0s 9ms/step - loss: 13309.4482 - mse: 323611200.0000 - val_loss: 31769.4258 - val_mse: 1338956160.0000\n",
      "Epoch 303/500\n",
      "5/5 [==============================] - 0s 9ms/step - loss: 13290.3057 - mse: 325362848.0000 - val_loss: 31856.1172 - val_mse: 1346012544.0000\n",
      "Epoch 304/500\n",
      "5/5 [==============================] - 0s 9ms/step - loss: 13335.0215 - mse: 323928320.0000 - val_loss: 31840.4648 - val_mse: 1344585984.0000\n",
      "Epoch 305/500\n",
      "5/5 [==============================] - 0s 10ms/step - loss: 13296.3271 - mse: 325223104.0000 - val_loss: 31645.1914 - val_mse: 1328644608.0000\n",
      "Epoch 306/500\n",
      "5/5 [==============================] - 0s 10ms/step - loss: 13266.1699 - mse: 323009280.0000 - val_loss: 31304.7793 - val_mse: 1305646208.0000\n",
      "Epoch 307/500\n",
      "5/5 [==============================] - 0s 9ms/step - loss: 13284.9326 - mse: 322563872.0000 - val_loss: 31018.2930 - val_mse: 1286597888.0000\n",
      "Epoch 308/500\n",
      "5/5 [==============================] - 0s 10ms/step - loss: 13410.9092 - mse: 324802272.0000 - val_loss: 30851.3145 - val_mse: 1272310016.0000\n",
      "Epoch 309/500\n",
      "5/5 [==============================] - 0s 10ms/step - loss: 13225.8066 - mse: 319788768.0000 - val_loss: 30746.8496 - val_mse: 1265419520.0000\n",
      "Epoch 310/500\n",
      "5/5 [==============================] - 0s 10ms/step - loss: 13350.5664 - mse: 322860320.0000 - val_loss: 30588.7754 - val_mse: 1255922944.0000\n",
      "Epoch 311/500\n",
      "5/5 [==============================] - 0s 9ms/step - loss: 13219.8330 - mse: 320635232.0000 - val_loss: 30502.4785 - val_mse: 1251104640.0000\n",
      "Epoch 312/500\n",
      "5/5 [==============================] - 0s 9ms/step - loss: 13316.8535 - mse: 324938848.0000 - val_loss: 30377.8672 - val_mse: 1243711104.0000\n",
      "Epoch 313/500\n",
      "5/5 [==============================] - 0s 11ms/step - loss: 13206.2881 - mse: 323317120.0000 - val_loss: 30048.6465 - val_mse: 1223362432.0000\n",
      "Epoch 314/500\n",
      "5/5 [==============================] - 0s 9ms/step - loss: 13269.9727 - mse: 324335680.0000 - val_loss: 29998.0762 - val_mse: 1220464768.0000\n",
      "Epoch 315/500\n",
      "5/5 [==============================] - 0s 10ms/step - loss: 13369.7070 - mse: 326558080.0000 - val_loss: 30043.6387 - val_mse: 1223630848.0000\n",
      "Epoch 316/500\n",
      "5/5 [==============================] - 0s 11ms/step - loss: 13253.6611 - mse: 325943360.0000 - val_loss: 29825.3223 - val_mse: 1209845888.0000\n",
      "Epoch 317/500\n",
      "5/5 [==============================] - 0s 10ms/step - loss: 13259.2861 - mse: 326114752.0000 - val_loss: 29463.2383 - val_mse: 1187109504.0000\n",
      "Epoch 318/500\n",
      "5/5 [==============================] - 0s 9ms/step - loss: 13297.8359 - mse: 324668224.0000 - val_loss: 29319.8965 - val_mse: 1178004736.0000\n",
      "Epoch 319/500\n",
      "5/5 [==============================] - 0s 10ms/step - loss: 13252.1523 - mse: 321428384.0000 - val_loss: 29195.6445 - val_mse: 1170235520.0000\n",
      "Epoch 320/500\n",
      "5/5 [==============================] - 0s 9ms/step - loss: 13287.4229 - mse: 321250592.0000 - val_loss: 29426.9277 - val_mse: 1184953856.0000\n",
      "Epoch 321/500\n",
      "5/5 [==============================] - 0s 10ms/step - loss: 13163.8340 - mse: 317770144.0000 - val_loss: 29751.8301 - val_mse: 1205352064.0000\n",
      "Epoch 322/500\n",
      "5/5 [==============================] - 0s 9ms/step - loss: 13186.9766 - mse: 320918816.0000 - val_loss: 29875.0176 - val_mse: 1212974720.0000\n",
      "Epoch 323/500\n",
      "5/5 [==============================] - 0s 10ms/step - loss: 13196.1396 - mse: 321063808.0000 - val_loss: 30037.0176 - val_mse: 1223097600.0000\n",
      "Epoch 324/500\n",
      "5/5 [==============================] - 0s 9ms/step - loss: 13179.2559 - mse: 323086592.0000 - val_loss: 29908.4434 - val_mse: 1214772352.0000\n",
      "Epoch 325/500\n",
      "5/5 [==============================] - 0s 9ms/step - loss: 13131.6152 - mse: 322850624.0000 - val_loss: 29835.4297 - val_mse: 1210201856.0000\n",
      "Epoch 326/500\n",
      "5/5 [==============================] - 0s 9ms/step - loss: 13097.0840 - mse: 316105248.0000 - val_loss: 30133.6328 - val_mse: 1229355648.0000\n",
      "Epoch 327/500\n",
      "5/5 [==============================] - 0s 9ms/step - loss: 13171.2979 - mse: 321197088.0000 - val_loss: 30336.6680 - val_mse: 1242370432.0000\n",
      "Epoch 328/500\n",
      "5/5 [==============================] - 0s 9ms/step - loss: 13201.6826 - mse: 319999168.0000 - val_loss: 30549.0742 - val_mse: 1256152320.0000\n",
      "Epoch 329/500\n",
      "5/5 [==============================] - 0s 9ms/step - loss: 13194.2344 - mse: 319493408.0000 - val_loss: 30790.5410 - val_mse: 1272024704.0000\n",
      "Epoch 330/500\n",
      "5/5 [==============================] - 0s 9ms/step - loss: 13138.3945 - mse: 318626176.0000 - val_loss: 30848.4297 - val_mse: 1275777408.0000\n",
      "Epoch 331/500\n",
      "5/5 [==============================] - 0s 10ms/step - loss: 13147.6016 - mse: 317565376.0000 - val_loss: 30839.7676 - val_mse: 1275061760.0000\n",
      "Epoch 332/500\n",
      "5/5 [==============================] - 0s 10ms/step - loss: 13309.0264 - mse: 321087584.0000 - val_loss: 31207.0020 - val_mse: 1299516288.0000\n",
      "Epoch 333/500\n",
      "5/5 [==============================] - 0s 10ms/step - loss: 13217.6553 - mse: 322680288.0000 - val_loss: 31390.3418 - val_mse: 1312388224.0000\n",
      "Epoch 334/500\n",
      "5/5 [==============================] - 0s 10ms/step - loss: 13137.3447 - mse: 317668512.0000 - val_loss: 31618.2305 - val_mse: 1328845568.0000\n",
      "Epoch 335/500\n",
      "5/5 [==============================] - 0s 11ms/step - loss: 13237.7100 - mse: 320984512.0000 - val_loss: 31785.6523 - val_mse: 1341729152.0000\n",
      "Epoch 336/500\n",
      "5/5 [==============================] - 0s 10ms/step - loss: 13251.3809 - mse: 322115296.0000 - val_loss: 31741.6992 - val_mse: 1339156864.0000\n",
      "Epoch 337/500\n",
      "5/5 [==============================] - 0s 9ms/step - loss: 13217.0293 - mse: 319540000.0000 - val_loss: 31449.5723 - val_mse: 1318219776.0000\n",
      "Epoch 338/500\n",
      "5/5 [==============================] - 0s 9ms/step - loss: 13141.4648 - mse: 318603872.0000 - val_loss: 31170.6367 - val_mse: 1297962368.0000\n",
      "Epoch 339/500\n",
      "5/5 [==============================] - 0s 10ms/step - loss: 13123.0000 - mse: 316785376.0000 - val_loss: 31135.5625 - val_mse: 1295163008.0000\n",
      "Epoch 340/500\n",
      "5/5 [==============================] - 0s 9ms/step - loss: 13086.8320 - mse: 316916320.0000 - val_loss: 31160.5645 - val_mse: 1296520576.0000\n",
      "Epoch 341/500\n",
      "5/5 [==============================] - 0s 9ms/step - loss: 13128.0381 - mse: 319908000.0000 - val_loss: 31107.8633 - val_mse: 1292838528.0000\n",
      "Epoch 342/500\n",
      "5/5 [==============================] - 0s 10ms/step - loss: 13210.6826 - mse: 320738464.0000 - val_loss: 30998.0586 - val_mse: 1285458816.0000\n",
      "Epoch 343/500\n",
      "5/5 [==============================] - 0s 9ms/step - loss: 13113.5840 - mse: 316683072.0000 - val_loss: 30997.0371 - val_mse: 1285147008.0000\n",
      "Epoch 344/500\n",
      "5/5 [==============================] - 0s 9ms/step - loss: 13133.6084 - mse: 317820864.0000 - val_loss: 31177.4180 - val_mse: 1297969408.0000\n",
      "Epoch 345/500\n",
      "5/5 [==============================] - 0s 10ms/step - loss: 13045.0273 - mse: 312189632.0000 - val_loss: 31170.6211 - val_mse: 1298073472.0000\n",
      "Epoch 346/500\n",
      "5/5 [==============================] - 0s 10ms/step - loss: 13134.2217 - mse: 318954464.0000 - val_loss: 31239.5039 - val_mse: 1302645120.0000\n",
      "Epoch 347/500\n",
      "5/5 [==============================] - 0s 10ms/step - loss: 13153.4453 - mse: 318487936.0000 - val_loss: 31123.5332 - val_mse: 1294726272.0000\n",
      "Epoch 348/500\n",
      "5/5 [==============================] - 0s 9ms/step - loss: 13064.7686 - mse: 316481120.0000 - val_loss: 30954.4648 - val_mse: 1282920448.0000\n",
      "Epoch 349/500\n",
      "5/5 [==============================] - 0s 10ms/step - loss: 13083.5752 - mse: 314394208.0000 - val_loss: 30893.1699 - val_mse: 1278495616.0000\n",
      "Epoch 350/500\n",
      "5/5 [==============================] - 0s 9ms/step - loss: 13244.7725 - mse: 323901824.0000 - val_loss: 30885.9121 - val_mse: 1277718528.0000\n",
      "Epoch 351/500\n",
      "5/5 [==============================] - 0s 10ms/step - loss: 13087.7266 - mse: 316015680.0000 - val_loss: 31281.0684 - val_mse: 1305749632.0000\n",
      "Epoch 352/500\n",
      "5/5 [==============================] - 0s 9ms/step - loss: 13085.3447 - mse: 315724736.0000 - val_loss: 31526.3086 - val_mse: 1334457472.0000\n",
      "Epoch 353/500\n",
      "5/5 [==============================] - 0s 9ms/step - loss: 13096.4404 - mse: 316654752.0000 - val_loss: 32426.1250 - val_mse: 1394500992.0000\n",
      "Epoch 354/500\n",
      "5/5 [==============================] - 0s 9ms/step - loss: 13163.2852 - mse: 314804384.0000 - val_loss: 32658.2754 - val_mse: 1407430400.0000\n",
      "Epoch 355/500\n",
      "5/5 [==============================] - 0s 9ms/step - loss: 13100.3730 - mse: 316348832.0000 - val_loss: 32759.4004 - val_mse: 1412836096.0000\n",
      "Epoch 356/500\n",
      "5/5 [==============================] - 0s 9ms/step - loss: 13142.9248 - mse: 317925760.0000 - val_loss: 32845.5430 - val_mse: 1419759872.0000\n",
      "Epoch 357/500\n",
      "5/5 [==============================] - 0s 10ms/step - loss: 13211.4639 - mse: 319328960.0000 - val_loss: 32223.3633 - val_mse: 1383126784.0000\n",
      "Epoch 358/500\n",
      "5/5 [==============================] - 0s 10ms/step - loss: 13102.3066 - mse: 314043232.0000 - val_loss: 30823.9746 - val_mse: 1302154752.0000\n",
      "Epoch 359/500\n",
      "5/5 [==============================] - 0s 10ms/step - loss: 13116.2363 - mse: 314849760.0000 - val_loss: 32097.3789 - val_mse: 1373747584.0000\n",
      "Epoch 360/500\n",
      "5/5 [==============================] - 0s 9ms/step - loss: 13120.5840 - mse: 315661216.0000 - val_loss: 32860.6328 - val_mse: 1419437440.0000\n",
      "Epoch 361/500\n",
      "5/5 [==============================] - 0s 9ms/step - loss: 13183.9219 - mse: 320522848.0000 - val_loss: 32948.7422 - val_mse: 1424545664.0000\n",
      "Epoch 362/500\n",
      "5/5 [==============================] - 0s 9ms/step - loss: 12990.0049 - mse: 312331904.0000 - val_loss: 32938.5781 - val_mse: 1429293696.0000\n",
      "Epoch 363/500\n",
      "5/5 [==============================] - 0s 10ms/step - loss: 13118.7832 - mse: 316185312.0000 - val_loss: 32814.1250 - val_mse: 1424124288.0000\n",
      "Epoch 364/500\n",
      "5/5 [==============================] - 0s 9ms/step - loss: 13158.3408 - mse: 317277216.0000 - val_loss: 32544.6367 - val_mse: 1409296512.0000\n",
      "Epoch 365/500\n",
      "5/5 [==============================] - 0s 10ms/step - loss: 13123.7646 - mse: 318263008.0000 - val_loss: 31686.5098 - val_mse: 1338497280.0000\n",
      "Epoch 366/500\n"
     ]
    },
    {
     "name": "stdout",
     "output_type": "stream",
     "text": [
      "5/5 [==============================] - 0s 10ms/step - loss: 13237.5664 - mse: 322683008.0000 - val_loss: 31723.5293 - val_mse: 1335423232.0000\n",
      "Epoch 367/500\n",
      "5/5 [==============================] - 0s 9ms/step - loss: 13164.9736 - mse: 320269408.0000 - val_loss: 31086.5508 - val_mse: 1289975424.0000\n",
      "Epoch 368/500\n",
      "5/5 [==============================] - 0s 9ms/step - loss: 13184.5596 - mse: 318973856.0000 - val_loss: 30481.5566 - val_mse: 1248824064.0000\n",
      "Epoch 369/500\n",
      "5/5 [==============================] - 0s 10ms/step - loss: 13124.0469 - mse: 318217696.0000 - val_loss: 30514.5449 - val_mse: 1250929920.0000\n",
      "Epoch 370/500\n",
      "5/5 [==============================] - 0s 9ms/step - loss: 13120.0469 - mse: 320146944.0000 - val_loss: 30092.4258 - val_mse: 1223886464.0000\n",
      "Epoch 371/500\n",
      "5/5 [==============================] - 0s 9ms/step - loss: 13008.9531 - mse: 312869824.0000 - val_loss: 29963.0117 - val_mse: 1215554432.0000\n",
      "Epoch 372/500\n",
      "5/5 [==============================] - 0s 9ms/step - loss: 13077.2295 - mse: 314410272.0000 - val_loss: 30372.8145 - val_mse: 1242032640.0000\n",
      "Epoch 373/500\n",
      "5/5 [==============================] - 0s 9ms/step - loss: 13094.2803 - mse: 318666912.0000 - val_loss: 30461.0703 - val_mse: 1247986304.0000\n",
      "Epoch 374/500\n",
      "5/5 [==============================] - 0s 9ms/step - loss: 13043.4209 - mse: 315532288.0000 - val_loss: 30594.2871 - val_mse: 1256918528.0000\n",
      "Epoch 375/500\n",
      "5/5 [==============================] - 0s 10ms/step - loss: 13035.6094 - mse: 315795200.0000 - val_loss: 30824.5645 - val_mse: 1272146560.0000\n",
      "Epoch 376/500\n",
      "5/5 [==============================] - 0s 10ms/step - loss: 12992.9268 - mse: 313223040.0000 - val_loss: 30673.5645 - val_mse: 1262206720.0000\n",
      "Epoch 377/500\n",
      "5/5 [==============================] - 0s 9ms/step - loss: 13127.5654 - mse: 316736384.0000 - val_loss: 30309.0039 - val_mse: 1238238848.0000\n",
      "Epoch 378/500\n",
      "5/5 [==============================] - 0s 9ms/step - loss: 13041.3926 - mse: 316251872.0000 - val_loss: 30482.7754 - val_mse: 1249667712.0000\n",
      "Epoch 379/500\n",
      "5/5 [==============================] - 0s 10ms/step - loss: 13029.1777 - mse: 314602400.0000 - val_loss: 30772.0703 - val_mse: 1268870016.0000\n",
      "Epoch 380/500\n",
      "5/5 [==============================] - 0s 9ms/step - loss: 13075.1338 - mse: 317960448.0000 - val_loss: 30960.5605 - val_mse: 1281795456.0000\n",
      "Epoch 381/500\n",
      "5/5 [==============================] - 0s 9ms/step - loss: 13025.8691 - mse: 314431232.0000 - val_loss: 30621.3730 - val_mse: 1259061760.0000\n",
      "Epoch 382/500\n",
      "5/5 [==============================] - 0s 10ms/step - loss: 12993.8506 - mse: 312494272.0000 - val_loss: 30383.0664 - val_mse: 1243312128.0000\n",
      "Epoch 383/500\n",
      "5/5 [==============================] - 0s 9ms/step - loss: 12991.7363 - mse: 314027840.0000 - val_loss: 30142.5312 - val_mse: 1227432064.0000\n",
      "Epoch 384/500\n",
      "5/5 [==============================] - 0s 10ms/step - loss: 12962.8848 - mse: 315094336.0000 - val_loss: 29989.1172 - val_mse: 1217434112.0000\n",
      "Epoch 385/500\n",
      "5/5 [==============================] - 0s 9ms/step - loss: 13001.5371 - mse: 315287104.0000 - val_loss: 29880.4355 - val_mse: 1210224640.0000\n",
      "Epoch 386/500\n",
      "5/5 [==============================] - 0s 11ms/step - loss: 13027.6309 - mse: 314058592.0000 - val_loss: 29737.2070 - val_mse: 1201169920.0000\n",
      "Epoch 387/500\n",
      "5/5 [==============================] - 0s 9ms/step - loss: 13020.9443 - mse: 316184064.0000 - val_loss: 29849.4766 - val_mse: 1208183168.0000\n",
      "Epoch 388/500\n",
      "5/5 [==============================] - 0s 9ms/step - loss: 13034.9424 - mse: 315232544.0000 - val_loss: 29925.7090 - val_mse: 1212872064.0000\n",
      "Epoch 389/500\n",
      "5/5 [==============================] - 0s 9ms/step - loss: 13086.3086 - mse: 316370464.0000 - val_loss: 30170.3516 - val_mse: 1228362240.0000\n",
      "Epoch 390/500\n",
      "5/5 [==============================] - 0s 9ms/step - loss: 13079.2549 - mse: 315334176.0000 - val_loss: 30800.9453 - val_mse: 1269885824.0000\n",
      "Epoch 391/500\n",
      "5/5 [==============================] - 0s 9ms/step - loss: 13182.6152 - mse: 317740704.0000 - val_loss: 31335.3379 - val_mse: 1305505024.0000\n",
      "Epoch 392/500\n",
      "5/5 [==============================] - 0s 9ms/step - loss: 13235.1982 - mse: 322993056.0000 - val_loss: 31949.0176 - val_mse: 1350371968.0000\n",
      "Epoch 393/500\n",
      "5/5 [==============================] - 0s 9ms/step - loss: 13211.6865 - mse: 321606880.0000 - val_loss: 31818.0508 - val_mse: 1347307008.0000\n",
      "Epoch 394/500\n",
      "5/5 [==============================] - 0s 10ms/step - loss: 13242.7383 - mse: 320843648.0000 - val_loss: 31950.4141 - val_mse: 1358227840.0000\n",
      "Epoch 395/500\n",
      "5/5 [==============================] - 0s 9ms/step - loss: 13270.4746 - mse: 321014496.0000 - val_loss: 32270.2676 - val_mse: 1386331392.0000\n",
      "Epoch 396/500\n",
      "5/5 [==============================] - 0s 9ms/step - loss: 13308.2021 - mse: 323726560.0000 - val_loss: 32728.0059 - val_mse: 1421927552.0000\n",
      "Epoch 397/500\n",
      "5/5 [==============================] - 0s 11ms/step - loss: 13322.8564 - mse: 325247200.0000 - val_loss: 32889.2930 - val_mse: 1434177664.0000\n",
      "Epoch 398/500\n",
      "5/5 [==============================] - 0s 10ms/step - loss: 13309.7100 - mse: 324175648.0000 - val_loss: 33109.1406 - val_mse: 1445883520.0000\n",
      "Epoch 399/500\n",
      "5/5 [==============================] - 0s 9ms/step - loss: 13268.9170 - mse: 321949984.0000 - val_loss: 33316.1953 - val_mse: 1453766784.0000\n",
      "Epoch 400/500\n",
      "5/5 [==============================] - 0s 9ms/step - loss: 13216.7393 - mse: 320184512.0000 - val_loss: 33346.7891 - val_mse: 1450529280.0000\n",
      "Epoch 401/500\n",
      "5/5 [==============================] - 0s 9ms/step - loss: 13292.3242 - mse: 323917600.0000 - val_loss: 32571.8008 - val_mse: 1398821248.0000\n",
      "Epoch 402/500\n",
      "5/5 [==============================] - 0s 10ms/step - loss: 13267.1758 - mse: 322770208.0000 - val_loss: 29433.1738 - val_mse: 1216099584.0000\n",
      "Epoch 403/500\n",
      "5/5 [==============================] - 0s 10ms/step - loss: 13334.5439 - mse: 326073056.0000 - val_loss: 27211.8926 - val_mse: 1078988928.0000\n",
      "Epoch 404/500\n",
      "5/5 [==============================] - 0s 11ms/step - loss: 13418.2383 - mse: 327132576.0000 - val_loss: 25904.5449 - val_mse: 1004915712.0000\n",
      "Epoch 405/500\n",
      "5/5 [==============================] - 0s 11ms/step - loss: 13242.1816 - mse: 322748800.0000 - val_loss: 25710.8086 - val_mse: 993611392.0000\n",
      "Epoch 406/500\n",
      "5/5 [==============================] - 0s 10ms/step - loss: 13224.9170 - mse: 320429536.0000 - val_loss: 24762.2734 - val_mse: 938051392.0000\n",
      "Epoch 407/500\n",
      "5/5 [==============================] - 0s 10ms/step - loss: 13223.1436 - mse: 318969888.0000 - val_loss: 23244.3203 - val_mse: 847738048.0000\n",
      "Epoch 408/500\n",
      "5/5 [==============================] - 0s 10ms/step - loss: 13228.8291 - mse: 319298272.0000 - val_loss: 22666.2188 - val_mse: 814260928.0000\n",
      "Epoch 409/500\n",
      "5/5 [==============================] - 0s 9ms/step - loss: 13342.2070 - mse: 323794272.0000 - val_loss: 22479.9277 - val_mse: 805138304.0000\n",
      "Epoch 410/500\n",
      "5/5 [==============================] - 0s 9ms/step - loss: 13247.4082 - mse: 323179552.0000 - val_loss: 24816.1074 - val_mse: 942508992.0000\n",
      "Epoch 411/500\n",
      "5/5 [==============================] - 0s 10ms/step - loss: 13120.4736 - mse: 316408096.0000 - val_loss: 25116.0879 - val_mse: 961239616.0000\n",
      "Epoch 412/500\n",
      "5/5 [==============================] - 0s 9ms/step - loss: 13154.2119 - mse: 317970016.0000 - val_loss: 23195.1992 - val_mse: 848688256.0000\n",
      "Epoch 413/500\n",
      "5/5 [==============================] - 0s 9ms/step - loss: 13145.6299 - mse: 316244544.0000 - val_loss: 21844.5176 - val_mse: 772266304.0000\n",
      "Epoch 414/500\n",
      "5/5 [==============================] - 0s 9ms/step - loss: 13331.8623 - mse: 326406080.0000 - val_loss: 22895.0273 - val_mse: 830350272.0000\n",
      "Epoch 415/500\n",
      "5/5 [==============================] - 0s 9ms/step - loss: 13090.8887 - mse: 317931616.0000 - val_loss: 25671.4551 - val_mse: 991274560.0000\n",
      "Epoch 416/500\n",
      "5/5 [==============================] - 0s 9ms/step - loss: 13355.8867 - mse: 325956576.0000 - val_loss: 23897.0410 - val_mse: 892426560.0000\n",
      "Epoch 417/500\n",
      "5/5 [==============================] - 0s 9ms/step - loss: 13141.3252 - mse: 317123936.0000 - val_loss: 22026.9043 - val_mse: 784362624.0000\n",
      "Epoch 418/500\n",
      "5/5 [==============================] - 0s 11ms/step - loss: 13273.8369 - mse: 323803168.0000 - val_loss: 19541.9785 - val_mse: 641896256.0000\n",
      "Epoch 419/500\n",
      "5/5 [==============================] - 0s 9ms/step - loss: 13199.3701 - mse: 318676960.0000 - val_loss: 18691.9102 - val_mse: 576993728.0000\n",
      "Epoch 420/500\n",
      "5/5 [==============================] - 0s 9ms/step - loss: 13308.1445 - mse: 320338400.0000 - val_loss: 18566.6016 - val_mse: 566846400.0000\n",
      "Epoch 421/500\n",
      "5/5 [==============================] - 0s 9ms/step - loss: 13444.6553 - mse: 326826784.0000 - val_loss: 17678.1758 - val_mse: 504912768.0000\n",
      "Epoch 422/500\n",
      "5/5 [==============================] - 0s 10ms/step - loss: 13190.1348 - mse: 318796544.0000 - val_loss: 18243.0039 - val_mse: 537882240.0000\n",
      "Epoch 423/500\n",
      "5/5 [==============================] - 0s 9ms/step - loss: 13262.0996 - mse: 321052672.0000 - val_loss: 20932.2754 - val_mse: 724579008.0000\n",
      "Epoch 424/500\n",
      "5/5 [==============================] - 0s 10ms/step - loss: 13222.5117 - mse: 322159008.0000 - val_loss: 27942.4004 - val_mse: 1122695552.0000\n",
      "Epoch 425/500\n",
      "5/5 [==============================] - 0s 10ms/step - loss: 13202.9023 - mse: 320838400.0000 - val_loss: 32241.8301 - val_mse: 1378630528.0000\n",
      "Epoch 426/500\n",
      "5/5 [==============================] - 0s 9ms/step - loss: 13134.8691 - mse: 316198816.0000 - val_loss: 33029.0547 - val_mse: 1428074624.0000\n",
      "Epoch 427/500\n",
      "5/5 [==============================] - 0s 9ms/step - loss: 13117.1494 - mse: 316148160.0000 - val_loss: 33261.8633 - val_mse: 1447195904.0000\n",
      "Epoch 428/500\n",
      "5/5 [==============================] - 0s 9ms/step - loss: 13065.8291 - mse: 316343072.0000 - val_loss: 33343.4180 - val_mse: 1455430016.0000\n",
      "Epoch 429/500\n",
      "5/5 [==============================] - 0s 10ms/step - loss: 13098.9355 - mse: 318022336.0000 - val_loss: 33374.3984 - val_mse: 1458589952.0000\n",
      "Epoch 430/500\n",
      "5/5 [==============================] - 0s 10ms/step - loss: 13104.2080 - mse: 320158720.0000 - val_loss: 33489.3086 - val_mse: 1460238592.0000\n",
      "Epoch 431/500\n",
      "5/5 [==============================] - ETA: 0s - loss: 12667.6260 - mse: 295653600.000 - 0s 10ms/step - loss: 13148.0791 - mse: 320214272.0000 - val_loss: 33493.5391 - val_mse: 1457887104.0000\n",
      "Epoch 432/500\n",
      "5/5 [==============================] - 0s 10ms/step - loss: 13053.8115 - mse: 316901184.0000 - val_loss: 33453.0742 - val_mse: 1455916672.0000\n",
      "Epoch 433/500\n",
      "5/5 [==============================] - 0s 10ms/step - loss: 13108.3535 - mse: 319289376.0000 - val_loss: 33361.5586 - val_mse: 1448982400.0000\n",
      "Epoch 434/500\n",
      "5/5 [==============================] - 0s 9ms/step - loss: 13039.0820 - mse: 314888000.0000 - val_loss: 33298.4727 - val_mse: 1442681600.0000\n",
      "Epoch 435/500\n",
      "5/5 [==============================] - 0s 10ms/step - loss: 13178.8340 - mse: 320563328.0000 - val_loss: 33452.6523 - val_mse: 1456451968.0000\n",
      "Epoch 436/500\n",
      "5/5 [==============================] - 0s 10ms/step - loss: 13081.8770 - mse: 320259968.0000 - val_loss: 33549.9219 - val_mse: 1468374784.0000\n",
      "Epoch 437/500\n",
      "5/5 [==============================] - 0s 10ms/step - loss: 13048.2773 - mse: 317407712.0000 - val_loss: 33586.6094 - val_mse: 1474956544.0000\n",
      "Epoch 438/500\n",
      "5/5 [==============================] - 0s 10ms/step - loss: 13247.4785 - mse: 323044800.0000 - val_loss: 33662.6055 - val_mse: 1482133248.0000\n",
      "Epoch 439/500\n",
      "5/5 [==============================] - 0s 10ms/step - loss: 13062.6787 - mse: 316925344.0000 - val_loss: 33586.7031 - val_mse: 1478967296.0000\n",
      "Epoch 440/500\n",
      "5/5 [==============================] - 0s 10ms/step - loss: 13011.3818 - mse: 316479104.0000 - val_loss: 32920.0234 - val_mse: 1427791872.0000\n",
      "Epoch 441/500\n",
      "5/5 [==============================] - 0s 10ms/step - loss: 13092.1074 - mse: 319068864.0000 - val_loss: 32369.9141 - val_mse: 1378968704.0000\n",
      "Epoch 442/500\n",
      "5/5 [==============================] - 0s 10ms/step - loss: 13155.6484 - mse: 321714176.0000 - val_loss: 31724.8457 - val_mse: 1334660864.0000\n",
      "Epoch 443/500\n",
      "5/5 [==============================] - 0s 10ms/step - loss: 13019.9287 - mse: 316193536.0000 - val_loss: 31481.8574 - val_mse: 1316434688.0000\n",
      "Epoch 444/500\n",
      "5/5 [==============================] - 0s 10ms/step - loss: 13108.4131 - mse: 319288000.0000 - val_loss: 31073.7715 - val_mse: 1288038528.0000\n",
      "Epoch 445/500\n",
      "5/5 [==============================] - 0s 10ms/step - loss: 12970.1289 - mse: 314858944.0000 - val_loss: 31021.7266 - val_mse: 1284775296.0000\n",
      "Epoch 446/500\n",
      "5/5 [==============================] - 0s 10ms/step - loss: 13031.3232 - mse: 316833920.0000 - val_loss: 31360.3730 - val_mse: 1309399936.0000\n",
      "Epoch 447/500\n",
      "5/5 [==============================] - 0s 10ms/step - loss: 13029.0674 - mse: 316893312.0000 - val_loss: 31816.2637 - val_mse: 1341859328.0000\n",
      "Epoch 448/500\n",
      "5/5 [==============================] - 0s 10ms/step - loss: 13142.5742 - mse: 320871136.0000 - val_loss: 32060.4297 - val_mse: 1363202048.0000\n",
      "Epoch 449/500\n",
      "5/5 [==============================] - 0s 10ms/step - loss: 13098.7217 - mse: 320209472.0000 - val_loss: 32226.3828 - val_mse: 1381932928.0000\n",
      "Epoch 450/500\n",
      "5/5 [==============================] - 0s 11ms/step - loss: 13058.9043 - mse: 316402208.0000 - val_loss: 33169.8867 - val_mse: 1451890304.0000\n",
      "Epoch 451/500\n",
      "5/5 [==============================] - 0s 11ms/step - loss: 13023.0283 - mse: 313895712.0000 - val_loss: 33384.6602 - val_mse: 1459361920.0000\n",
      "Epoch 452/500\n",
      "5/5 [==============================] - 0s 11ms/step - loss: 13079.1143 - mse: 319946464.0000 - val_loss: 33379.5078 - val_mse: 1454161408.0000\n",
      "Epoch 453/500\n",
      "5/5 [==============================] - 0s 10ms/step - loss: 12956.2568 - mse: 312783424.0000 - val_loss: 33086.2422 - val_mse: 1435611648.0000\n",
      "Epoch 454/500\n",
      "5/5 [==============================] - 0s 10ms/step - loss: 13091.6299 - mse: 318747104.0000 - val_loss: 32741.4824 - val_mse: 1413552256.0000\n",
      "Epoch 455/500\n",
      "5/5 [==============================] - 0s 10ms/step - loss: 13034.9443 - mse: 316942368.0000 - val_loss: 33091.5977 - val_mse: 1435373184.0000\n",
      "Epoch 456/500\n",
      "5/5 [==============================] - 0s 11ms/step - loss: 13043.9502 - mse: 316112736.0000 - val_loss: 33289.8320 - val_mse: 1448781952.0000\n",
      "Epoch 457/500\n",
      "5/5 [==============================] - 0s 10ms/step - loss: 13056.7998 - mse: 316273248.0000 - val_loss: 33314.0156 - val_mse: 1454540032.0000\n",
      "Epoch 458/500\n",
      "5/5 [==============================] - 0s 10ms/step - loss: 13102.1768 - mse: 315538272.0000 - val_loss: 33104.1094 - val_mse: 1446541440.0000\n",
      "Epoch 459/500\n",
      "5/5 [==============================] - 0s 9ms/step - loss: 13001.1465 - mse: 314676896.0000 - val_loss: 32863.6914 - val_mse: 1429567872.0000\n",
      "Epoch 460/500\n",
      "5/5 [==============================] - 0s 10ms/step - loss: 13075.6172 - mse: 317085792.0000 - val_loss: 32305.1270 - val_mse: 1386893056.0000\n",
      "Epoch 461/500\n",
      "5/5 [==============================] - 0s 10ms/step - loss: 12957.5469 - mse: 313375264.0000 - val_loss: 31784.5039 - val_mse: 1348914944.0000\n",
      "Epoch 462/500\n",
      "5/5 [==============================] - 0s 10ms/step - loss: 13127.9570 - mse: 318825920.0000 - val_loss: 31573.4375 - val_mse: 1330353792.0000\n",
      "Epoch 463/500\n",
      "5/5 [==============================] - 0s 10ms/step - loss: 12991.1025 - mse: 314689184.0000 - val_loss: 31702.6484 - val_mse: 1335903872.0000\n",
      "Epoch 464/500\n",
      "5/5 [==============================] - 0s 10ms/step - loss: 12982.9561 - mse: 314432224.0000 - val_loss: 31418.0996 - val_mse: 1314383232.0000\n",
      "Epoch 465/500\n",
      "5/5 [==============================] - 0s 9ms/step - loss: 13008.1504 - mse: 315112288.0000 - val_loss: 31205.1133 - val_mse: 1299248768.0000\n",
      "Epoch 466/500\n",
      "5/5 [==============================] - 0s 10ms/step - loss: 12915.7793 - mse: 313537152.0000 - val_loss: 31117.0039 - val_mse: 1293353728.0000\n",
      "Epoch 467/500\n",
      "5/5 [==============================] - 0s 10ms/step - loss: 13055.7773 - mse: 317735808.0000 - val_loss: 31368.9863 - val_mse: 1310088448.0000\n",
      "Epoch 468/500\n",
      "5/5 [==============================] - 0s 10ms/step - loss: 13087.8232 - mse: 317622400.0000 - val_loss: 31894.5371 - val_mse: 1346520192.0000\n",
      "Epoch 469/500\n",
      "5/5 [==============================] - 0s 10ms/step - loss: 13039.2090 - mse: 315709408.0000 - val_loss: 32340.7207 - val_mse: 1382486912.0000\n",
      "Epoch 470/500\n"
     ]
    },
    {
     "name": "stdout",
     "output_type": "stream",
     "text": [
      "5/5 [==============================] - 0s 10ms/step - loss: 13009.1445 - mse: 315929248.0000 - val_loss: 32184.2207 - val_mse: 1371617408.0000\n",
      "Epoch 471/500\n",
      "5/5 [==============================] - 0s 10ms/step - loss: 12933.9766 - mse: 312633792.0000 - val_loss: 31975.7227 - val_mse: 1357285760.0000\n",
      "Epoch 472/500\n",
      "5/5 [==============================] - 0s 10ms/step - loss: 12969.9180 - mse: 312371840.0000 - val_loss: 31678.3379 - val_mse: 1336248192.0000\n",
      "Epoch 473/500\n",
      "5/5 [==============================] - 0s 10ms/step - loss: 13042.5674 - mse: 315185152.0000 - val_loss: 31533.5742 - val_mse: 1322303488.0000\n",
      "Epoch 474/500\n",
      "5/5 [==============================] - 0s 9ms/step - loss: 12936.0117 - mse: 313065856.0000 - val_loss: 31604.5625 - val_mse: 1326199040.0000\n",
      "Epoch 475/500\n",
      "5/5 [==============================] - 0s 10ms/step - loss: 12974.9697 - mse: 313690784.0000 - val_loss: 31764.4453 - val_mse: 1343115520.0000\n",
      "Epoch 476/500\n",
      "5/5 [==============================] - 0s 9ms/step - loss: 12892.2393 - mse: 310198656.0000 - val_loss: 31681.6504 - val_mse: 1338158592.0000\n",
      "Epoch 477/500\n",
      "5/5 [==============================] - 0s 10ms/step - loss: 12976.0117 - mse: 313862112.0000 - val_loss: 31438.4121 - val_mse: 1319857536.0000\n",
      "Epoch 478/500\n",
      "5/5 [==============================] - 0s 10ms/step - loss: 12941.6602 - mse: 314761408.0000 - val_loss: 30671.3145 - val_mse: 1263199872.0000\n",
      "Epoch 479/500\n",
      "5/5 [==============================] - 0s 9ms/step - loss: 13072.0205 - mse: 315927104.0000 - val_loss: 30245.7812 - val_mse: 1234717568.0000\n",
      "Epoch 480/500\n",
      "5/5 [==============================] - 0s 10ms/step - loss: 13013.1846 - mse: 316356896.0000 - val_loss: 28772.9258 - val_mse: 1140032512.0000\n",
      "Epoch 481/500\n",
      "5/5 [==============================] - 0s 10ms/step - loss: 12937.0996 - mse: 313852192.0000 - val_loss: 28566.3301 - val_mse: 1127060096.0000\n",
      "Epoch 482/500\n",
      "5/5 [==============================] - 0s 10ms/step - loss: 13092.1963 - mse: 317407648.0000 - val_loss: 28436.5859 - val_mse: 1119516288.0000\n",
      "Epoch 483/500\n",
      "5/5 [==============================] - 0s 10ms/step - loss: 12968.9863 - mse: 313314016.0000 - val_loss: 28641.7266 - val_mse: 1131928192.0000\n",
      "Epoch 484/500\n",
      "5/5 [==============================] - 0s 9ms/step - loss: 13131.4717 - mse: 320476160.0000 - val_loss: 28822.8340 - val_mse: 1143359488.0000\n",
      "Epoch 485/500\n",
      "5/5 [==============================] - 0s 10ms/step - loss: 12998.8760 - mse: 315504192.0000 - val_loss: 29087.1992 - val_mse: 1160126720.0000\n",
      "Epoch 486/500\n",
      "5/5 [==============================] - 0s 10ms/step - loss: 12976.4443 - mse: 313116128.0000 - val_loss: 29010.2422 - val_mse: 1155852672.0000\n",
      "Epoch 487/500\n",
      "5/5 [==============================] - 0s 10ms/step - loss: 13005.2891 - mse: 313415136.0000 - val_loss: 28959.9199 - val_mse: 1152420992.0000\n",
      "Epoch 488/500\n",
      "5/5 [==============================] - 0s 9ms/step - loss: 12923.9443 - mse: 311702080.0000 - val_loss: 28671.4766 - val_mse: 1134083712.0000\n",
      "Epoch 489/500\n",
      "5/5 [==============================] - 0s 11ms/step - loss: 12976.2529 - mse: 315220320.0000 - val_loss: 28574.5117 - val_mse: 1128108160.0000\n",
      "Epoch 490/500\n",
      "5/5 [==============================] - 0s 10ms/step - loss: 12994.8740 - mse: 317075904.0000 - val_loss: 29563.1426 - val_mse: 1190664320.0000\n",
      "Epoch 491/500\n",
      "5/5 [==============================] - 0s 10ms/step - loss: 12903.0547 - mse: 311859296.0000 - val_loss: 29768.6914 - val_mse: 1206711424.0000\n",
      "Epoch 492/500\n",
      "5/5 [==============================] - 0s 10ms/step - loss: 12944.7891 - mse: 308775424.0000 - val_loss: 30799.9551 - val_mse: 1277689344.0000\n",
      "Epoch 493/500\n",
      "5/5 [==============================] - 0s 10ms/step - loss: 13074.0488 - mse: 316069408.0000 - val_loss: 31405.7305 - val_mse: 1320225536.0000\n",
      "Epoch 494/500\n",
      "5/5 [==============================] - 0s 10ms/step - loss: 12948.4033 - mse: 312225632.0000 - val_loss: 32132.9277 - val_mse: 1376022912.0000\n",
      "Epoch 495/500\n",
      "5/5 [==============================] - 0s 10ms/step - loss: 12992.1064 - mse: 313183136.0000 - val_loss: 32637.1172 - val_mse: 1412473728.0000\n",
      "Epoch 496/500\n",
      "5/5 [==============================] - 0s 10ms/step - loss: 13007.9346 - mse: 313557632.0000 - val_loss: 32872.5391 - val_mse: 1432753408.0000\n",
      "Epoch 497/500\n",
      "5/5 [==============================] - 0s 10ms/step - loss: 12947.0762 - mse: 313960320.0000 - val_loss: 32605.0078 - val_mse: 1412281088.0000\n",
      "Epoch 498/500\n",
      "5/5 [==============================] - 0s 10ms/step - loss: 12966.2471 - mse: 311216960.0000 - val_loss: 32041.1367 - val_mse: 1370849152.0000\n",
      "Epoch 499/500\n",
      "5/5 [==============================] - 0s 10ms/step - loss: 12932.4951 - mse: 311440256.0000 - val_loss: 31986.1035 - val_mse: 1367164288.0000\n",
      "Epoch 500/500\n",
      "5/5 [==============================] - 0s 9ms/step - loss: 13040.8643 - mse: 318017888.0000 - val_loss: 31849.7793 - val_mse: 1357483136.0000\n"
     ]
    },
    {
     "data": {
      "text/plain": [
       "<tensorflow.python.keras.callbacks.History at 0x2a41dfa8d88>"
      ]
     },
     "execution_count": 337,
     "metadata": {},
     "output_type": "execute_result"
    }
   ],
   "source": [
    "model.fit(\n",
    "    Xt[:-30],\n",
    "    yt[:-30],\n",
    "    validation_data=(np.log(Xt[-30:] + 1), yt[-30:]),\n",
    "    epochs=500,\n",
    "    batch_size=256,\n",
    "    )"
   ]
  },
  {
   "cell_type": "code",
   "execution_count": 338,
   "metadata": {},
   "outputs": [
    {
     "data": {
      "text/plain": [
       "[<matplotlib.lines.Line2D at 0x2a41e011648>]"
      ]
     },
     "execution_count": 338,
     "metadata": {},
     "output_type": "execute_result"
    },
    {
     "data": {
      "image/png": "[encoded data removed]",
      "text/plain": [
       "<Figure size 432x288 with 1 Axes>"
      ]
     },
     "metadata": {
      "needs_background": "light"
     },
     "output_type": "display_data"
    }
   ],
   "source": [
    "plt.plot(model.history.history['loss'])\n",
    "plt.plot(model.history.history['val_loss'])\n"
   ]
  },
  {
   "cell_type": "code",
   "execution_count": 339,
   "metadata": {},
   "outputs": [],
   "source": [
    "y_pred = model.predict(Xt[-30:])\n",
    "\n",
    "# plt.plot(y_pred[:,0])\n",
    "# plt.plot(y['CashIn'].values[-30:])"
   ]
  },
  {
   "cell_type": "code",
   "execution_count": 341,
   "metadata": {},
   "outputs": [
    {
     "data": {
      "text/plain": [
       "'C:\\\\Users\\\\berk_\\\\OneDrive\\\\JWorkspace\\\\Yusu\\\\adem\\\\codefirst.io'"
      ]
     },
     "execution_count": 341,
     "metadata": {},
     "output_type": "execute_result"
    }
   ],
   "source": [
    "pwd"
   ]
  },
  {
   "cell_type": "code",
   "execution_count": 340,
   "metadata": {
    "scrolled": true
   },
   "outputs": [
    {
     "data": {
      "text/plain": [
       "[<matplotlib.lines.Line2D at 0x2a41df8cb88>]"
      ]
     },
     "execution_count": 340,
     "metadata": {},
     "output_type": "execute_result"
    },
    {
     "data": {
      "image/png": "[encoded data removed]",
      "text/plain": [
       "<Figure size 432x288 with 1 Axes>"
      ]
     },
     "metadata": {
      "needs_background": "light"
     },
     "output_type": "display_data"
    }
   ],
   "source": [
    "plt.plot([metrics.r2_score(yt.iloc[-30:, i], y_pred[:,i]) for i in range(0, y_pred.shape[1], 2)])\n",
    "plt.plot([metrics.r2_score(yt.iloc[-30:, i], y_pred[:,i]) for i in range(1, y_pred.shape[1], 2)])\n"
   ]
  },
  {
   "cell_type": "code",
   "execution_count": 325,
   "metadata": {},
   "outputs": [
    {
     "data": {
      "text/plain": [
       "[<matplotlib.lines.Line2D at 0x2a416399d48>]"
      ]
     },
     "execution_count": 325,
     "metadata": {},
     "output_type": "execute_result"
    },
    {
     "data": {
      "image/png": "[encoded data removed]",
      "text/plain": [
       "<Figure size 432x288 with 1 Axes>"
      ]
     },
     "metadata": {
      "needs_background": "light"
     },
     "output_type": "display_data"
    }
   ],
   "source": [
    "yt['CashIn'].loc[30].plot()\n",
    "plt.plot(y_pred[0,0::2])"
   ]
  },
  {
   "cell_type": "code",
   "execution_count": 293,
   "metadata": {},
   "outputs": [
    {
     "data": {
      "text/plain": [
       "(30, 60)"
      ]
     },
     "execution_count": 293,
     "metadata": {},
     "output_type": "execute_result"
    }
   ],
   "source": [
    "y_pred.shape"
   ]
  },
  {
   "cell_type": "code",
   "execution_count": null,
   "metadata": {},
   "outputs": [],
   "source": []
  },
  {
   "cell_type": "code",
   "execution_count": null,
   "metadata": {},
   "outputs": [],
   "source": []
  },
  {
   "cell_type": "code",
   "execution_count": 541,
   "metadata": {
    "scrolled": true
   },
   "outputs": [
    {
     "name": "stderr",
     "output_type": "stream",
     "text": [
      "c:\\users\\berk_\\appdata\\local\\programs\\python\\python37\\lib\\site-packages\\statsmodels\\tsa\\base\\tsa_model.py:165: ValueWarning: No frequency information was provided, so inferred frequency D will be used.\n",
      "  % freq, ValueWarning)\n",
      "c:\\users\\berk_\\appdata\\local\\programs\\python\\python37\\lib\\site-packages\\statsmodels\\base\\model.py:512: ConvergenceWarning: Maximum Likelihood optimization failed to converge. Check mle_retvals\n",
      "  \"Check mle_retvals\", ConvergenceWarning)\n"
     ]
    },
    {
     "data": {
      "text/plain": [
       "-1.6387344967683553"
      ]
     },
     "execution_count": 541,
     "metadata": {},
     "output_type": "execute_result"
    }
   ],
   "source": [
    "BACK = -28\n",
    "exog = ml_pipe_Arma.fit_transform(X.iloc[:BACK])\n",
    "endog = y['CashIn'].to_frame().set_index(df['Date'])['CashIn'].iloc[:BACK]\n",
    "model = sm.tsa.SARIMAX(\n",
    "    endog=endog,\n",
    "    exog=exog,\n",
    "    order=(3,0,3),\n",
    "    seasonal_order=(0,0,0,7))\n",
    "result = model.fit()\n",
    "\n",
    "y_pred = result.predict(start=df.iloc[BACK:]['Date'].min(), end=df.iloc[BACK:]['Date'].max(),\n",
    "               exog=ml_pipe_Arma.transform(X.iloc[BACK:])\n",
    "              )\n",
    "\n",
    "metrics.r2_score(\n",
    "    y.set_index(df['Date']).iloc[BACK:]['CashIn'].resample(\"W\").sum(),\n",
    "    y_pred.resample(\"W\").sum(),\n",
    ")"
   ]
  },
  {
   "cell_type": "code",
   "execution_count": 545,
   "metadata": {},
   "outputs": [
    {
     "data": {
      "text/plain": [
       "<matplotlib.axes._subplots.AxesSubplot at 0x20a73119508>"
      ]
     },
     "execution_count": 545,
     "metadata": {},
     "output_type": "execute_result"
    },
    {
     "data": {
      "image/png": "[encoded data removed]",
      "text/plain": [
       "<Figure size 432x288 with 1 Axes>"
      ]
     },
     "metadata": {
      "needs_background": "light"
     },
     "output_type": "display_data"
    }
   ],
   "source": [
    "y.set_index(df['Date']).iloc[BACK:]['CashIn'].plot()\n",
    "y_pred.plot()"
   ]
  },
  {
   "cell_type": "code",
   "execution_count": 543,
   "metadata": {},
   "outputs": [
    {
     "data": {
      "text/plain": [
       "2019-03-10    281248.915554\n",
       "2019-03-17    280886.343747\n",
       "2019-03-24    272103.443882\n",
       "2019-03-31    274372.541322\n",
       "Freq: W-SUN, dtype: float64"
      ]
     },
     "execution_count": 543,
     "metadata": {},
     "output_type": "execute_result"
    }
   ],
   "source": [
    "y_pred.resample(\"W\").sum()"
   ]
  },
  {
   "cell_type": "code",
   "execution_count": 505,
   "metadata": {},
   "outputs": [
    {
     "data": {
      "text/plain": [
       "0       53\n",
       "1       53\n",
       "2       53\n",
       "3        1\n",
       "4        1\n",
       "        ..\n",
       "1181    13\n",
       "1182    13\n",
       "1183    13\n",
       "1184    13\n",
       "1185    13\n",
       "Name: Date, Length: 1186, dtype: int64"
      ]
     },
     "execution_count": 505,
     "metadata": {},
     "output_type": "execute_result"
    }
   ],
   "source": [
    "df['Date'].dt.week"
   ]
  },
  {
   "cell_type": "code",
   "execution_count": 515,
   "metadata": {},
   "outputs": [],
   "source": [
    "percents = (dfX.iloc[-37:-30].groupby('WeekDay')['CashIn'].sum() \\\n",
    "    / dfX.iloc[-37:-30]['CashIn'].sum())"
   ]
  },
  {
   "cell_type": "code",
   "execution_count": 517,
   "metadata": {},
   "outputs": [],
   "source": [
    "weekly = y_pred.resample(\"W\").sum()"
   ]
  },
  {
   "cell_type": "code",
   "execution_count": 523,
   "metadata": {},
   "outputs": [
    {
     "data": {
      "text/plain": [
       "2019-03-03     66929.937025\n",
       "2019-03-10    310543.692183\n",
       "2019-03-17    306621.531362\n",
       "2019-03-24    294703.381479\n",
       "2019-03-31    294188.659090\n",
       "Freq: W-SUN, dtype: float64"
      ]
     },
     "execution_count": 523,
     "metadata": {},
     "output_type": "execute_result"
    }
   ],
   "source": [
    "weekly"
   ]
  },
  {
   "cell_type": "code",
   "execution_count": 524,
   "metadata": {},
   "outputs": [
    {
     "data": {
      "text/plain": [
       "WeekDay\n",
       "0    0.212771\n",
       "1    0.175428\n",
       "2    0.108923\n",
       "3    0.117556\n",
       "4    0.167313\n",
       "5    0.161558\n",
       "6    0.056450\n",
       "Name: CashIn, dtype: float64"
      ]
     },
     "execution_count": 524,
     "metadata": {},
     "output_type": "execute_result"
    }
   ],
   "source": [
    "percents"
   ]
  },
  {
   "cell_type": "code",
   "execution_count": 529,
   "metadata": {},
   "outputs": [
    {
     "data": {
      "text/html": [
       "<div>\n",
       "<style scoped>\n",
       "    .dataframe tbody tr th:only-of-type {\n",
       "        vertical-align: middle;\n",
       "    }\n",
       "\n",
       "    .dataframe tbody tr th {\n",
       "        vertical-align: top;\n",
       "    }\n",
       "\n",
       "    .dataframe thead th {\n",
       "        text-align: right;\n",
       "    }\n",
       "</style>\n",
       "<table border=\"1\" class=\"dataframe\">\n",
       "  <thead>\n",
       "    <tr style=\"text-align: right;\">\n",
       "      <th></th>\n",
       "      <th>CashIn</th>\n",
       "    </tr>\n",
       "    <tr>\n",
       "      <th>WeekDay</th>\n",
       "      <th></th>\n",
       "    </tr>\n",
       "  </thead>\n",
       "  <tbody>\n",
       "    <tr>\n",
       "      <td>0</td>\n",
       "      <td>0.212771</td>\n",
       "    </tr>\n",
       "    <tr>\n",
       "      <td>1</td>\n",
       "      <td>0.175428</td>\n",
       "    </tr>\n",
       "    <tr>\n",
       "      <td>2</td>\n",
       "      <td>0.108923</td>\n",
       "    </tr>\n",
       "    <tr>\n",
       "      <td>3</td>\n",
       "      <td>0.117556</td>\n",
       "    </tr>\n",
       "    <tr>\n",
       "      <td>4</td>\n",
       "      <td>0.167313</td>\n",
       "    </tr>\n",
       "    <tr>\n",
       "      <td>5</td>\n",
       "      <td>0.161558</td>\n",
       "    </tr>\n",
       "    <tr>\n",
       "      <td>6</td>\n",
       "      <td>0.056450</td>\n",
       "    </tr>\n",
       "  </tbody>\n",
       "</table>\n",
       "</div>"
      ],
      "text/plain": [
       "           CashIn\n",
       "WeekDay          \n",
       "0        0.212771\n",
       "1        0.175428\n",
       "2        0.108923\n",
       "3        0.117556\n",
       "4        0.167313\n",
       "5        0.161558\n",
       "6        0.056450"
      ]
     },
     "execution_count": 529,
     "metadata": {},
     "output_type": "execute_result"
    }
   ],
   "source": [
    "percents.to_frame()"
   ]
  },
  {
   "cell_type": "code",
   "execution_count": null,
   "metadata": {},
   "outputs": [],
   "source": []
  }
 ],
 "metadata": {
  "kernelspec": {
   "display_name": "Python 3",
   "language": "python",
   "name": "python3"
  },
  "language_info": {
   "codemirror_mode": {
    "name": "ipython",
    "version": 3
   },
   "file_extension": ".py",
   "mimetype": "text/x-python",
   "name": "python",
   "nbconvert_exporter": "python",
   "pygments_lexer": "ipython3",
   "version": "3.7.4"
  }
 },
 "nbformat": 4,
 "nbformat_minor": 2
}
